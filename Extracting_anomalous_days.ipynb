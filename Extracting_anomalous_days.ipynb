{
  "nbformat": 4,
  "nbformat_minor": 0,
  "metadata": {
    "colab": {
      "provenance": []
    },
    "kernelspec": {
      "name": "python3",
      "display_name": "Python 3"
    },
    "language_info": {
      "name": "python"
    },
    "accelerator": "TPU"
  },
  "cells": [
    {
      "cell_type": "markdown",
      "source": [
        "#Detecting Anomaly"
      ],
      "metadata": {
        "id": "4i4ZyyBQVB24"
      }
    },
    {
      "cell_type": "code",
      "execution_count": null,
      "metadata": {
        "id": "1SGc_hmUUqtW",
        "colab": {
          "base_uri": "https://localhost:8080/",
          "height": 1000
        },
        "outputId": "f76b6a2f-6446-4744-99be-22853342a791"
      },
      "outputs": [
        {
          "output_type": "stream",
          "name": "stdout",
          "text": [
            "Looking in indexes: https://pypi.org/simple, https://us-python.pkg.dev/colab-wheels/public/simple/\n",
            "Collecting orion-ml\n",
            "  Downloading orion_ml-0.3.2-py2.py3-none-any.whl (106 kB)\n",
            "\u001b[K     |████████████████████████████████| 106 kB 9.3 MB/s \n",
            "\u001b[?25hCollecting s3fs<0.5,>=0.2.2\n",
            "  Downloading s3fs-0.4.2-py3-none-any.whl (19 kB)\n",
            "Collecting xlsxwriter>=1.3.6<1.4\n",
            "  Downloading XlsxWriter-3.0.3-py3-none-any.whl (149 kB)\n",
            "\u001b[K     |████████████████████████████████| 149 kB 23.0 MB/s \n",
            "\u001b[?25hRequirement already satisfied: protobuf<4 in /usr/local/lib/python3.7/dist-packages (from orion-ml) (3.17.3)\n",
            "Collecting scikit-learn<0.21,>=0.20.1\n",
            "  Downloading scikit_learn-0.20.4-cp37-cp37m-manylinux1_x86_64.whl (5.4 MB)\n",
            "\u001b[K     |████████████████████████████████| 5.4 MB 26.7 MB/s \n",
            "\u001b[?25hCollecting azure-cognitiveservices-anomalydetector<0.4,>=0.3\n",
            "  Downloading azure_cognitiveservices_anomalydetector-0.3.0-py2.py3-none-any.whl (15 kB)\n",
            "Collecting numpy<1.17,>=1.16\n",
            "  Downloading numpy-1.16.6-cp37-cp37m-manylinux1_x86_64.whl (17.3 MB)\n",
            "\u001b[K     |████████████████████████████████| 17.3 MB 59.0 MB/s \n",
            "\u001b[?25hCollecting mlblocks<0.4,>=0.3.3\n",
            "  Downloading mlblocks-0.3.4-py2.py3-none-any.whl (26 kB)\n",
            "Collecting pyts<0.11,>=0.9\n",
            "  Downloading pyts-0.10.0-py3-none-any.whl (2.5 MB)\n",
            "\u001b[K     |████████████████████████████████| 2.5 MB 46.6 MB/s \n",
            "\u001b[?25hCollecting h5py<2.11.0,>=2.10.0\n",
            "  Downloading h5py-2.10.0-cp37-cp37m-manylinux1_x86_64.whl (2.9 MB)\n",
            "\u001b[K     |████████████████████████████████| 2.9 MB 38.8 MB/s \n",
            "\u001b[?25hCollecting Keras<2.4,>=2.1.6\n",
            "  Downloading Keras-2.3.1-py2.py3-none-any.whl (377 kB)\n",
            "\u001b[K     |████████████████████████████████| 377 kB 52.7 MB/s \n",
            "\u001b[?25hCollecting mlprimitives<0.3,>=0.2.2\n",
            "  Downloading mlprimitives-0.2.5-py2.py3-none-any.whl (180 kB)\n",
            "\u001b[K     |████████████████████████████████| 180 kB 57.4 MB/s \n",
            "\u001b[?25hRequirement already satisfied: tabulate<0.9,>=0.8.3 in /usr/local/lib/python3.7/dist-packages (from orion-ml) (0.8.10)\n",
            "Collecting numba<0.52,>=0.48\n",
            "  Downloading numba-0.51.2-cp37-cp37m-manylinux2014_x86_64.whl (3.1 MB)\n",
            "\u001b[K     |████████████████████████████████| 3.1 MB 48.5 MB/s \n",
            "\u001b[?25hCollecting pandas<0.25,>=0.23.4\n",
            "  Downloading pandas-0.24.2-cp37-cp37m-manylinux1_x86_64.whl (10.1 MB)\n",
            "\u001b[K     |████████████████████████████████| 10.1 MB 47.6 MB/s \n",
            "\u001b[?25hCollecting azure-common~=1.1\n",
            "  Downloading azure_common-1.1.28-py2.py3-none-any.whl (14 kB)\n",
            "Collecting msrest>=0.5.0\n",
            "  Downloading msrest-0.7.1-py3-none-any.whl (85 kB)\n",
            "\u001b[K     |████████████████████████████████| 85 kB 4.6 MB/s \n",
            "\u001b[?25hRequirement already satisfied: six in /usr/local/lib/python3.7/dist-packages (from h5py<2.11.0,>=2.10.0->orion-ml) (1.15.0)\n",
            "Requirement already satisfied: scipy>=0.14 in /usr/local/lib/python3.7/dist-packages (from Keras<2.4,>=2.1.6->orion-ml) (1.7.3)\n",
            "Requirement already satisfied: keras-preprocessing>=1.0.5 in /usr/local/lib/python3.7/dist-packages (from Keras<2.4,>=2.1.6->orion-ml) (1.1.2)\n",
            "Collecting keras-applications>=1.0.6\n",
            "  Downloading Keras_Applications-1.0.8-py3-none-any.whl (50 kB)\n",
            "\u001b[K     |████████████████████████████████| 50 kB 7.2 MB/s \n",
            "\u001b[?25hRequirement already satisfied: pyyaml in /usr/local/lib/python3.7/dist-packages (from Keras<2.4,>=2.1.6->orion-ml) (6.0)\n",
            "Collecting scikit-image!=0.14.3,<0.15,>=0.13.1\n",
            "  Downloading scikit_image-0.14.5-cp37-cp37m-manylinux1_x86_64.whl (25.4 MB)\n",
            "\u001b[K     |████████████████████████████████| 25.4 MB 1.3 MB/s \n",
            "\u001b[?25hCollecting tensorflow<2,>=1.11.0\n",
            "  Downloading tensorflow-1.15.5-cp37-cp37m-manylinux2010_x86_64.whl (110.5 MB)\n",
            "\u001b[K     |████████████████████████████████| 110.5 MB 1.5 kB/s \n",
            "\u001b[?25hRequirement already satisfied: opencv-python<5,>=3.4.0.12 in /usr/local/lib/python3.7/dist-packages (from mlprimitives<0.3,>=0.2.2->orion-ml) (4.6.0.66)\n",
            "Collecting python-louvain<0.14,>=0.10\n",
            "  Downloading python-louvain-0.13.tar.gz (18 kB)\n",
            "Requirement already satisfied: setuptools>=41.0.0 in /usr/local/lib/python3.7/dist-packages (from mlprimitives<0.3,>=0.2.2->orion-ml) (57.4.0)\n",
            "Requirement already satisfied: networkx<3,>=2.0 in /usr/local/lib/python3.7/dist-packages (from mlprimitives<0.3,>=0.2.2->orion-ml) (2.6.3)\n",
            "Collecting featuretools<0.12,>=0.6.1\n",
            "  Downloading featuretools-0.11.0-py3-none-any.whl (240 kB)\n",
            "\u001b[K     |████████████████████████████████| 240 kB 55.7 MB/s \n",
            "\u001b[?25hRequirement already satisfied: statsmodels<1,>=0.9.0 in /usr/local/lib/python3.7/dist-packages (from mlprimitives<0.3,>=0.2.2->orion-ml) (0.12.2)\n",
            "Collecting docutils<0.16,>=0.10\n",
            "  Downloading docutils-0.15.2-py3-none-any.whl (547 kB)\n",
            "\u001b[K     |████████████████████████████████| 547 kB 56.6 MB/s \n",
            "\u001b[?25hCollecting iso639<0.2,>=0.1.4\n",
            "  Downloading iso639-0.1.4.tar.gz (11 kB)\n",
            "Collecting langdetect<2,>=1.0.7\n",
            "  Downloading langdetect-1.0.9.tar.gz (981 kB)\n",
            "\u001b[K     |████████████████████████████████| 981 kB 51.6 MB/s \n",
            "\u001b[?25hCollecting lightfm<2,>=1.15\n",
            "  Downloading lightfm-1.16.tar.gz (310 kB)\n",
            "\u001b[K     |████████████████████████████████| 310 kB 67.5 MB/s \n",
            "\u001b[?25hRequirement already satisfied: nltk<4,>=3.3 in /usr/local/lib/python3.7/dist-packages (from mlprimitives<0.3,>=0.2.2->orion-ml) (3.7)\n",
            "Requirement already satisfied: xgboost<1,>=0.72.1 in /usr/local/lib/python3.7/dist-packages (from mlprimitives<0.3,>=0.2.2->orion-ml) (0.90)\n",
            "Requirement already satisfied: tqdm>=4.32.0 in /usr/local/lib/python3.7/dist-packages (from featuretools<0.12,>=0.6.1->mlprimitives<0.3,>=0.2.2->orion-ml) (4.64.1)\n",
            "Requirement already satisfied: future>=0.16.0 in /usr/local/lib/python3.7/dist-packages (from featuretools<0.12,>=0.6.1->mlprimitives<0.3,>=0.2.2->orion-ml) (0.16.0)\n",
            "Requirement already satisfied: click>=7.0.0 in /usr/local/lib/python3.7/dist-packages (from featuretools<0.12,>=0.6.1->mlprimitives<0.3,>=0.2.2->orion-ml) (7.1.2)\n",
            "Requirement already satisfied: distributed>=1.24.2 in /usr/local/lib/python3.7/dist-packages (from featuretools<0.12,>=0.6.1->mlprimitives<0.3,>=0.2.2->orion-ml) (2022.2.0)\n",
            "Requirement already satisfied: cloudpickle>=0.4.0 in /usr/local/lib/python3.7/dist-packages (from featuretools<0.12,>=0.6.1->mlprimitives<0.3,>=0.2.2->orion-ml) (1.5.0)\n",
            "Requirement already satisfied: smart-open>=1.8.4 in /usr/local/lib/python3.7/dist-packages (from featuretools<0.12,>=0.6.1->mlprimitives<0.3,>=0.2.2->orion-ml) (5.2.1)\n",
            "Requirement already satisfied: psutil>=5.4.8 in /usr/local/lib/python3.7/dist-packages (from featuretools<0.12,>=0.6.1->mlprimitives<0.3,>=0.2.2->orion-ml) (5.4.8)\n",
            "Requirement already satisfied: dask>=1.1.0 in /usr/local/lib/python3.7/dist-packages (from featuretools<0.12,>=0.6.1->mlprimitives<0.3,>=0.2.2->orion-ml) (2022.2.0)\n",
            "Requirement already satisfied: toolz>=0.8.2 in /usr/local/lib/python3.7/dist-packages (from dask>=1.1.0->featuretools<0.12,>=0.6.1->mlprimitives<0.3,>=0.2.2->orion-ml) (0.12.0)\n",
            "Requirement already satisfied: partd>=0.3.10 in /usr/local/lib/python3.7/dist-packages (from dask>=1.1.0->featuretools<0.12,>=0.6.1->mlprimitives<0.3,>=0.2.2->orion-ml) (1.3.0)\n",
            "Requirement already satisfied: fsspec>=0.6.0 in /usr/local/lib/python3.7/dist-packages (from dask>=1.1.0->featuretools<0.12,>=0.6.1->mlprimitives<0.3,>=0.2.2->orion-ml) (2022.8.2)\n",
            "Requirement already satisfied: packaging>=20.0 in /usr/local/lib/python3.7/dist-packages (from dask>=1.1.0->featuretools<0.12,>=0.6.1->mlprimitives<0.3,>=0.2.2->orion-ml) (21.3)\n",
            "Requirement already satisfied: tornado>=5 in /usr/local/lib/python3.7/dist-packages (from distributed>=1.24.2->featuretools<0.12,>=0.6.1->mlprimitives<0.3,>=0.2.2->orion-ml) (5.1.1)\n",
            "Requirement already satisfied: msgpack>=0.6.0 in /usr/local/lib/python3.7/dist-packages (from distributed>=1.24.2->featuretools<0.12,>=0.6.1->mlprimitives<0.3,>=0.2.2->orion-ml) (1.0.4)\n",
            "Requirement already satisfied: zict>=0.1.3 in /usr/local/lib/python3.7/dist-packages (from distributed>=1.24.2->featuretools<0.12,>=0.6.1->mlprimitives<0.3,>=0.2.2->orion-ml) (2.2.0)\n",
            "Requirement already satisfied: jinja2 in /usr/local/lib/python3.7/dist-packages (from distributed>=1.24.2->featuretools<0.12,>=0.6.1->mlprimitives<0.3,>=0.2.2->orion-ml) (2.11.3)\n",
            "Requirement already satisfied: tblib>=1.6.0 in /usr/local/lib/python3.7/dist-packages (from distributed>=1.24.2->featuretools<0.12,>=0.6.1->mlprimitives<0.3,>=0.2.2->orion-ml) (1.7.0)\n",
            "Requirement already satisfied: sortedcontainers!=2.0.0,!=2.0.1 in /usr/local/lib/python3.7/dist-packages (from distributed>=1.24.2->featuretools<0.12,>=0.6.1->mlprimitives<0.3,>=0.2.2->orion-ml) (2.4.0)\n",
            "Requirement already satisfied: requests in /usr/local/lib/python3.7/dist-packages (from lightfm<2,>=1.15->mlprimitives<0.3,>=0.2.2->orion-ml) (2.28.1)\n",
            "Requirement already satisfied: certifi>=2017.4.17 in /usr/local/lib/python3.7/dist-packages (from msrest>=0.5.0->azure-cognitiveservices-anomalydetector<0.4,>=0.3->orion-ml) (2022.6.15)\n",
            "Requirement already satisfied: requests-oauthlib>=0.5.0 in /usr/local/lib/python3.7/dist-packages (from msrest>=0.5.0->azure-cognitiveservices-anomalydetector<0.4,>=0.3->orion-ml) (1.3.1)\n",
            "Collecting azure-core>=1.24.0\n",
            "  Downloading azure_core-1.25.1-py3-none-any.whl (178 kB)\n",
            "\u001b[K     |████████████████████████████████| 178 kB 64.9 MB/s \n",
            "\u001b[?25hCollecting isodate>=0.6.0\n",
            "  Downloading isodate-0.6.1-py2.py3-none-any.whl (41 kB)\n",
            "\u001b[K     |████████████████████████████████| 41 kB 667 kB/s \n",
            "\u001b[?25hRequirement already satisfied: typing-extensions>=4.0.1 in /usr/local/lib/python3.7/dist-packages (from azure-core>=1.24.0->msrest>=0.5.0->azure-cognitiveservices-anomalydetector<0.4,>=0.3->orion-ml) (4.1.1)\n",
            "Requirement already satisfied: joblib in /usr/local/lib/python3.7/dist-packages (from nltk<4,>=3.3->mlprimitives<0.3,>=0.2.2->orion-ml) (1.1.0)\n",
            "Requirement already satisfied: regex>=2021.8.3 in /usr/local/lib/python3.7/dist-packages (from nltk<4,>=3.3->mlprimitives<0.3,>=0.2.2->orion-ml) (2022.6.2)\n",
            "Collecting llvmlite<0.35,>=0.34.0.dev0\n",
            "  Downloading llvmlite-0.34.0-cp37-cp37m-manylinux2010_x86_64.whl (24.6 MB)\n",
            "\u001b[K     |████████████████████████████████| 24.6 MB 1.3 MB/s \n",
            "\u001b[?25hRequirement already satisfied: pyparsing!=3.0.5,>=2.0.2 in /usr/local/lib/python3.7/dist-packages (from packaging>=20.0->dask>=1.1.0->featuretools<0.12,>=0.6.1->mlprimitives<0.3,>=0.2.2->orion-ml) (3.0.9)\n",
            "Requirement already satisfied: pytz>=2011k in /usr/local/lib/python3.7/dist-packages (from pandas<0.25,>=0.23.4->orion-ml) (2022.2.1)\n",
            "Requirement already satisfied: python-dateutil>=2.5.0 in /usr/local/lib/python3.7/dist-packages (from pandas<0.25,>=0.23.4->orion-ml) (2.8.2)\n",
            "Requirement already satisfied: locket in /usr/local/lib/python3.7/dist-packages (from partd>=0.3.10->dask>=1.1.0->featuretools<0.12,>=0.6.1->mlprimitives<0.3,>=0.2.2->orion-ml) (1.0.0)\n",
            "Requirement already satisfied: idna<4,>=2.5 in /usr/local/lib/python3.7/dist-packages (from requests->lightfm<2,>=1.15->mlprimitives<0.3,>=0.2.2->orion-ml) (2.10)\n",
            "Requirement already satisfied: urllib3<1.27,>=1.21.1 in /usr/local/lib/python3.7/dist-packages (from requests->lightfm<2,>=1.15->mlprimitives<0.3,>=0.2.2->orion-ml) (1.24.3)\n",
            "Requirement already satisfied: charset-normalizer<3,>=2 in /usr/local/lib/python3.7/dist-packages (from requests->lightfm<2,>=1.15->mlprimitives<0.3,>=0.2.2->orion-ml) (2.1.1)\n",
            "Requirement already satisfied: oauthlib>=3.0.0 in /usr/local/lib/python3.7/dist-packages (from requests-oauthlib>=0.5.0->msrest>=0.5.0->azure-cognitiveservices-anomalydetector<0.4,>=0.3->orion-ml) (3.2.0)\n",
            "Collecting botocore>=1.12.91\n",
            "  Downloading botocore-1.27.85-py3-none-any.whl (9.2 MB)\n",
            "\u001b[K     |████████████████████████████████| 9.2 MB 60.1 MB/s \n",
            "\u001b[?25hCollecting urllib3<1.27,>=1.21.1\n",
            "  Downloading urllib3-1.26.12-py2.py3-none-any.whl (140 kB)\n",
            "\u001b[K     |████████████████████████████████| 140 kB 75.9 MB/s \n",
            "\u001b[?25hCollecting jmespath<2.0.0,>=0.7.1\n",
            "  Downloading jmespath-1.0.1-py3-none-any.whl (20 kB)\n",
            "Requirement already satisfied: pillow>=4.3.0 in /usr/local/lib/python3.7/dist-packages (from scikit-image!=0.14.3,<0.15,>=0.13.1->mlprimitives<0.3,>=0.2.2->orion-ml) (7.1.2)\n",
            "Requirement already satisfied: PyWavelets>=0.4.0 in /usr/local/lib/python3.7/dist-packages (from scikit-image!=0.14.3,<0.15,>=0.13.1->mlprimitives<0.3,>=0.2.2->orion-ml) (1.3.0)\n",
            "Requirement already satisfied: matplotlib>=2.0.0 in /usr/local/lib/python3.7/dist-packages (from scikit-image!=0.14.3,<0.15,>=0.13.1->mlprimitives<0.3,>=0.2.2->orion-ml) (3.2.2)\n",
            "Requirement already satisfied: kiwisolver>=1.0.1 in /usr/local/lib/python3.7/dist-packages (from matplotlib>=2.0.0->scikit-image!=0.14.3,<0.15,>=0.13.1->mlprimitives<0.3,>=0.2.2->orion-ml) (1.4.4)\n",
            "Requirement already satisfied: cycler>=0.10 in /usr/local/lib/python3.7/dist-packages (from matplotlib>=2.0.0->scikit-image!=0.14.3,<0.15,>=0.13.1->mlprimitives<0.3,>=0.2.2->orion-ml) (0.11.0)\n",
            "Collecting PyWavelets>=0.4.0\n",
            "  Downloading PyWavelets-1.2.0-cp37-cp37m-manylinux_2_5_x86_64.manylinux1_x86_64.whl (6.1 MB)\n",
            "\u001b[K     |████████████████████████████████| 6.1 MB 59.0 MB/s \n",
            "\u001b[?25h  Downloading PyWavelets-1.1.1-cp37-cp37m-manylinux1_x86_64.whl (4.4 MB)\n",
            "\u001b[K     |████████████████████████████████| 4.4 MB 55.1 MB/s \n",
            "\u001b[?25hRequirement already satisfied: patsy>=0.5 in /usr/local/lib/python3.7/dist-packages (from statsmodels<1,>=0.9.0->mlprimitives<0.3,>=0.2.2->orion-ml) (0.5.2)\n",
            "Requirement already satisfied: grpcio>=1.8.6 in /usr/local/lib/python3.7/dist-packages (from tensorflow<2,>=1.11.0->mlprimitives<0.3,>=0.2.2->orion-ml) (1.48.1)\n",
            "Requirement already satisfied: astor>=0.6.0 in /usr/local/lib/python3.7/dist-packages (from tensorflow<2,>=1.11.0->mlprimitives<0.3,>=0.2.2->orion-ml) (0.8.1)\n",
            "Collecting gast==0.2.2\n",
            "  Downloading gast-0.2.2.tar.gz (10 kB)\n",
            "Requirement already satisfied: google-pasta>=0.1.6 in /usr/local/lib/python3.7/dist-packages (from tensorflow<2,>=1.11.0->mlprimitives<0.3,>=0.2.2->orion-ml) (0.2.0)\n",
            "Requirement already satisfied: opt-einsum>=2.3.2 in /usr/local/lib/python3.7/dist-packages (from tensorflow<2,>=1.11.0->mlprimitives<0.3,>=0.2.2->orion-ml) (3.3.0)\n",
            "Requirement already satisfied: absl-py>=0.7.0 in /usr/local/lib/python3.7/dist-packages (from tensorflow<2,>=1.11.0->mlprimitives<0.3,>=0.2.2->orion-ml) (1.2.0)\n",
            "Requirement already satisfied: termcolor>=1.1.0 in /usr/local/lib/python3.7/dist-packages (from tensorflow<2,>=1.11.0->mlprimitives<0.3,>=0.2.2->orion-ml) (1.1.0)\n",
            "Collecting tensorboard<1.16.0,>=1.15.0\n",
            "  Downloading tensorboard-1.15.0-py3-none-any.whl (3.8 MB)\n",
            "\u001b[K     |████████████████████████████████| 3.8 MB 33.7 MB/s \n",
            "\u001b[?25hRequirement already satisfied: wheel>=0.26 in /usr/local/lib/python3.7/dist-packages (from tensorflow<2,>=1.11.0->mlprimitives<0.3,>=0.2.2->orion-ml) (0.37.1)\n",
            "Collecting tensorflow-estimator==1.15.1\n",
            "  Downloading tensorflow_estimator-1.15.1-py2.py3-none-any.whl (503 kB)\n",
            "\u001b[K     |████████████████████████████████| 503 kB 62.9 MB/s \n",
            "\u001b[?25hRequirement already satisfied: wrapt>=1.11.1 in /usr/local/lib/python3.7/dist-packages (from tensorflow<2,>=1.11.0->mlprimitives<0.3,>=0.2.2->orion-ml) (1.14.1)\n",
            "Requirement already satisfied: markdown>=2.6.8 in /usr/local/lib/python3.7/dist-packages (from tensorboard<1.16.0,>=1.15.0->tensorflow<2,>=1.11.0->mlprimitives<0.3,>=0.2.2->orion-ml) (3.4.1)\n",
            "Requirement already satisfied: werkzeug>=0.11.15 in /usr/local/lib/python3.7/dist-packages (from tensorboard<1.16.0,>=1.15.0->tensorflow<2,>=1.11.0->mlprimitives<0.3,>=0.2.2->orion-ml) (1.0.1)\n",
            "Requirement already satisfied: importlib-metadata>=4.4 in /usr/local/lib/python3.7/dist-packages (from markdown>=2.6.8->tensorboard<1.16.0,>=1.15.0->tensorflow<2,>=1.11.0->mlprimitives<0.3,>=0.2.2->orion-ml) (4.12.0)\n",
            "Requirement already satisfied: zipp>=0.5 in /usr/local/lib/python3.7/dist-packages (from importlib-metadata>=4.4->markdown>=2.6.8->tensorboard<1.16.0,>=1.15.0->tensorflow<2,>=1.11.0->mlprimitives<0.3,>=0.2.2->orion-ml) (3.8.1)\n",
            "Requirement already satisfied: heapdict in /usr/local/lib/python3.7/dist-packages (from zict>=0.1.3->distributed>=1.24.2->featuretools<0.12,>=0.6.1->mlprimitives<0.3,>=0.2.2->orion-ml) (1.0.1)\n",
            "Requirement already satisfied: MarkupSafe>=0.23 in /usr/local/lib/python3.7/dist-packages (from jinja2->distributed>=1.24.2->featuretools<0.12,>=0.6.1->mlprimitives<0.3,>=0.2.2->orion-ml) (2.0.1)\n",
            "Building wheels for collected packages: iso639, langdetect, lightfm, python-louvain, gast\n",
            "  Building wheel for iso639 (setup.py) ... \u001b[?25l\u001b[?25hdone\n",
            "  Created wheel for iso639: filename=iso639-0.1.4-py3-none-any.whl size=11191 sha256=251a5a5b69e0742669a9348316857949fb0bf05cd15da758c2f9db841f5eeb42\n",
            "  Stored in directory: /root/.cache/pip/wheels/22/0c/79/0f1e37567fba2eed11c6323b06c07480ad0881d2735fa1c98c\n",
            "  Building wheel for langdetect (setup.py) ... \u001b[?25l\u001b[?25hdone\n",
            "  Created wheel for langdetect: filename=langdetect-1.0.9-py3-none-any.whl size=993242 sha256=533b42bdd8b62be343ccd67d818d4ddcc4da6fbeb10831cab8adf7b5bf165b2b\n",
            "  Stored in directory: /root/.cache/pip/wheels/c5/96/8a/f90c59ed25d75e50a8c10a1b1c2d4c402e4dacfa87f3aff36a\n",
            "  Building wheel for lightfm (setup.py) ... \u001b[?25l\u001b[?25hdone\n",
            "  Created wheel for lightfm: filename=lightfm-1.16-cp37-cp37m-linux_x86_64.whl size=705363 sha256=393daaf40ccd1b257f3c430b53b6b694cb2fc4bd98dc7da2a8acfbdc5c1d3fdc\n",
            "  Stored in directory: /root/.cache/pip/wheels/f8/56/28/5772a3bd3413d65f03aa452190b00898b680b10028a1021914\n",
            "  Building wheel for python-louvain (setup.py) ... \u001b[?25l\u001b[?25hdone\n",
            "  Created wheel for python-louvain: filename=python_louvain-0.13-py3-none-any.whl size=9238 sha256=3f4bbd5d3a65e426b194f266f60bf91f87c84c3720613795352fab2fef52403d\n",
            "  Stored in directory: /root/.cache/pip/wheels/dd/6b/3b/87539deabac63a68ec34be2867308907d0544e11ba4d4e728d\n",
            "  Building wheel for gast (setup.py) ... \u001b[?25l\u001b[?25hdone\n",
            "  Created wheel for gast: filename=gast-0.2.2-py3-none-any.whl size=7554 sha256=053ce755f46862b9b67b590a238a0df4b394b4a60214db7f849134ae5d403750\n",
            "  Stored in directory: /root/.cache/pip/wheels/21/7f/02/420f32a803f7d0967b48dd823da3f558c5166991bfd204eef3\n",
            "Successfully built iso639 langdetect lightfm python-louvain gast\n",
            "Installing collected packages: urllib3, numpy, jmespath, h5py, botocore, tensorflow-estimator, tensorboard, scikit-learn, s3fs, PyWavelets, pandas, keras-applications, isodate, gast, azure-core, tensorflow, scikit-image, python-louvain, msrest, mlblocks, llvmlite, lightfm, langdetect, Keras, iso639, featuretools, docutils, azure-common, xlsxwriter, pyts, numba, mlprimitives, azure-cognitiveservices-anomalydetector, orion-ml\n",
            "  Attempting uninstall: urllib3\n",
            "    Found existing installation: urllib3 1.24.3\n",
            "    Uninstalling urllib3-1.24.3:\n",
            "      Successfully uninstalled urllib3-1.24.3\n",
            "  Attempting uninstall: numpy\n",
            "    Found existing installation: numpy 1.21.6\n",
            "    Uninstalling numpy-1.21.6:\n",
            "      Successfully uninstalled numpy-1.21.6\n",
            "  Attempting uninstall: h5py\n",
            "    Found existing installation: h5py 3.1.0\n",
            "    Uninstalling h5py-3.1.0:\n",
            "      Successfully uninstalled h5py-3.1.0\n",
            "  Attempting uninstall: tensorflow-estimator\n",
            "    Found existing installation: tensorflow-estimator 2.8.0\n",
            "    Uninstalling tensorflow-estimator-2.8.0:\n",
            "      Successfully uninstalled tensorflow-estimator-2.8.0\n",
            "  Attempting uninstall: tensorboard\n",
            "    Found existing installation: tensorboard 2.8.0\n",
            "    Uninstalling tensorboard-2.8.0:\n",
            "      Successfully uninstalled tensorboard-2.8.0\n",
            "  Attempting uninstall: scikit-learn\n",
            "    Found existing installation: scikit-learn 1.0.2\n",
            "    Uninstalling scikit-learn-1.0.2:\n",
            "      Successfully uninstalled scikit-learn-1.0.2\n",
            "  Attempting uninstall: PyWavelets\n",
            "    Found existing installation: PyWavelets 1.3.0\n",
            "    Uninstalling PyWavelets-1.3.0:\n",
            "      Successfully uninstalled PyWavelets-1.3.0\n",
            "  Attempting uninstall: pandas\n",
            "    Found existing installation: pandas 1.3.5\n",
            "    Uninstalling pandas-1.3.5:\n",
            "      Successfully uninstalled pandas-1.3.5\n",
            "  Attempting uninstall: gast\n",
            "    Found existing installation: gast 0.5.3\n",
            "    Uninstalling gast-0.5.3:\n",
            "      Successfully uninstalled gast-0.5.3\n",
            "  Attempting uninstall: tensorflow\n",
            "    Found existing installation: tensorflow 2.8.2+zzzcolab20220719082949\n",
            "    Uninstalling tensorflow-2.8.2+zzzcolab20220719082949:\n",
            "      Successfully uninstalled tensorflow-2.8.2+zzzcolab20220719082949\n",
            "  Attempting uninstall: scikit-image\n",
            "    Found existing installation: scikit-image 0.18.3\n",
            "    Uninstalling scikit-image-0.18.3:\n",
            "      Successfully uninstalled scikit-image-0.18.3\n",
            "  Attempting uninstall: python-louvain\n",
            "    Found existing installation: python-louvain 0.16\n",
            "    Uninstalling python-louvain-0.16:\n",
            "      Successfully uninstalled python-louvain-0.16\n",
            "  Attempting uninstall: llvmlite\n",
            "    Found existing installation: llvmlite 0.39.1\n",
            "    Uninstalling llvmlite-0.39.1:\n",
            "      Successfully uninstalled llvmlite-0.39.1\n",
            "  Attempting uninstall: Keras\n",
            "    Found existing installation: keras 2.8.0\n",
            "    Uninstalling keras-2.8.0:\n",
            "      Successfully uninstalled keras-2.8.0\n",
            "  Attempting uninstall: docutils\n",
            "    Found existing installation: docutils 0.17.1\n",
            "    Uninstalling docutils-0.17.1:\n",
            "      Successfully uninstalled docutils-0.17.1\n",
            "  Attempting uninstall: numba\n",
            "    Found existing installation: numba 0.56.2\n",
            "    Uninstalling numba-0.56.2:\n",
            "      Successfully uninstalled numba-0.56.2\n",
            "\u001b[31mERROR: pip's dependency resolver does not currently take into account all the packages that are installed. This behaviour is the source of the following dependency conflicts.\n",
            "yellowbrick 1.5 requires scikit-learn>=1.0.0, but you have scikit-learn 0.20.4 which is incompatible.\n",
            "xarray 0.20.2 requires numpy>=1.18, but you have numpy 1.16.6 which is incompatible.\n",
            "xarray 0.20.2 requires pandas>=1.1, but you have pandas 0.24.2 which is incompatible.\n",
            "xarray-einstats 0.2.2 requires numpy>=1.21, but you have numpy 1.16.6 which is incompatible.\n",
            "tensorflow-probability 0.16.0 requires gast>=0.3.2, but you have gast 0.2.2 which is incompatible.\n",
            "tables 3.7.0 requires numpy>=1.19.0, but you have numpy 1.16.6 which is incompatible.\n",
            "resampy 0.4.0 requires numba>=0.53, but you have numba 0.51.2 which is incompatible.\n",
            "resampy 0.4.0 requires numpy>=1.17, but you have numpy 1.16.6 which is incompatible.\n",
            "pyerfa 2.0.0.1 requires numpy>=1.17, but you have numpy 1.16.6 which is incompatible.\n",
            "prophet 1.1 requires pandas>=1.0.4, but you have pandas 0.24.2 which is incompatible.\n",
            "plotnine 0.8.0 requires numpy>=1.19.0, but you have numpy 1.16.6 which is incompatible.\n",
            "plotnine 0.8.0 requires pandas>=1.1.0, but you have pandas 0.24.2 which is incompatible.\n",
            "mizani 0.7.3 requires pandas>=1.1.0, but you have pandas 0.24.2 which is incompatible.\n",
            "kapre 0.3.7 requires numpy>=1.18.5, but you have numpy 1.16.6 which is incompatible.\n",
            "kapre 0.3.7 requires tensorflow>=2.0.0, but you have tensorflow 1.15.5 which is incompatible.\n",
            "jaxlib 0.3.15+cuda11.cudnn805 requires numpy>=1.19, but you have numpy 1.16.6 which is incompatible.\n",
            "jax 0.3.17 requires numpy>=1.20, but you have numpy 1.16.6 which is incompatible.\n",
            "imbalanced-learn 0.8.1 requires scikit-learn>=0.24, but you have scikit-learn 0.20.4 which is incompatible.\n",
            "gym 0.25.2 requires numpy>=1.18.0, but you have numpy 1.16.6 which is incompatible.\n",
            "google-colab 1.0.0 requires pandas>=1.1.0, but you have pandas 0.24.2 which is incompatible.\n",
            "cmdstanpy 1.0.7 requires numpy>=1.21, but you have numpy 1.16.6 which is incompatible.\n",
            "astropy 4.3.1 requires numpy>=1.17, but you have numpy 1.16.6 which is incompatible.\n",
            "albumentations 1.2.1 requires scikit-image>=0.16.1, but you have scikit-image 0.14.5 which is incompatible.\n",
            "aesara 2.7.9 requires numpy>=1.17.0, but you have numpy 1.16.6 which is incompatible.\n",
            "aeppl 0.0.33 requires numpy>=1.18.1, but you have numpy 1.16.6 which is incompatible.\u001b[0m\n",
            "Successfully installed Keras-2.3.1 PyWavelets-1.1.1 azure-cognitiveservices-anomalydetector-0.3.0 azure-common-1.1.28 azure-core-1.25.1 botocore-1.27.85 docutils-0.15.2 featuretools-0.11.0 gast-0.2.2 h5py-2.10.0 iso639-0.1.4 isodate-0.6.1 jmespath-1.0.1 keras-applications-1.0.8 langdetect-1.0.9 lightfm-1.16 llvmlite-0.34.0 mlblocks-0.3.4 mlprimitives-0.2.5 msrest-0.7.1 numba-0.51.2 numpy-1.16.6 orion-ml-0.3.2 pandas-0.24.2 python-louvain-0.13 pyts-0.10.0 s3fs-0.4.2 scikit-image-0.14.5 scikit-learn-0.20.4 tensorboard-1.15.0 tensorflow-1.15.5 tensorflow-estimator-1.15.1 urllib3-1.26.12 xlsxwriter-3.0.3\n"
          ]
        },
        {
          "output_type": "display_data",
          "data": {
            "application/vnd.colab-display-data+json": {
              "pip_warning": {
                "packages": [
                  "numpy",
                  "pandas",
                  "sklearn"
                ]
              }
            }
          },
          "metadata": {}
        }
      ],
      "source": [
        "pip install orion-ml"
      ]
    },
    {
      "cell_type": "code",
      "source": [
        "pip install yfinance"
      ],
      "metadata": {
        "id": "LIgyBfV-VdUC",
        "colab": {
          "base_uri": "https://localhost:8080/"
        },
        "outputId": "566d8b23-c1af-464f-a9cc-74d39f8645b3"
      },
      "execution_count": null,
      "outputs": [
        {
          "output_type": "stream",
          "name": "stdout",
          "text": [
            "Looking in indexes: https://pypi.org/simple, https://us-python.pkg.dev/colab-wheels/public/simple/\n",
            "Collecting yfinance\n",
            "  Downloading yfinance-0.1.74-py2.py3-none-any.whl (27 kB)\n",
            "Collecting requests>=2.26\n",
            "  Downloading requests-2.28.1-py3-none-any.whl (62 kB)\n",
            "\u001b[K     |████████████████████████████████| 62 kB 1.4 MB/s \n",
            "\u001b[?25hRequirement already satisfied: numpy>=1.15 in /usr/local/lib/python3.7/dist-packages (from yfinance) (1.21.6)\n",
            "Requirement already satisfied: pandas>=0.24.0 in /usr/local/lib/python3.7/dist-packages (from yfinance) (1.3.5)\n",
            "Requirement already satisfied: multitasking>=0.0.7 in /usr/local/lib/python3.7/dist-packages (from yfinance) (0.0.11)\n",
            "Requirement already satisfied: lxml>=4.5.1 in /usr/local/lib/python3.7/dist-packages (from yfinance) (4.9.1)\n",
            "Requirement already satisfied: python-dateutil>=2.7.3 in /usr/local/lib/python3.7/dist-packages (from pandas>=0.24.0->yfinance) (2.8.2)\n",
            "Requirement already satisfied: pytz>=2017.3 in /usr/local/lib/python3.7/dist-packages (from pandas>=0.24.0->yfinance) (2022.2.1)\n",
            "Requirement already satisfied: six>=1.5 in /usr/local/lib/python3.7/dist-packages (from python-dateutil>=2.7.3->pandas>=0.24.0->yfinance) (1.15.0)\n",
            "Requirement already satisfied: certifi>=2017.4.17 in /usr/local/lib/python3.7/dist-packages (from requests>=2.26->yfinance) (2022.6.15)\n",
            "Requirement already satisfied: urllib3<1.27,>=1.21.1 in /usr/local/lib/python3.7/dist-packages (from requests>=2.26->yfinance) (1.24.3)\n",
            "Requirement already satisfied: idna<4,>=2.5 in /usr/local/lib/python3.7/dist-packages (from requests>=2.26->yfinance) (2.10)\n",
            "Requirement already satisfied: charset-normalizer<3,>=2 in /usr/local/lib/python3.7/dist-packages (from requests>=2.26->yfinance) (2.1.1)\n",
            "Installing collected packages: requests, yfinance\n",
            "  Attempting uninstall: requests\n",
            "    Found existing installation: requests 2.23.0\n",
            "    Uninstalling requests-2.23.0:\n",
            "      Successfully uninstalled requests-2.23.0\n",
            "Successfully installed requests-2.28.1 yfinance-0.1.74\n"
          ]
        }
      ]
    },
    {
      "cell_type": "code",
      "source": [
        "from orion import Orion\n",
        "import yfinance as yf\n",
        "import pandas as pd\n",
        "import numpy as np"
      ],
      "metadata": {
        "id": "8sQsIDa8WEud"
      },
      "execution_count": null,
      "outputs": []
    },
    {
      "cell_type": "markdown",
      "source": [
        "##Importing Data"
      ],
      "metadata": {
        "id": "NKT4Z5V8JWgH"
      }
    },
    {
      "cell_type": "code",
      "source": [
        "#Importig Apple Stock data from yfinance\n",
        "start = \"2000-01-01\"\n",
        "end = \"2020-01-01\""
      ],
      "metadata": {
        "id": "7F_nCDy0Wk1D"
      },
      "execution_count": null,
      "outputs": []
    },
    {
      "cell_type": "code",
      "source": [
        "appl_df = yf.download(\"AAPL\", start=start, end=end)\n",
        "#Getting Date and Adjusted Closing Price of Apple Stock\n",
        "appl_df_1 = appl_df.reset_index()[['Date','Adj Close']]\n",
        "aapl = yf.Ticker('AAPL')\n",
        "\n",
        "#Making table with Date converted to timestamp in nanoseconds\n",
        "tmdata = pd.Series(appl_df_1['Date'].values.astype(np.int64))\n",
        "\n",
        "#Merging table with timestamp with original Table\n",
        "appl_df_2 = appl_df_1.merge(tmdata.rename('Timestamp'), how = 'inner', left_index= True, right_index = True)\n",
        "\n",
        "#Dropping Date\n",
        "appl_df_2.drop('Date', axis=1, inplace= True)"
      ],
      "metadata": {
        "colab": {
          "base_uri": "https://localhost:8080/"
        },
        "id": "X3FU-jr9WH5S",
        "outputId": "3ad6eb50-235b-4cf5-e1dd-145a66a11659"
      },
      "execution_count": null,
      "outputs": [
        {
          "output_type": "stream",
          "name": "stdout",
          "text": [
            "\r[*********************100%***********************]  1 of 1 completed\n"
          ]
        }
      ]
    },
    {
      "cell_type": "code",
      "source": [
        "hist = aapl.history(start=start, end=end)\n",
        "appl_df_3 = appl_df_2.reindex(columns = ['Timestamp', 'Adj Close'])\n",
        "appl_final = appl_df_3.rename(columns={'Timestamp': 'timestamp', 'Adj Close': 'value'})\n",
        "appl_final['value'] = appl_final['value'] /appl_final['value'].abs().max()\n",
        "appl_final['timestamp'] = appl_final['timestamp'].div(1000000000)"
      ],
      "metadata": {
        "id": "ENhlnUQ_Waap"
      },
      "execution_count": null,
      "outputs": []
    },
    {
      "cell_type": "markdown",
      "source": [
        "##Pipelines"
      ],
      "metadata": {
        "id": "sHvA2X3ljwN_"
      }
    },
    {
      "cell_type": "markdown",
      "source": [
        "###AER"
      ],
      "metadata": {
        "id": "2HM237zAJneL"
      }
    },
    {
      "cell_type": "code",
      "source": [
        "orion_aer = Orion(\n",
        "    pipeline='aer',\n",
        ")"
      ],
      "metadata": {
        "id": "OTT6vCkUJcII",
        "colab": {
          "base_uri": "https://localhost:8080/"
        },
        "outputId": "dd53fa87-a3a4-45fa-c8cb-d08a6a186c45"
      },
      "execution_count": null,
      "outputs": [
        {
          "output_type": "stream",
          "name": "stderr",
          "text": [
            "Using TensorFlow backend.\n"
          ]
        }
      ]
    },
    {
      "cell_type": "code",
      "source": [
        "orion_aer.fit(appl_final.head(3000))\n",
        "anomalies_aer = orion_aer.detect(appl_final)"
      ],
      "metadata": {
        "colab": {
          "base_uri": "https://localhost:8080/"
        },
        "id": "mpPSFAH6JhIA",
        "outputId": "00789333-657c-4f86-83e0-0177438c8c78"
      },
      "execution_count": null,
      "outputs": [
        {
          "output_type": "stream",
          "name": "stderr",
          "text": [
            "WARNING:tensorflow:From /usr/local/lib/python3.7/dist-packages/tensorflow_core/python/ops/init_ops.py:97: calling GlorotUniform.__init__ (from tensorflow.python.ops.init_ops) with dtype is deprecated and will be removed in a future version.\n",
            "Instructions for updating:\n",
            "Call initializer instance with the dtype argument instead of passing it to the constructor\n",
            "WARNING:tensorflow:From /usr/local/lib/python3.7/dist-packages/tensorflow_core/python/ops/init_ops.py:97: calling Orthogonal.__init__ (from tensorflow.python.ops.init_ops) with dtype is deprecated and will be removed in a future version.\n",
            "Instructions for updating:\n",
            "Call initializer instance with the dtype argument instead of passing it to the constructor\n",
            "WARNING:tensorflow:From /usr/local/lib/python3.7/dist-packages/tensorflow_core/python/ops/init_ops.py:97: calling Zeros.__init__ (from tensorflow.python.ops.init_ops) with dtype is deprecated and will be removed in a future version.\n",
            "Instructions for updating:\n",
            "Call initializer instance with the dtype argument instead of passing it to the constructor\n",
            "WARNING:tensorflow:From /usr/local/lib/python3.7/dist-packages/tensorflow_core/python/ops/resource_variable_ops.py:1630: calling BaseResourceVariable.__init__ (from tensorflow.python.ops.resource_variable_ops) with constraint is deprecated and will be removed in a future version.\n",
            "Instructions for updating:\n",
            "If using Keras pass *_constraint arguments to layers.\n",
            "WARNING:tensorflow:From /usr/local/lib/python3.7/dist-packages/tensorflow_core/python/ops/math_grad.py:1424: where (from tensorflow.python.ops.array_ops) is deprecated and will be removed in a future version.\n",
            "Instructions for updating:\n",
            "Use tf.where in 2.0, which has the same broadcast rule as np.where\n"
          ]
        },
        {
          "output_type": "stream",
          "name": "stdout",
          "text": [
            "Train on 13844 samples, validate on 3461 samples\n",
            "Epoch 1/35\n",
            "13844/13844 [==============================] - 77s 6ms/sample - loss: 0.0290 - tf_op_layer_strided_slice_loss: 0.0331 - tf_op_layer_strided_slice_1_loss: 0.0262 - tf_op_layer_strided_slice_2_loss: 0.0303 - val_loss: 0.1361 - val_tf_op_layer_strided_slice_loss: 0.1324 - val_tf_op_layer_strided_slice_1_loss: 0.1331 - val_tf_op_layer_strided_slice_2_loss: 0.1487\n",
            "Epoch 2/35\n",
            "13844/13844 [==============================] - 70s 5ms/sample - loss: 0.0170 - tf_op_layer_strided_slice_loss: 0.0173 - tf_op_layer_strided_slice_1_loss: 0.0168 - tf_op_layer_strided_slice_2_loss: 0.0171 - val_loss: 0.1305 - val_tf_op_layer_strided_slice_loss: 0.1262 - val_tf_op_layer_strided_slice_1_loss: 0.1284 - val_tf_op_layer_strided_slice_2_loss: 0.1346\n",
            "Epoch 3/35\n",
            "13844/13844 [==============================] - 70s 5ms/sample - loss: 0.0166 - tf_op_layer_strided_slice_loss: 0.0167 - tf_op_layer_strided_slice_1_loss: 0.0165 - tf_op_layer_strided_slice_2_loss: 0.0166 - val_loss: 0.1280 - val_tf_op_layer_strided_slice_loss: 0.1231 - val_tf_op_layer_strided_slice_1_loss: 0.1263 - val_tf_op_layer_strided_slice_2_loss: 0.1325\n",
            "Epoch 4/35\n",
            "13844/13844 [==============================] - 69s 5ms/sample - loss: 0.0164 - tf_op_layer_strided_slice_loss: 0.0163 - tf_op_layer_strided_slice_1_loss: 0.0165 - tf_op_layer_strided_slice_2_loss: 0.0161 - val_loss: 0.1268 - val_tf_op_layer_strided_slice_loss: 0.1210 - val_tf_op_layer_strided_slice_1_loss: 0.1268 - val_tf_op_layer_strided_slice_2_loss: 0.1280\n",
            "Epoch 5/35\n",
            "13844/13844 [==============================] - 69s 5ms/sample - loss: 0.0163 - tf_op_layer_strided_slice_loss: 0.0161 - tf_op_layer_strided_slice_1_loss: 0.0167 - tf_op_layer_strided_slice_2_loss: 0.0158 - val_loss: 0.1260 - val_tf_op_layer_strided_slice_loss: 0.1224 - val_tf_op_layer_strided_slice_1_loss: 0.1270 - val_tf_op_layer_strided_slice_2_loss: 0.1261\n",
            "Epoch 6/35\n",
            "13844/13844 [==============================] - 69s 5ms/sample - loss: 0.0161 - tf_op_layer_strided_slice_loss: 0.0156 - tf_op_layer_strided_slice_1_loss: 0.0167 - tf_op_layer_strided_slice_2_loss: 0.0154 - val_loss: 0.1250 - val_tf_op_layer_strided_slice_loss: 0.1176 - val_tf_op_layer_strided_slice_1_loss: 0.1274 - val_tf_op_layer_strided_slice_2_loss: 0.1260\n",
            "Epoch 7/35\n",
            "13844/13844 [==============================] - 69s 5ms/sample - loss: 0.0160 - tf_op_layer_strided_slice_loss: 0.0153 - tf_op_layer_strided_slice_1_loss: 0.0168 - tf_op_layer_strided_slice_2_loss: 0.0152 - val_loss: 0.1247 - val_tf_op_layer_strided_slice_loss: 0.1169 - val_tf_op_layer_strided_slice_1_loss: 0.1280 - val_tf_op_layer_strided_slice_2_loss: 0.1249\n",
            "Epoch 8/35\n",
            "13844/13844 [==============================] - 70s 5ms/sample - loss: 0.0159 - tf_op_layer_strided_slice_loss: 0.0151 - tf_op_layer_strided_slice_1_loss: 0.0168 - tf_op_layer_strided_slice_2_loss: 0.0150 - val_loss: 0.1244 - val_tf_op_layer_strided_slice_loss: 0.1164 - val_tf_op_layer_strided_slice_1_loss: 0.1278 - val_tf_op_layer_strided_slice_2_loss: 0.1214\n",
            "Epoch 9/35\n",
            "13844/13844 [==============================] - 76s 5ms/sample - loss: 0.0159 - tf_op_layer_strided_slice_loss: 0.0149 - tf_op_layer_strided_slice_1_loss: 0.0169 - tf_op_layer_strided_slice_2_loss: 0.0149 - val_loss: 0.1240 - val_tf_op_layer_strided_slice_loss: 0.1152 - val_tf_op_layer_strided_slice_1_loss: 0.1293 - val_tf_op_layer_strided_slice_2_loss: 0.1270\n",
            "Epoch 10/35\n",
            "13844/13844 [==============================] - 70s 5ms/sample - loss: 0.0155 - tf_op_layer_strided_slice_loss: 0.0141 - tf_op_layer_strided_slice_1_loss: 0.0168 - tf_op_layer_strided_slice_2_loss: 0.0145 - val_loss: 0.1229 - val_tf_op_layer_strided_slice_loss: 0.1129 - val_tf_op_layer_strided_slice_1_loss: 0.1302 - val_tf_op_layer_strided_slice_2_loss: 0.1199\n",
            "Epoch 11/35\n",
            "13844/13844 [==============================] - 70s 5ms/sample - loss: 0.0149 - tf_op_layer_strided_slice_loss: 0.0125 - tf_op_layer_strided_slice_1_loss: 0.0167 - tf_op_layer_strided_slice_2_loss: 0.0136 - val_loss: 0.1204 - val_tf_op_layer_strided_slice_loss: 0.1039 - val_tf_op_layer_strided_slice_1_loss: 0.1296 - val_tf_op_layer_strided_slice_2_loss: 0.1157\n",
            "Epoch 12/35\n",
            "13844/13844 [==============================] - 70s 5ms/sample - loss: 0.0139 - tf_op_layer_strided_slice_loss: 0.0098 - tf_op_layer_strided_slice_1_loss: 0.0169 - tf_op_layer_strided_slice_2_loss: 0.0118 - val_loss: 0.1190 - val_tf_op_layer_strided_slice_loss: 0.1038 - val_tf_op_layer_strided_slice_1_loss: 0.1292 - val_tf_op_layer_strided_slice_2_loss: 0.1140\n",
            "Epoch 13/35\n",
            "13844/13844 [==============================] - 73s 5ms/sample - loss: 0.0127 - tf_op_layer_strided_slice_loss: 0.0074 - tf_op_layer_strided_slice_1_loss: 0.0171 - tf_op_layer_strided_slice_2_loss: 0.0092 - val_loss: 0.1206 - val_tf_op_layer_strided_slice_loss: 0.1100 - val_tf_op_layer_strided_slice_1_loss: 0.1284 - val_tf_op_layer_strided_slice_2_loss: 0.1164\n",
            "Epoch 14/35\n",
            "13844/13844 [==============================] - 70s 5ms/sample - loss: 0.0121 - tf_op_layer_strided_slice_loss: 0.0064 - tf_op_layer_strided_slice_1_loss: 0.0171 - tf_op_layer_strided_slice_2_loss: 0.0079 - val_loss: 0.1206 - val_tf_op_layer_strided_slice_loss: 0.1144 - val_tf_op_layer_strided_slice_1_loss: 0.1283 - val_tf_op_layer_strided_slice_2_loss: 0.1149\n",
            "Epoch 15/35\n",
            "13844/13844 [==============================] - 69s 5ms/sample - loss: 0.0118 - tf_op_layer_strided_slice_loss: 0.0059 - tf_op_layer_strided_slice_1_loss: 0.0171 - tf_op_layer_strided_slice_2_loss: 0.0072 - val_loss: 0.1208 - val_tf_op_layer_strided_slice_loss: 0.1112 - val_tf_op_layer_strided_slice_1_loss: 0.1280 - val_tf_op_layer_strided_slice_2_loss: 0.1159\n",
            "Epoch 16/35\n",
            "13844/13844 [==============================] - 71s 5ms/sample - loss: 0.0115 - tf_op_layer_strided_slice_loss: 0.0053 - tf_op_layer_strided_slice_1_loss: 0.0171 - tf_op_layer_strided_slice_2_loss: 0.0064 - val_loss: 0.1206 - val_tf_op_layer_strided_slice_loss: 0.1085 - val_tf_op_layer_strided_slice_1_loss: 0.1297 - val_tf_op_layer_strided_slice_2_loss: 0.1190\n",
            "Epoch 17/35\n",
            "13844/13844 [==============================] - 70s 5ms/sample - loss: 0.0111 - tf_op_layer_strided_slice_loss: 0.0049 - tf_op_layer_strided_slice_1_loss: 0.0171 - tf_op_layer_strided_slice_2_loss: 0.0054 - val_loss: 0.1219 - val_tf_op_layer_strided_slice_loss: 0.1075 - val_tf_op_layer_strided_slice_1_loss: 0.1292 - val_tf_op_layer_strided_slice_2_loss: 0.1166\n",
            "Epoch 18/35\n",
            "13844/13844 [==============================] - 73s 5ms/sample - loss: 0.0107 - tf_op_layer_strided_slice_loss: 0.0042 - tf_op_layer_strided_slice_1_loss: 0.0171 - tf_op_layer_strided_slice_2_loss: 0.0043 - val_loss: 0.1203 - val_tf_op_layer_strided_slice_loss: 0.1065 - val_tf_op_layer_strided_slice_1_loss: 0.1295 - val_tf_op_layer_strided_slice_2_loss: 0.1179\n",
            "Epoch 19/35\n",
            "13844/13844 [==============================] - 72s 5ms/sample - loss: 0.0103 - tf_op_layer_strided_slice_loss: 0.0036 - tf_op_layer_strided_slice_1_loss: 0.0170 - tf_op_layer_strided_slice_2_loss: 0.0038 - val_loss: 0.1198 - val_tf_op_layer_strided_slice_loss: 0.1052 - val_tf_op_layer_strided_slice_1_loss: 0.1286 - val_tf_op_layer_strided_slice_2_loss: 0.1139\n",
            "Epoch 20/35\n",
            "13844/13844 [==============================] - 70s 5ms/sample - loss: 0.0103 - tf_op_layer_strided_slice_loss: 0.0037 - tf_op_layer_strided_slice_1_loss: 0.0169 - tf_op_layer_strided_slice_2_loss: 0.0037 - val_loss: 0.1196 - val_tf_op_layer_strided_slice_loss: 0.1094 - val_tf_op_layer_strided_slice_1_loss: 0.1281 - val_tf_op_layer_strided_slice_2_loss: 0.1131\n",
            "Epoch 21/35\n",
            "13844/13844 [==============================] - 71s 5ms/sample - loss: 0.0100 - tf_op_layer_strided_slice_loss: 0.0033 - tf_op_layer_strided_slice_1_loss: 0.0168 - tf_op_layer_strided_slice_2_loss: 0.0033 - val_loss: 0.1190 - val_tf_op_layer_strided_slice_loss: 0.1084 - val_tf_op_layer_strided_slice_1_loss: 0.1296 - val_tf_op_layer_strided_slice_2_loss: 0.1115\n",
            "Epoch 22/35\n",
            "13844/13844 [==============================] - 71s 5ms/sample - loss: 0.0100 - tf_op_layer_strided_slice_loss: 0.0031 - tf_op_layer_strided_slice_1_loss: 0.0167 - tf_op_layer_strided_slice_2_loss: 0.0032 - val_loss: 0.1179 - val_tf_op_layer_strided_slice_loss: 0.1015 - val_tf_op_layer_strided_slice_1_loss: 0.1288 - val_tf_op_layer_strided_slice_2_loss: 0.1110\n",
            "Epoch 23/35\n",
            "13844/13844 [==============================] - 74s 5ms/sample - loss: 0.0098 - tf_op_layer_strided_slice_loss: 0.0029 - tf_op_layer_strided_slice_1_loss: 0.0167 - tf_op_layer_strided_slice_2_loss: 0.0029 - val_loss: 0.1177 - val_tf_op_layer_strided_slice_loss: 0.0996 - val_tf_op_layer_strided_slice_1_loss: 0.1294 - val_tf_op_layer_strided_slice_2_loss: 0.1100\n",
            "Epoch 24/35\n",
            "13844/13844 [==============================] - 74s 5ms/sample - loss: 0.0097 - tf_op_layer_strided_slice_loss: 0.0028 - tf_op_layer_strided_slice_1_loss: 0.0166 - tf_op_layer_strided_slice_2_loss: 0.0029 - val_loss: 0.1175 - val_tf_op_layer_strided_slice_loss: 0.0981 - val_tf_op_layer_strided_slice_1_loss: 0.1311 - val_tf_op_layer_strided_slice_2_loss: 0.1154\n",
            "Epoch 25/35\n",
            "13844/13844 [==============================] - 70s 5ms/sample - loss: 0.0101 - tf_op_layer_strided_slice_loss: 0.0036 - tf_op_layer_strided_slice_1_loss: 0.0167 - tf_op_layer_strided_slice_2_loss: 0.0036 - val_loss: 0.1186 - val_tf_op_layer_strided_slice_loss: 0.1081 - val_tf_op_layer_strided_slice_1_loss: 0.1305 - val_tf_op_layer_strided_slice_2_loss: 0.1121\n",
            "Epoch 26/35\n",
            "13844/13844 [==============================] - 70s 5ms/sample - loss: 0.0098 - tf_op_layer_strided_slice_loss: 0.0031 - tf_op_layer_strided_slice_1_loss: 0.0164 - tf_op_layer_strided_slice_2_loss: 0.0030 - val_loss: 0.1159 - val_tf_op_layer_strided_slice_loss: 0.0993 - val_tf_op_layer_strided_slice_1_loss: 0.1300 - val_tf_op_layer_strided_slice_2_loss: 0.1040\n",
            "Epoch 27/35\n",
            "13844/13844 [==============================] - 69s 5ms/sample - loss: 0.0091 - tf_op_layer_strided_slice_loss: 0.0026 - tf_op_layer_strided_slice_1_loss: 0.0157 - tf_op_layer_strided_slice_2_loss: 0.0026 - val_loss: 0.1142 - val_tf_op_layer_strided_slice_loss: 0.0919 - val_tf_op_layer_strided_slice_1_loss: 0.1311 - val_tf_op_layer_strided_slice_2_loss: 0.1005\n",
            "Epoch 28/35\n",
            "13844/13844 [==============================] - 69s 5ms/sample - loss: 0.0088 - tf_op_layer_strided_slice_loss: 0.0025 - tf_op_layer_strided_slice_1_loss: 0.0151 - tf_op_layer_strided_slice_2_loss: 0.0027 - val_loss: 0.1138 - val_tf_op_layer_strided_slice_loss: 0.0940 - val_tf_op_layer_strided_slice_1_loss: 0.1327 - val_tf_op_layer_strided_slice_2_loss: 0.0994\n",
            "Epoch 29/35\n",
            "13844/13844 [==============================] - 76s 5ms/sample - loss: 0.0078 - tf_op_layer_strided_slice_loss: 0.0023 - tf_op_layer_strided_slice_1_loss: 0.0129 - tf_op_layer_strided_slice_2_loss: 0.0029 - val_loss: 0.1156 - val_tf_op_layer_strided_slice_loss: 0.0890 - val_tf_op_layer_strided_slice_1_loss: 0.1356 - val_tf_op_layer_strided_slice_2_loss: 0.0982\n",
            "Epoch 30/35\n",
            "13844/13844 [==============================] - 69s 5ms/sample - loss: 0.0079 - tf_op_layer_strided_slice_loss: 0.0040 - tf_op_layer_strided_slice_1_loss: 0.0114 - tf_op_layer_strided_slice_2_loss: 0.0048 - val_loss: 0.1190 - val_tf_op_layer_strided_slice_loss: 0.0904 - val_tf_op_layer_strided_slice_1_loss: 0.1356 - val_tf_op_layer_strided_slice_2_loss: 0.1154\n",
            "Epoch 31/35\n",
            "13844/13844 [==============================] - 70s 5ms/sample - loss: 0.0060 - tf_op_layer_strided_slice_loss: 0.0032 - tf_op_layer_strided_slice_1_loss: 0.0088 - tf_op_layer_strided_slice_2_loss: 0.0033 - val_loss: 0.1120 - val_tf_op_layer_strided_slice_loss: 0.0904 - val_tf_op_layer_strided_slice_1_loss: 0.1358 - val_tf_op_layer_strided_slice_2_loss: 0.0889\n",
            "Epoch 32/35\n",
            "13844/13844 [==============================] - 69s 5ms/sample - loss: 0.0047 - tf_op_layer_strided_slice_loss: 0.0020 - tf_op_layer_strided_slice_1_loss: 0.0075 - tf_op_layer_strided_slice_2_loss: 0.0019 - val_loss: 0.1130 - val_tf_op_layer_strided_slice_loss: 0.0967 - val_tf_op_layer_strided_slice_1_loss: 0.1358 - val_tf_op_layer_strided_slice_2_loss: 0.0849\n",
            "Epoch 33/35\n",
            "13844/13844 [==============================] - 69s 5ms/sample - loss: 0.0047 - tf_op_layer_strided_slice_loss: 0.0021 - tf_op_layer_strided_slice_1_loss: 0.0074 - tf_op_layer_strided_slice_2_loss: 0.0021 - val_loss: 0.1124 - val_tf_op_layer_strided_slice_loss: 0.0954 - val_tf_op_layer_strided_slice_1_loss: 0.1341 - val_tf_op_layer_strided_slice_2_loss: 0.0869\n",
            "Epoch 34/35\n",
            "13844/13844 [==============================] - 69s 5ms/sample - loss: 0.0043 - tf_op_layer_strided_slice_loss: 0.0019 - tf_op_layer_strided_slice_1_loss: 0.0067 - tf_op_layer_strided_slice_2_loss: 0.0017 - val_loss: 0.1067 - val_tf_op_layer_strided_slice_loss: 0.0845 - val_tf_op_layer_strided_slice_1_loss: 0.1301 - val_tf_op_layer_strided_slice_2_loss: 0.0856\n",
            "Epoch 35/35\n",
            "13844/13844 [==============================] - 68s 5ms/sample - loss: 0.0039 - tf_op_layer_strided_slice_loss: 0.0017 - tf_op_layer_strided_slice_1_loss: 0.0061 - tf_op_layer_strided_slice_2_loss: 0.0016 - val_loss: 0.1054 - val_tf_op_layer_strided_slice_loss: 0.0879 - val_tf_op_layer_strided_slice_1_loss: 0.1269 - val_tf_op_layer_strided_slice_2_loss: 0.0827\n"
          ]
        }
      ]
    },
    {
      "cell_type": "code",
      "source": [
        "anomalies_aer"
      ],
      "metadata": {
        "colab": {
          "base_uri": "https://localhost:8080/",
          "height": 49
        },
        "id": "Cwyc5cecnge_",
        "outputId": "85d4a316-f93b-409e-8aaf-289c2f07bb4c"
      },
      "execution_count": null,
      "outputs": [
        {
          "output_type": "execute_result",
          "data": {
            "text/plain": [
              "Empty DataFrame\n",
              "Columns: [start, end, severity]\n",
              "Index: []"
            ],
            "text/html": [
              "\n",
              "  <div id=\"df-40f6b1a6-5939-478f-a1e0-727361e6e598\">\n",
              "    <div class=\"colab-df-container\">\n",
              "      <div>\n",
              "<style scoped>\n",
              "    .dataframe tbody tr th:only-of-type {\n",
              "        vertical-align: middle;\n",
              "    }\n",
              "\n",
              "    .dataframe tbody tr th {\n",
              "        vertical-align: top;\n",
              "    }\n",
              "\n",
              "    .dataframe thead th {\n",
              "        text-align: right;\n",
              "    }\n",
              "</style>\n",
              "<table border=\"1\" class=\"dataframe\">\n",
              "  <thead>\n",
              "    <tr style=\"text-align: right;\">\n",
              "      <th></th>\n",
              "      <th>start</th>\n",
              "      <th>end</th>\n",
              "      <th>severity</th>\n",
              "    </tr>\n",
              "  </thead>\n",
              "  <tbody>\n",
              "  </tbody>\n",
              "</table>\n",
              "</div>\n",
              "      <button class=\"colab-df-convert\" onclick=\"convertToInteractive('df-40f6b1a6-5939-478f-a1e0-727361e6e598')\"\n",
              "              title=\"Convert this dataframe to an interactive table.\"\n",
              "              style=\"display:none;\">\n",
              "        \n",
              "  <svg xmlns=\"http://www.w3.org/2000/svg\" height=\"24px\"viewBox=\"0 0 24 24\"\n",
              "       width=\"24px\">\n",
              "    <path d=\"M0 0h24v24H0V0z\" fill=\"none\"/>\n",
              "    <path d=\"M18.56 5.44l.94 2.06.94-2.06 2.06-.94-2.06-.94-.94-2.06-.94 2.06-2.06.94zm-11 1L8.5 8.5l.94-2.06 2.06-.94-2.06-.94L8.5 2.5l-.94 2.06-2.06.94zm10 10l.94 2.06.94-2.06 2.06-.94-2.06-.94-.94-2.06-.94 2.06-2.06.94z\"/><path d=\"M17.41 7.96l-1.37-1.37c-.4-.4-.92-.59-1.43-.59-.52 0-1.04.2-1.43.59L10.3 9.45l-7.72 7.72c-.78.78-.78 2.05 0 2.83L4 21.41c.39.39.9.59 1.41.59.51 0 1.02-.2 1.41-.59l7.78-7.78 2.81-2.81c.8-.78.8-2.07 0-2.86zM5.41 20L4 18.59l7.72-7.72 1.47 1.35L5.41 20z\"/>\n",
              "  </svg>\n",
              "      </button>\n",
              "      \n",
              "  <style>\n",
              "    .colab-df-container {\n",
              "      display:flex;\n",
              "      flex-wrap:wrap;\n",
              "      gap: 12px;\n",
              "    }\n",
              "\n",
              "    .colab-df-convert {\n",
              "      background-color: #E8F0FE;\n",
              "      border: none;\n",
              "      border-radius: 50%;\n",
              "      cursor: pointer;\n",
              "      display: none;\n",
              "      fill: #1967D2;\n",
              "      height: 32px;\n",
              "      padding: 0 0 0 0;\n",
              "      width: 32px;\n",
              "    }\n",
              "\n",
              "    .colab-df-convert:hover {\n",
              "      background-color: #E2EBFA;\n",
              "      box-shadow: 0px 1px 2px rgba(60, 64, 67, 0.3), 0px 1px 3px 1px rgba(60, 64, 67, 0.15);\n",
              "      fill: #174EA6;\n",
              "    }\n",
              "\n",
              "    [theme=dark] .colab-df-convert {\n",
              "      background-color: #3B4455;\n",
              "      fill: #D2E3FC;\n",
              "    }\n",
              "\n",
              "    [theme=dark] .colab-df-convert:hover {\n",
              "      background-color: #434B5C;\n",
              "      box-shadow: 0px 1px 3px 1px rgba(0, 0, 0, 0.15);\n",
              "      filter: drop-shadow(0px 1px 2px rgba(0, 0, 0, 0.3));\n",
              "      fill: #FFFFFF;\n",
              "    }\n",
              "  </style>\n",
              "\n",
              "      <script>\n",
              "        const buttonEl =\n",
              "          document.querySelector('#df-40f6b1a6-5939-478f-a1e0-727361e6e598 button.colab-df-convert');\n",
              "        buttonEl.style.display =\n",
              "          google.colab.kernel.accessAllowed ? 'block' : 'none';\n",
              "\n",
              "        async function convertToInteractive(key) {\n",
              "          const element = document.querySelector('#df-40f6b1a6-5939-478f-a1e0-727361e6e598');\n",
              "          const dataTable =\n",
              "            await google.colab.kernel.invokeFunction('convertToInteractive',\n",
              "                                                     [key], {});\n",
              "          if (!dataTable) return;\n",
              "\n",
              "          const docLinkHtml = 'Like what you see? Visit the ' +\n",
              "            '<a target=\"_blank\" href=https://colab.research.google.com/notebooks/data_table.ipynb>data table notebook</a>'\n",
              "            + ' to learn more about interactive tables.';\n",
              "          element.innerHTML = '';\n",
              "          dataTable['output_type'] = 'display_data';\n",
              "          await google.colab.output.renderOutput(dataTable, element);\n",
              "          const docLink = document.createElement('div');\n",
              "          docLink.innerHTML = docLinkHtml;\n",
              "          element.appendChild(docLink);\n",
              "        }\n",
              "      </script>\n",
              "    </div>\n",
              "  </div>\n",
              "  "
            ]
          },
          "metadata": {},
          "execution_count": 12
        }
      ]
    },
    {
      "cell_type": "markdown",
      "source": [
        "###LSTM"
      ],
      "metadata": {
        "id": "vnJWi4kLWsz8"
      }
    },
    {
      "cell_type": "code",
      "source": [
        "orion_lstm = Orion(\n",
        "    pipeline='lstm_dynamic_threshold',\n",
        ")"
      ],
      "metadata": {
        "id": "dD4DMR2BWrSc"
      },
      "execution_count": null,
      "outputs": []
    },
    {
      "cell_type": "code",
      "source": [
        "orion_lstm.fit(appl_final.head(3000))\n",
        "anomalies_lstm = orion_lstm.detect(appl_final)"
      ],
      "metadata": {
        "colab": {
          "base_uri": "https://localhost:8080/",
          "height": 383
        },
        "id": "VLPnMh6wXUyx",
        "outputId": "98cbad94-a3c8-4ec1-c02d-cc150b5bbca9"
      },
      "execution_count": null,
      "outputs": [
        {
          "output_type": "stream",
          "name": "stderr",
          "text": [
            "WARNING:tensorflow:From /usr/local/lib/python3.7/dist-packages/keras/backend/tensorflow_backend.py:422: The name tf.global_variables is deprecated. Please use tf.compat.v1.global_variables instead.\n",
            "\n"
          ]
        },
        {
          "output_type": "error",
          "ename": "KeyboardInterrupt",
          "evalue": "ignored",
          "traceback": [
            "\u001b[0;31m---------------------------------------------------------------------------\u001b[0m",
            "\u001b[0;31mKeyboardInterrupt\u001b[0m                         Traceback (most recent call last)",
            "\u001b[0;32m<ipython-input-13-2b210d6ce365>\u001b[0m in \u001b[0;36m<module>\u001b[0;34m\u001b[0m\n\u001b[0;32m----> 1\u001b[0;31m \u001b[0morion_lstm\u001b[0m\u001b[0;34m.\u001b[0m\u001b[0mfit\u001b[0m\u001b[0;34m(\u001b[0m\u001b[0mappl_final\u001b[0m\u001b[0;34m.\u001b[0m\u001b[0mhead\u001b[0m\u001b[0;34m(\u001b[0m\u001b[0;36m3000\u001b[0m\u001b[0;34m)\u001b[0m\u001b[0;34m)\u001b[0m\u001b[0;34m\u001b[0m\u001b[0;34m\u001b[0m\u001b[0m\n\u001b[0m\u001b[1;32m      2\u001b[0m \u001b[0manomalies_lstm\u001b[0m \u001b[0;34m=\u001b[0m \u001b[0morion_lstm\u001b[0m\u001b[0;34m.\u001b[0m\u001b[0mdetect\u001b[0m\u001b[0;34m(\u001b[0m\u001b[0mappl_final\u001b[0m\u001b[0;34m)\u001b[0m\u001b[0;34m\u001b[0m\u001b[0;34m\u001b[0m\u001b[0m\n",
            "\u001b[0;32m/usr/local/lib/python3.7/dist-packages/orion/core.py\u001b[0m in \u001b[0;36mfit\u001b[0;34m(self, data, **kwargs)\u001b[0m\n\u001b[1;32m     84\u001b[0m             \u001b[0mself\u001b[0m\u001b[0;34m.\u001b[0m\u001b[0m_mlpipeline\u001b[0m \u001b[0;34m=\u001b[0m \u001b[0mself\u001b[0m\u001b[0;34m.\u001b[0m\u001b[0m_get_mlpipeline\u001b[0m\u001b[0;34m(\u001b[0m\u001b[0;34m)\u001b[0m\u001b[0;34m\u001b[0m\u001b[0;34m\u001b[0m\u001b[0m\n\u001b[1;32m     85\u001b[0m \u001b[0;34m\u001b[0m\u001b[0m\n\u001b[0;32m---> 86\u001b[0;31m         \u001b[0mself\u001b[0m\u001b[0;34m.\u001b[0m\u001b[0m_mlpipeline\u001b[0m\u001b[0;34m.\u001b[0m\u001b[0mfit\u001b[0m\u001b[0;34m(\u001b[0m\u001b[0mdata\u001b[0m\u001b[0;34m,\u001b[0m \u001b[0;34m**\u001b[0m\u001b[0mkwargs\u001b[0m\u001b[0;34m)\u001b[0m\u001b[0;34m\u001b[0m\u001b[0;34m\u001b[0m\u001b[0m\n\u001b[0m\u001b[1;32m     87\u001b[0m         \u001b[0mself\u001b[0m\u001b[0;34m.\u001b[0m\u001b[0m_fitted\u001b[0m \u001b[0;34m=\u001b[0m \u001b[0;32mTrue\u001b[0m\u001b[0;34m\u001b[0m\u001b[0;34m\u001b[0m\u001b[0m\n\u001b[1;32m     88\u001b[0m \u001b[0;34m\u001b[0m\u001b[0m\n",
            "\u001b[0;32m/usr/local/lib/python3.7/dist-packages/mlblocks/mlpipeline.py\u001b[0m in \u001b[0;36mfit\u001b[0;34m(self, X, y, output_, start_, **kwargs)\u001b[0m\n\u001b[1;32m    647\u001b[0m                     \u001b[0;32mcontinue\u001b[0m\u001b[0;34m\u001b[0m\u001b[0;34m\u001b[0m\u001b[0m\n\u001b[1;32m    648\u001b[0m \u001b[0;34m\u001b[0m\u001b[0m\n\u001b[0;32m--> 649\u001b[0;31m             \u001b[0mself\u001b[0m\u001b[0;34m.\u001b[0m\u001b[0m_fit_block\u001b[0m\u001b[0;34m(\u001b[0m\u001b[0mblock\u001b[0m\u001b[0;34m,\u001b[0m \u001b[0mblock_name\u001b[0m\u001b[0;34m,\u001b[0m \u001b[0mcontext\u001b[0m\u001b[0;34m)\u001b[0m\u001b[0;34m\u001b[0m\u001b[0;34m\u001b[0m\u001b[0m\n\u001b[0m\u001b[1;32m    650\u001b[0m \u001b[0;34m\u001b[0m\u001b[0m\n\u001b[1;32m    651\u001b[0m             \u001b[0;32mif\u001b[0m \u001b[0;34m(\u001b[0m\u001b[0mblock_name\u001b[0m \u001b[0;34m!=\u001b[0m \u001b[0mself\u001b[0m\u001b[0;34m.\u001b[0m\u001b[0m_last_block_name\u001b[0m\u001b[0;34m)\u001b[0m \u001b[0;32mor\u001b[0m \u001b[0;34m(\u001b[0m\u001b[0mblock_name\u001b[0m \u001b[0;32min\u001b[0m \u001b[0moutput_blocks\u001b[0m\u001b[0;34m)\u001b[0m\u001b[0;34m:\u001b[0m\u001b[0;34m\u001b[0m\u001b[0;34m\u001b[0m\u001b[0m\n",
            "\u001b[0;32m/usr/local/lib/python3.7/dist-packages/mlblocks/mlpipeline.py\u001b[0m in \u001b[0;36m_fit_block\u001b[0;34m(self, block, block_name, context)\u001b[0m\n\u001b[1;32m    547\u001b[0m         \u001b[0;32mtry\u001b[0m\u001b[0;34m:\u001b[0m\u001b[0;34m\u001b[0m\u001b[0;34m\u001b[0m\u001b[0m\n\u001b[1;32m    548\u001b[0m             \u001b[0mfit_args\u001b[0m \u001b[0;34m=\u001b[0m \u001b[0mself\u001b[0m\u001b[0;34m.\u001b[0m\u001b[0m_get_block_args\u001b[0m\u001b[0;34m(\u001b[0m\u001b[0mblock_name\u001b[0m\u001b[0;34m,\u001b[0m \u001b[0mblock\u001b[0m\u001b[0;34m.\u001b[0m\u001b[0mfit_args\u001b[0m\u001b[0;34m,\u001b[0m \u001b[0mcontext\u001b[0m\u001b[0;34m)\u001b[0m\u001b[0;34m\u001b[0m\u001b[0;34m\u001b[0m\u001b[0m\n\u001b[0;32m--> 549\u001b[0;31m             \u001b[0mblock\u001b[0m\u001b[0;34m.\u001b[0m\u001b[0mfit\u001b[0m\u001b[0;34m(\u001b[0m\u001b[0;34m**\u001b[0m\u001b[0mfit_args\u001b[0m\u001b[0;34m)\u001b[0m\u001b[0;34m\u001b[0m\u001b[0;34m\u001b[0m\u001b[0m\n\u001b[0m\u001b[1;32m    550\u001b[0m         \u001b[0;32mexcept\u001b[0m \u001b[0mException\u001b[0m\u001b[0;34m:\u001b[0m\u001b[0;34m\u001b[0m\u001b[0;34m\u001b[0m\u001b[0m\n\u001b[1;32m    551\u001b[0m             \u001b[0;32mif\u001b[0m \u001b[0mself\u001b[0m\u001b[0;34m.\u001b[0m\u001b[0mverbose\u001b[0m\u001b[0;34m:\u001b[0m\u001b[0;34m\u001b[0m\u001b[0;34m\u001b[0m\u001b[0m\n",
            "\u001b[0;32m/usr/local/lib/python3.7/dist-packages/mlblocks/mlblock.py\u001b[0m in \u001b[0;36mfit\u001b[0;34m(self, **kwargs)\u001b[0m\n\u001b[1;32m    300\u001b[0m             \u001b[0mfit_kwargs\u001b[0m\u001b[0;34m.\u001b[0m\u001b[0mupdate\u001b[0m\u001b[0;34m(\u001b[0m\u001b[0mkwargs\u001b[0m\u001b[0;34m)\u001b[0m\u001b[0;34m\u001b[0m\u001b[0;34m\u001b[0m\u001b[0m\n\u001b[1;32m    301\u001b[0m             \u001b[0mfit_kwargs\u001b[0m \u001b[0;34m=\u001b[0m \u001b[0mself\u001b[0m\u001b[0;34m.\u001b[0m\u001b[0m_get_method_kwargs\u001b[0m\u001b[0;34m(\u001b[0m\u001b[0mfit_kwargs\u001b[0m\u001b[0;34m,\u001b[0m \u001b[0mself\u001b[0m\u001b[0;34m.\u001b[0m\u001b[0mfit_args\u001b[0m\u001b[0;34m)\u001b[0m\u001b[0;34m\u001b[0m\u001b[0;34m\u001b[0m\u001b[0m\n\u001b[0;32m--> 302\u001b[0;31m             \u001b[0mgetattr\u001b[0m\u001b[0;34m(\u001b[0m\u001b[0mself\u001b[0m\u001b[0;34m.\u001b[0m\u001b[0minstance\u001b[0m\u001b[0;34m,\u001b[0m \u001b[0mself\u001b[0m\u001b[0;34m.\u001b[0m\u001b[0mfit_method\u001b[0m\u001b[0;34m)\u001b[0m\u001b[0;34m(\u001b[0m\u001b[0;34m**\u001b[0m\u001b[0mfit_kwargs\u001b[0m\u001b[0;34m)\u001b[0m\u001b[0;34m\u001b[0m\u001b[0;34m\u001b[0m\u001b[0m\n\u001b[0m\u001b[1;32m    303\u001b[0m \u001b[0;34m\u001b[0m\u001b[0m\n\u001b[1;32m    304\u001b[0m     \u001b[0;32mdef\u001b[0m \u001b[0mproduce\u001b[0m\u001b[0;34m(\u001b[0m\u001b[0mself\u001b[0m\u001b[0;34m,\u001b[0m \u001b[0;34m**\u001b[0m\u001b[0mkwargs\u001b[0m\u001b[0;34m)\u001b[0m\u001b[0;34m:\u001b[0m\u001b[0;34m\u001b[0m\u001b[0;34m\u001b[0m\u001b[0m\n",
            "\u001b[0;32m/usr/local/lib/python3.7/dist-packages/mlprimitives/adapters/keras.py\u001b[0m in \u001b[0;36mfit\u001b[0;34m(self, X, y, **kwargs)\u001b[0m\n\u001b[1;32m    109\u001b[0m         self.model.fit(X, y, epochs=self.epochs, verbose=self.verbose, callbacks=callbacks,\n\u001b[1;32m    110\u001b[0m                        \u001b[0mvalidation_split\u001b[0m\u001b[0;34m=\u001b[0m\u001b[0mself\u001b[0m\u001b[0;34m.\u001b[0m\u001b[0mvalidation_split\u001b[0m\u001b[0;34m,\u001b[0m \u001b[0mbatch_size\u001b[0m\u001b[0;34m=\u001b[0m\u001b[0mself\u001b[0m\u001b[0;34m.\u001b[0m\u001b[0mbatch_size\u001b[0m\u001b[0;34m,\u001b[0m\u001b[0;34m\u001b[0m\u001b[0;34m\u001b[0m\u001b[0m\n\u001b[0;32m--> 111\u001b[0;31m                        shuffle=self.shuffle)\n\u001b[0m\u001b[1;32m    112\u001b[0m \u001b[0;34m\u001b[0m\u001b[0m\n\u001b[1;32m    113\u001b[0m     \u001b[0;32mdef\u001b[0m \u001b[0mpredict\u001b[0m\u001b[0;34m(\u001b[0m\u001b[0mself\u001b[0m\u001b[0;34m,\u001b[0m \u001b[0mX\u001b[0m\u001b[0;34m)\u001b[0m\u001b[0;34m:\u001b[0m\u001b[0;34m\u001b[0m\u001b[0;34m\u001b[0m\u001b[0m\n",
            "\u001b[0;32m/usr/local/lib/python3.7/dist-packages/keras/engine/training.py\u001b[0m in \u001b[0;36mfit\u001b[0;34m(self, x, y, batch_size, epochs, verbose, callbacks, validation_split, validation_data, shuffle, class_weight, sample_weight, initial_epoch, steps_per_epoch, validation_steps, validation_freq, max_queue_size, workers, use_multiprocessing, **kwargs)\u001b[0m\n\u001b[1;32m   1237\u001b[0m                                         \u001b[0msteps_per_epoch\u001b[0m\u001b[0;34m=\u001b[0m\u001b[0msteps_per_epoch\u001b[0m\u001b[0;34m,\u001b[0m\u001b[0;34m\u001b[0m\u001b[0;34m\u001b[0m\u001b[0m\n\u001b[1;32m   1238\u001b[0m                                         \u001b[0mvalidation_steps\u001b[0m\u001b[0;34m=\u001b[0m\u001b[0mvalidation_steps\u001b[0m\u001b[0;34m,\u001b[0m\u001b[0;34m\u001b[0m\u001b[0;34m\u001b[0m\u001b[0m\n\u001b[0;32m-> 1239\u001b[0;31m                                         validation_freq=validation_freq)\n\u001b[0m\u001b[1;32m   1240\u001b[0m \u001b[0;34m\u001b[0m\u001b[0m\n\u001b[1;32m   1241\u001b[0m     def evaluate(self,\n",
            "\u001b[0;32m/usr/local/lib/python3.7/dist-packages/keras/engine/training_arrays.py\u001b[0m in \u001b[0;36mfit_loop\u001b[0;34m(model, fit_function, fit_inputs, out_labels, batch_size, epochs, verbose, callbacks, val_function, val_inputs, shuffle, initial_epoch, steps_per_epoch, validation_steps, validation_freq)\u001b[0m\n\u001b[1;32m    194\u001b[0m                     \u001b[0mins_batch\u001b[0m\u001b[0;34m[\u001b[0m\u001b[0mi\u001b[0m\u001b[0;34m]\u001b[0m \u001b[0;34m=\u001b[0m \u001b[0mins_batch\u001b[0m\u001b[0;34m[\u001b[0m\u001b[0mi\u001b[0m\u001b[0;34m]\u001b[0m\u001b[0;34m.\u001b[0m\u001b[0mtoarray\u001b[0m\u001b[0;34m(\u001b[0m\u001b[0;34m)\u001b[0m\u001b[0;34m\u001b[0m\u001b[0;34m\u001b[0m\u001b[0m\n\u001b[1;32m    195\u001b[0m \u001b[0;34m\u001b[0m\u001b[0m\n\u001b[0;32m--> 196\u001b[0;31m                 \u001b[0mouts\u001b[0m \u001b[0;34m=\u001b[0m \u001b[0mfit_function\u001b[0m\u001b[0;34m(\u001b[0m\u001b[0mins_batch\u001b[0m\u001b[0;34m)\u001b[0m\u001b[0;34m\u001b[0m\u001b[0;34m\u001b[0m\u001b[0m\n\u001b[0m\u001b[1;32m    197\u001b[0m                 \u001b[0mouts\u001b[0m \u001b[0;34m=\u001b[0m \u001b[0mto_list\u001b[0m\u001b[0;34m(\u001b[0m\u001b[0mouts\u001b[0m\u001b[0;34m)\u001b[0m\u001b[0;34m\u001b[0m\u001b[0;34m\u001b[0m\u001b[0m\n\u001b[1;32m    198\u001b[0m                 \u001b[0;32mfor\u001b[0m \u001b[0ml\u001b[0m\u001b[0;34m,\u001b[0m \u001b[0mo\u001b[0m \u001b[0;32min\u001b[0m \u001b[0mzip\u001b[0m\u001b[0;34m(\u001b[0m\u001b[0mout_labels\u001b[0m\u001b[0;34m,\u001b[0m \u001b[0mouts\u001b[0m\u001b[0;34m)\u001b[0m\u001b[0;34m:\u001b[0m\u001b[0;34m\u001b[0m\u001b[0;34m\u001b[0m\u001b[0m\n",
            "\u001b[0;32m/usr/local/lib/python3.7/dist-packages/tensorflow_core/python/keras/backend.py\u001b[0m in \u001b[0;36m__call__\u001b[0;34m(self, inputs)\u001b[0m\n\u001b[1;32m   3474\u001b[0m \u001b[0;34m\u001b[0m\u001b[0m\n\u001b[1;32m   3475\u001b[0m     fetched = self._callable_fn(*array_vals,\n\u001b[0;32m-> 3476\u001b[0;31m                                 run_metadata=self.run_metadata)\n\u001b[0m\u001b[1;32m   3477\u001b[0m     \u001b[0mself\u001b[0m\u001b[0;34m.\u001b[0m\u001b[0m_call_fetch_callbacks\u001b[0m\u001b[0;34m(\u001b[0m\u001b[0mfetched\u001b[0m\u001b[0;34m[\u001b[0m\u001b[0;34m-\u001b[0m\u001b[0mlen\u001b[0m\u001b[0;34m(\u001b[0m\u001b[0mself\u001b[0m\u001b[0;34m.\u001b[0m\u001b[0m_fetches\u001b[0m\u001b[0;34m)\u001b[0m\u001b[0;34m:\u001b[0m\u001b[0;34m]\u001b[0m\u001b[0;34m)\u001b[0m\u001b[0;34m\u001b[0m\u001b[0;34m\u001b[0m\u001b[0m\n\u001b[1;32m   3478\u001b[0m     output_structure = nest.pack_sequence_as(\n",
            "\u001b[0;32m/usr/local/lib/python3.7/dist-packages/tensorflow_core/python/client/session.py\u001b[0m in \u001b[0;36m__call__\u001b[0;34m(self, *args, **kwargs)\u001b[0m\n\u001b[1;32m   1470\u001b[0m         ret = tf_session.TF_SessionRunCallable(self._session._session,\n\u001b[1;32m   1471\u001b[0m                                                \u001b[0mself\u001b[0m\u001b[0;34m.\u001b[0m\u001b[0m_handle\u001b[0m\u001b[0;34m,\u001b[0m \u001b[0margs\u001b[0m\u001b[0;34m,\u001b[0m\u001b[0;34m\u001b[0m\u001b[0;34m\u001b[0m\u001b[0m\n\u001b[0;32m-> 1472\u001b[0;31m                                                run_metadata_ptr)\n\u001b[0m\u001b[1;32m   1473\u001b[0m         \u001b[0;32mif\u001b[0m \u001b[0mrun_metadata\u001b[0m\u001b[0;34m:\u001b[0m\u001b[0;34m\u001b[0m\u001b[0;34m\u001b[0m\u001b[0m\n\u001b[1;32m   1474\u001b[0m           \u001b[0mproto_data\u001b[0m \u001b[0;34m=\u001b[0m \u001b[0mtf_session\u001b[0m\u001b[0;34m.\u001b[0m\u001b[0mTF_GetBuffer\u001b[0m\u001b[0;34m(\u001b[0m\u001b[0mrun_metadata_ptr\u001b[0m\u001b[0;34m)\u001b[0m\u001b[0;34m\u001b[0m\u001b[0;34m\u001b[0m\u001b[0m\n",
            "\u001b[0;31mKeyboardInterrupt\u001b[0m: "
          ]
        }
      ]
    },
    {
      "cell_type": "code",
      "source": [
        "anomalies_lstm"
      ],
      "metadata": {
        "id": "xsYpb7TJlMt4"
      },
      "execution_count": null,
      "outputs": []
    },
    {
      "cell_type": "markdown",
      "source": [
        "###TadGAN"
      ],
      "metadata": {
        "id": "4OTX3micWvWc"
      }
    },
    {
      "cell_type": "code",
      "source": [
        "orion_tadgan = Orion(\n",
        "    pipeline='tadgan'\n",
        ")"
      ],
      "metadata": {
        "id": "LfGbZ5dRWzJe"
      },
      "execution_count": null,
      "outputs": []
    },
    {
      "cell_type": "code",
      "source": [
        "orion_tadgan.fit(appl_final.head(3000))\n",
        "anomalies_tadgan = orion_tadgan.detect(appl_final)"
      ],
      "metadata": {
        "id": "3kI7GcZjXdOb"
      },
      "execution_count": null,
      "outputs": []
    },
    {
      "cell_type": "code",
      "source": [
        "anomalies_tadgan"
      ],
      "metadata": {
        "id": "pc1kWOgilO-f"
      },
      "execution_count": null,
      "outputs": []
    },
    {
      "cell_type": "markdown",
      "source": [
        "###Arima"
      ],
      "metadata": {
        "id": "feZRZOvLW260"
      }
    },
    {
      "cell_type": "code",
      "source": [
        "orion_arima = Orion(\n",
        "    pipeline='arima'\n",
        ")\n"
      ],
      "metadata": {
        "id": "qPuk3qZdW2Uq"
      },
      "execution_count": null,
      "outputs": []
    },
    {
      "cell_type": "code",
      "source": [
        "orion_arima.fit(appl_final.head(3000))\n",
        "anomalies_arima = orion_arima.detect(appl_final)"
      ],
      "metadata": {
        "id": "8A1zz_qHZccY"
      },
      "execution_count": null,
      "outputs": []
    },
    {
      "cell_type": "code",
      "source": [
        "anomalies_arima"
      ],
      "metadata": {
        "id": "UeR2CX0AlSn_"
      },
      "execution_count": null,
      "outputs": []
    },
    {
      "cell_type": "markdown",
      "source": [
        "##Plot"
      ],
      "metadata": {
        "id": "HzO09a8qW50G"
      }
    },
    {
      "cell_type": "code",
      "source": [
        "#LSTM\n",
        "anomalies_lstm['start'] = pd.to_datetime(anomalies_lstm['start'], unit='s')\n",
        "anomalies_lstm['end'] = pd.to_datetime(anomalies_lstm['end'], unit='s')\n",
        "\n",
        "#TadGAN\n",
        "anomalies_tadgan['start'] = pd.to_datetime(anomalies_tadgan['start'], unit='s')\n",
        "anomalies_tadgan['end'] = pd.to_datetime(anomalies_tadgan['end'], unit='s')\n",
        "\n",
        "#ARIMA\n",
        "anomalies_arima['start'] = pd.to_datetime(anomalies_arima['start'], unit='s')\n",
        "anomalies_arima['end'] = pd.to_datetime(anomalies_arima['end'], unit='s')"
      ],
      "metadata": {
        "id": "UlXdH0oIj9fp"
      },
      "execution_count": null,
      "outputs": []
    },
    {
      "cell_type": "code",
      "source": [
        "anomalies_hist_lstm = [aapl.history(start=anomalies_lstm['start'].iloc[i], end=anomalies_lstm['end'].iloc[i]) for i in range(anomalies_lstm.shape[0])]\n",
        "anomalies_hist_tadgan = [aapl.history(start=anomalies_tadgan['start'].iloc[i], end=anomalies_tadgan['end'].iloc[i]) for i in range(anomalies_tadgan.shape[0])]\n",
        "anomalies_hist_arima = [aapl.history(start=anomalies_arima['start'].iloc[i], end=anomalies_arima['end'].iloc[i]) for i in range(anomalies_arima.shape[0])]"
      ],
      "metadata": {
        "id": "QmVXBZdskpHQ"
      },
      "execution_count": null,
      "outputs": []
    },
    {
      "cell_type": "code",
      "source": [
        "import plotly.graph_objects as go\n",
        "from plotly.subplots import make_subplots"
      ],
      "metadata": {
        "id": "O1MHFJ2_k56n"
      },
      "execution_count": null,
      "outputs": []
    },
    {
      "cell_type": "code",
      "source": [
        "fig_lstm = make_subplots(specs=[[{\"secondary_y\": True}]])\n",
        "fig_lstm.add_trace(go.Scatter(x=hist.index,y=hist['Close'],name='Price'),secondary_y=False)\n",
        "for i in range(len(anomalies_hist_lstm)):\n",
        "  fig_lstm.add_trace(go.Scatter(x=anomalies_hist_lstm[i].index.values,y=anomalies_hist_lstm[i]['Close'],name='Anomaly' + str(i)),secondary_y=False)\n",
        "fig_lstm.update_layout(title_text='LSTM')\n",
        "\n",
        "fig_tadgan = make_subplots(specs=[[{\"secondary_y\": True}]])\n",
        "fig_tadgan.add_trace(go.Scatter(x=hist.index,y=hist['Close'],name='Price'),secondary_y=False)\n",
        "for i in range(len(anomalies_hist_tadgan)):\n",
        "  fig_tadgan.add_trace(go.Scatter(x=anomalies_hist_tadgan[i].index.values,y=anomalies_hist_tadgan[i]['Close'],name='Anomaly' + str(i)),secondary_y=False)\n",
        "fig_tadgan.update_layout(title_text='TadGAN')\n",
        "\n",
        "fig_arima = make_subplots(specs=[[{\"secondary_y\": True}]])\n",
        "fig_arima.add_trace(go.Scatter(x=hist.index,y=hist['Close'],name='Price'),secondary_y=False)\n",
        "for i in range(len(anomalies_hist_arima)):\n",
        "  fig_arima.add_trace(go.Scatter(x=anomalies_hist_arima[i].index.values,y=anomalies_hist_arima[i]['Close'],name='Anomaly' + str(i)),secondary_y=False)\n",
        "fig_arima.update_layout(title_text='ARIMA')"
      ],
      "metadata": {
        "id": "dlzDSYbuk7io"
      },
      "execution_count": null,
      "outputs": []
    },
    {
      "cell_type": "markdown",
      "source": [
        "###Graph"
      ],
      "metadata": {
        "id": "U0x952UyliOF"
      }
    },
    {
      "cell_type": "code",
      "source": [
        "fig_lstm.show()\n",
        "fig_tadgan.show()\n",
        "fig_arima.show()"
      ],
      "metadata": {
        "id": "Wln8Asj9loEB"
      },
      "execution_count": null,
      "outputs": []
    },
    {
      "cell_type": "markdown",
      "source": [
        "#Extracting sentiments from financial op-ed and tweets"
      ],
      "metadata": {
        "id": "VXhcRXPimnj5"
      }
    },
    {
      "cell_type": "markdown",
      "source": [
        "##Importing Data"
      ],
      "metadata": {
        "id": "NMwthprqIQXk"
      }
    },
    {
      "cell_type": "code",
      "source": [
        "import pandas as pd\n",
        "import io\n",
        "import datetime"
      ],
      "metadata": {
        "id": "3IYxBtocwbzw"
      },
      "execution_count": null,
      "outputs": []
    },
    {
      "cell_type": "code",
      "source": [
        "df = pd.read_csv('/content/drive/MyDrive/financial_oped_tweets.csv')"
      ],
      "metadata": {
        "id": "IZchcmVfmhGG"
      },
      "execution_count": null,
      "outputs": []
    },
    {
      "cell_type": "code",
      "source": [
        "df=df.dropna(subset=['content'])"
      ],
      "metadata": {
        "id": "hIhv0kITwqoJ"
      },
      "execution_count": null,
      "outputs": []
    },
    {
      "cell_type": "code",
      "source": [
        "df['category'].unique()"
      ],
      "metadata": {
        "id": "OcUKqy4ww561",
        "colab": {
          "base_uri": "https://localhost:8080/"
        },
        "outputId": "494828a3-d383-4c70-f752-36d221433956"
      },
      "execution_count": null,
      "outputs": [
        {
          "output_type": "execute_result",
          "data": {
            "text/plain": [
              "array(['news', 'opinion', 'tweet'], dtype=object)"
            ]
          },
          "metadata": {},
          "execution_count": 4
        }
      ]
    },
    {
      "cell_type": "code",
      "source": [
        "anomaly_start = \"2018-01-08\"\n",
        "anomaly_end = \"2018-01-17\""
      ],
      "metadata": {
        "id": "veL5okj7C9XB"
      },
      "execution_count": null,
      "outputs": []
    },
    {
      "cell_type": "code",
      "source": [
        "df1 = df[ df['ticker'] == 'AAPL' ]\n",
        "df1 = df1[ df1['release_date'].between(anomaly_start, anomaly_end) ]"
      ],
      "metadata": {
        "id": "5dgoBK-Pw-7y"
      },
      "execution_count": null,
      "outputs": []
    },
    {
      "cell_type": "code",
      "source": [
        "df1.sample(n=5)"
      ],
      "metadata": {
        "colab": {
          "base_uri": "https://localhost:8080/",
          "height": 354
        },
        "id": "WBbRgMgqIg0C",
        "outputId": "59bb2b2f-576b-455c-c514-14905b43aaca"
      },
      "execution_count": null,
      "outputs": [
        {
          "output_type": "execute_result",
          "data": {
            "text/plain": [
              "        Unnamed: 0 ticker                                              title  \\\n",
              "113974      113974   AAPL  CME  TiVo  Texas Instruments  STMicroelectroni...   \n",
              "115065      115065   AAPL  5 Stocks To Fall Back On Amid Lurking Governme...   \n",
              "114815      114815   AAPL  Comcast Slapped With Patent Infringement Charg...   \n",
              "115011      115011   AAPL  Should Value Investors Choose Navios Maritime ...   \n",
              "114929      114929   AAPL    Is A WNS  Holdings   WNS  This Earnings Season    \n",
              "\n",
              "       category                                            content  \\\n",
              "113974  opinion  For Immediate ReleaseChicago  IL   January 10 ...   \n",
              "115065  opinion  The unprecedented reversal in the stock market...   \n",
              "114815  opinion  Comcast Corp    NASDAQ CMCSA    the leading ca...   \n",
              "115011  opinion  Value investing is easily one of the most popu...   \n",
              "114929  opinion  Investors are always looking for stocks that a...   \n",
              "\n",
              "       release_date                     writer  \n",
              "113974   2018-01-09  Zacks Investment Research  \n",
              "115065   2018-01-16  Zacks Investment Research  \n",
              "114815   2018-01-15  Zacks Investment Research  \n",
              "115011   2018-01-16  Zacks Investment Research  \n",
              "114929   2018-01-16  Zacks Investment Research  "
            ],
            "text/html": [
              "\n",
              "  <div id=\"df-4096461c-de49-413a-bdd4-bbe10ab78860\">\n",
              "    <div class=\"colab-df-container\">\n",
              "      <div>\n",
              "<style scoped>\n",
              "    .dataframe tbody tr th:only-of-type {\n",
              "        vertical-align: middle;\n",
              "    }\n",
              "\n",
              "    .dataframe tbody tr th {\n",
              "        vertical-align: top;\n",
              "    }\n",
              "\n",
              "    .dataframe thead th {\n",
              "        text-align: right;\n",
              "    }\n",
              "</style>\n",
              "<table border=\"1\" class=\"dataframe\">\n",
              "  <thead>\n",
              "    <tr style=\"text-align: right;\">\n",
              "      <th></th>\n",
              "      <th>Unnamed: 0</th>\n",
              "      <th>ticker</th>\n",
              "      <th>title</th>\n",
              "      <th>category</th>\n",
              "      <th>content</th>\n",
              "      <th>release_date</th>\n",
              "      <th>writer</th>\n",
              "    </tr>\n",
              "  </thead>\n",
              "  <tbody>\n",
              "    <tr>\n",
              "      <th>113974</th>\n",
              "      <td>113974</td>\n",
              "      <td>AAPL</td>\n",
              "      <td>CME  TiVo  Texas Instruments  STMicroelectroni...</td>\n",
              "      <td>opinion</td>\n",
              "      <td>For Immediate ReleaseChicago  IL   January 10 ...</td>\n",
              "      <td>2018-01-09</td>\n",
              "      <td>Zacks Investment Research</td>\n",
              "    </tr>\n",
              "    <tr>\n",
              "      <th>115065</th>\n",
              "      <td>115065</td>\n",
              "      <td>AAPL</td>\n",
              "      <td>5 Stocks To Fall Back On Amid Lurking Governme...</td>\n",
              "      <td>opinion</td>\n",
              "      <td>The unprecedented reversal in the stock market...</td>\n",
              "      <td>2018-01-16</td>\n",
              "      <td>Zacks Investment Research</td>\n",
              "    </tr>\n",
              "    <tr>\n",
              "      <th>114815</th>\n",
              "      <td>114815</td>\n",
              "      <td>AAPL</td>\n",
              "      <td>Comcast Slapped With Patent Infringement Charg...</td>\n",
              "      <td>opinion</td>\n",
              "      <td>Comcast Corp    NASDAQ CMCSA    the leading ca...</td>\n",
              "      <td>2018-01-15</td>\n",
              "      <td>Zacks Investment Research</td>\n",
              "    </tr>\n",
              "    <tr>\n",
              "      <th>115011</th>\n",
              "      <td>115011</td>\n",
              "      <td>AAPL</td>\n",
              "      <td>Should Value Investors Choose Navios Maritime ...</td>\n",
              "      <td>opinion</td>\n",
              "      <td>Value investing is easily one of the most popu...</td>\n",
              "      <td>2018-01-16</td>\n",
              "      <td>Zacks Investment Research</td>\n",
              "    </tr>\n",
              "    <tr>\n",
              "      <th>114929</th>\n",
              "      <td>114929</td>\n",
              "      <td>AAPL</td>\n",
              "      <td>Is A WNS  Holdings   WNS  This Earnings Season</td>\n",
              "      <td>opinion</td>\n",
              "      <td>Investors are always looking for stocks that a...</td>\n",
              "      <td>2018-01-16</td>\n",
              "      <td>Zacks Investment Research</td>\n",
              "    </tr>\n",
              "  </tbody>\n",
              "</table>\n",
              "</div>\n",
              "      <button class=\"colab-df-convert\" onclick=\"convertToInteractive('df-4096461c-de49-413a-bdd4-bbe10ab78860')\"\n",
              "              title=\"Convert this dataframe to an interactive table.\"\n",
              "              style=\"display:none;\">\n",
              "        \n",
              "  <svg xmlns=\"http://www.w3.org/2000/svg\" height=\"24px\"viewBox=\"0 0 24 24\"\n",
              "       width=\"24px\">\n",
              "    <path d=\"M0 0h24v24H0V0z\" fill=\"none\"/>\n",
              "    <path d=\"M18.56 5.44l.94 2.06.94-2.06 2.06-.94-2.06-.94-.94-2.06-.94 2.06-2.06.94zm-11 1L8.5 8.5l.94-2.06 2.06-.94-2.06-.94L8.5 2.5l-.94 2.06-2.06.94zm10 10l.94 2.06.94-2.06 2.06-.94-2.06-.94-.94-2.06-.94 2.06-2.06.94z\"/><path d=\"M17.41 7.96l-1.37-1.37c-.4-.4-.92-.59-1.43-.59-.52 0-1.04.2-1.43.59L10.3 9.45l-7.72 7.72c-.78.78-.78 2.05 0 2.83L4 21.41c.39.39.9.59 1.41.59.51 0 1.02-.2 1.41-.59l7.78-7.78 2.81-2.81c.8-.78.8-2.07 0-2.86zM5.41 20L4 18.59l7.72-7.72 1.47 1.35L5.41 20z\"/>\n",
              "  </svg>\n",
              "      </button>\n",
              "      \n",
              "  <style>\n",
              "    .colab-df-container {\n",
              "      display:flex;\n",
              "      flex-wrap:wrap;\n",
              "      gap: 12px;\n",
              "    }\n",
              "\n",
              "    .colab-df-convert {\n",
              "      background-color: #E8F0FE;\n",
              "      border: none;\n",
              "      border-radius: 50%;\n",
              "      cursor: pointer;\n",
              "      display: none;\n",
              "      fill: #1967D2;\n",
              "      height: 32px;\n",
              "      padding: 0 0 0 0;\n",
              "      width: 32px;\n",
              "    }\n",
              "\n",
              "    .colab-df-convert:hover {\n",
              "      background-color: #E2EBFA;\n",
              "      box-shadow: 0px 1px 2px rgba(60, 64, 67, 0.3), 0px 1px 3px 1px rgba(60, 64, 67, 0.15);\n",
              "      fill: #174EA6;\n",
              "    }\n",
              "\n",
              "    [theme=dark] .colab-df-convert {\n",
              "      background-color: #3B4455;\n",
              "      fill: #D2E3FC;\n",
              "    }\n",
              "\n",
              "    [theme=dark] .colab-df-convert:hover {\n",
              "      background-color: #434B5C;\n",
              "      box-shadow: 0px 1px 3px 1px rgba(0, 0, 0, 0.15);\n",
              "      filter: drop-shadow(0px 1px 2px rgba(0, 0, 0, 0.3));\n",
              "      fill: #FFFFFF;\n",
              "    }\n",
              "  </style>\n",
              "\n",
              "      <script>\n",
              "        const buttonEl =\n",
              "          document.querySelector('#df-4096461c-de49-413a-bdd4-bbe10ab78860 button.colab-df-convert');\n",
              "        buttonEl.style.display =\n",
              "          google.colab.kernel.accessAllowed ? 'block' : 'none';\n",
              "\n",
              "        async function convertToInteractive(key) {\n",
              "          const element = document.querySelector('#df-4096461c-de49-413a-bdd4-bbe10ab78860');\n",
              "          const dataTable =\n",
              "            await google.colab.kernel.invokeFunction('convertToInteractive',\n",
              "                                                     [key], {});\n",
              "          if (!dataTable) return;\n",
              "\n",
              "          const docLinkHtml = 'Like what you see? Visit the ' +\n",
              "            '<a target=\"_blank\" href=https://colab.research.google.com/notebooks/data_table.ipynb>data table notebook</a>'\n",
              "            + ' to learn more about interactive tables.';\n",
              "          element.innerHTML = '';\n",
              "          dataTable['output_type'] = 'display_data';\n",
              "          await google.colab.output.renderOutput(dataTable, element);\n",
              "          const docLink = document.createElement('div');\n",
              "          docLink.innerHTML = docLinkHtml;\n",
              "          element.appendChild(docLink);\n",
              "        }\n",
              "      </script>\n",
              "    </div>\n",
              "  </div>\n",
              "  "
            ]
          },
          "metadata": {},
          "execution_count": 18
        }
      ]
    },
    {
      "cell_type": "markdown",
      "source": [
        "##Sentiment Analysis"
      ],
      "metadata": {
        "id": "Cb9UTUokxnlO"
      }
    },
    {
      "cell_type": "code",
      "source": [
        "from nltk.sentiment.vader import SentimentIntensityAnalyzer\n",
        "import nltk\n",
        "nltk.downloader.download('vader_lexicon')"
      ],
      "metadata": {
        "id": "GShhfUGBxi3U",
        "colab": {
          "base_uri": "https://localhost:8080/"
        },
        "outputId": "a554b382-dd77-4692-e950-63af6f703497"
      },
      "execution_count": null,
      "outputs": [
        {
          "output_type": "stream",
          "name": "stderr",
          "text": [
            "[nltk_data] Downloading package vader_lexicon to /root/nltk_data...\n"
          ]
        },
        {
          "output_type": "execute_result",
          "data": {
            "text/plain": [
              "True"
            ]
          },
          "metadata": {},
          "execution_count": 1
        }
      ]
    },
    {
      "cell_type": "code",
      "source": [
        "analyzer = SentimentIntensityAnalyzer()"
      ],
      "metadata": {
        "id": "NHGDhIvtx676"
      },
      "execution_count": null,
      "outputs": []
    },
    {
      "cell_type": "code",
      "source": [
        "analyzer.polarity_scores('red')"
      ],
      "metadata": {
        "colab": {
          "base_uri": "https://localhost:8080/"
        },
        "id": "dR6ouALjOdxT",
        "outputId": "19af8252-7380-4723-90ef-9262e5d47f78"
      },
      "execution_count": null,
      "outputs": [
        {
          "output_type": "execute_result",
          "data": {
            "text/plain": [
              "{'neg': 0.0, 'neu': 1.0, 'pos': 0.0, 'compound': 0.0}"
            ]
          },
          "metadata": {},
          "execution_count": 3
        }
      ]
    },
    {
      "cell_type": "code",
      "source": [
        "analyzer.polarity_scores('green')"
      ],
      "metadata": {
        "colab": {
          "base_uri": "https://localhost:8080/"
        },
        "id": "uPCybZ2aOpSV",
        "outputId": "874b51da-e2c2-4517-bc8e-ac413ee90ec1"
      },
      "execution_count": null,
      "outputs": [
        {
          "output_type": "execute_result",
          "data": {
            "text/plain": [
              "{'neg': 0.0, 'neu': 1.0, 'pos': 0.0, 'compound': 0.0}"
            ]
          },
          "metadata": {},
          "execution_count": 4
        }
      ]
    },
    {
      "cell_type": "markdown",
      "source": [
        "###Ading financial terms to vader_lexicon"
      ],
      "metadata": {
        "id": "hNfvY3XZxvAd"
      }
    },
    {
      "cell_type": "code",
      "source": [
        "#Replace with dataset\n",
        "new_words = {\n",
        "    'red': -1.0,\n",
        "    'green': 1.0,\n",
        "}"
      ],
      "metadata": {
        "id": "7dQjP2IEx0bR"
      },
      "execution_count": null,
      "outputs": []
    },
    {
      "cell_type": "code",
      "source": [
        "analyzer.lexicon.update(new_words)"
      ],
      "metadata": {
        "id": "KTXYzBTqx-CT"
      },
      "execution_count": null,
      "outputs": []
    },
    {
      "cell_type": "code",
      "source": [
        "analyzer.polarity_scores('green')"
      ],
      "metadata": {
        "id": "9g7UknUld6Wb",
        "outputId": "7cc1c84d-e769-4d88-c728-679b83e32007",
        "colab": {
          "base_uri": "https://localhost:8080/"
        }
      },
      "execution_count": null,
      "outputs": [
        {
          "output_type": "execute_result",
          "data": {
            "text/plain": [
              "{'neg': 0.0, 'neu': 0.0, 'pos': 1.0, 'compound': 0.25}"
            ]
          },
          "metadata": {},
          "execution_count": 7
        }
      ]
    },
    {
      "cell_type": "markdown",
      "source": [
        "###Calc Semantic scores of news title and content"
      ],
      "metadata": {
        "id": "YByQJDHOySwm"
      }
    },
    {
      "cell_type": "code",
      "source": [
        "scores_title = df1['title'].apply(analyzer.polarity_scores).tolist()\n",
        "scores_content = df1['content'].apply(analyzer.polarity_scores).tolist()\n",
        "scores_title[0:5]"
      ],
      "metadata": {
        "id": "1VbxmwVDyUzk",
        "colab": {
          "base_uri": "https://localhost:8080/"
        },
        "outputId": "87c35467-d9d2-41f7-eef8-e78f10760c56"
      },
      "execution_count": null,
      "outputs": [
        {
          "output_type": "execute_result",
          "data": {
            "text/plain": [
              "[{'neg': 0.0, 'neu': 1.0, 'pos': 0.0, 'compound': 0.0},\n",
              " {'neg': 0.0, 'neu': 1.0, 'pos': 0.0, 'compound': 0.0},\n",
              " {'neg': 0.275, 'neu': 0.22, 'pos': 0.505, 'compound': 0.6369},\n",
              " {'neg': 0.0, 'neu': 0.82, 'pos': 0.18, 'compound': 0.296},\n",
              " {'neg': 0.0, 'neu': 1.0, 'pos': 0.0, 'compound': 0.0}]"
            ]
          },
          "metadata": {},
          "execution_count": 11
        }
      ]
    },
    {
      "cell_type": "code",
      "source": [
        "datelist = df1['release_date'].reset_index(drop = True)\n",
        "df_scores_titles = pd.DataFrame(scores_title)\n",
        "df_score_content = pd.DataFrame(scores_content)\n",
        "\n",
        "df_score_content.rename(columns = {'compound':'content_compound'}, inplace = True)\n",
        "df_scores_titles.rename(columns = {'compound':'titles_compound'}, inplace = True)\n",
        "\n",
        "compound_sm = pd.merge(df_scores_titles['titles_compound'] , df_score_content['content_compound'] , left_index =True,right_index= True)\n",
        "compound_sm_np = pd.merge(compound_sm , df1['category'].reset_index(drop=True) , left_index =True,right_index= True)\n",
        "\n",
        "semantic_oped = pd.merge(compound_sm_np , datelist , left_index =True,right_index= True)\n",
        "semantic_oped.sample(n=5)"
      ],
      "metadata": {
        "id": "VHex8OIXyj0P",
        "colab": {
          "base_uri": "https://localhost:8080/",
          "height": 206
        },
        "outputId": "99ef41ce-b1df-4f0f-a70b-38978d8404ac"
      },
      "execution_count": null,
      "outputs": [
        {
          "output_type": "execute_result",
          "data": {
            "text/plain": [
              "     titles_compound  content_compound category release_date\n",
              "158           0.4019            0.9996  opinion   2018-01-17\n",
              "144          -0.3818            0.9799  opinion   2018-01-16\n",
              "160           0.0000            0.9997  opinion   2018-01-17\n",
              "7             0.0000            0.0000    tweet   2018-01-08\n",
              "68            0.2500            0.9868  opinion   2018-01-16"
            ],
            "text/html": [
              "\n",
              "  <div id=\"df-cb36f09f-9abb-4e87-8f80-6ffa2efc1048\">\n",
              "    <div class=\"colab-df-container\">\n",
              "      <div>\n",
              "<style scoped>\n",
              "    .dataframe tbody tr th:only-of-type {\n",
              "        vertical-align: middle;\n",
              "    }\n",
              "\n",
              "    .dataframe tbody tr th {\n",
              "        vertical-align: top;\n",
              "    }\n",
              "\n",
              "    .dataframe thead th {\n",
              "        text-align: right;\n",
              "    }\n",
              "</style>\n",
              "<table border=\"1\" class=\"dataframe\">\n",
              "  <thead>\n",
              "    <tr style=\"text-align: right;\">\n",
              "      <th></th>\n",
              "      <th>titles_compound</th>\n",
              "      <th>content_compound</th>\n",
              "      <th>category</th>\n",
              "      <th>release_date</th>\n",
              "    </tr>\n",
              "  </thead>\n",
              "  <tbody>\n",
              "    <tr>\n",
              "      <th>158</th>\n",
              "      <td>0.4019</td>\n",
              "      <td>0.9996</td>\n",
              "      <td>opinion</td>\n",
              "      <td>2018-01-17</td>\n",
              "    </tr>\n",
              "    <tr>\n",
              "      <th>144</th>\n",
              "      <td>-0.3818</td>\n",
              "      <td>0.9799</td>\n",
              "      <td>opinion</td>\n",
              "      <td>2018-01-16</td>\n",
              "    </tr>\n",
              "    <tr>\n",
              "      <th>160</th>\n",
              "      <td>0.0000</td>\n",
              "      <td>0.9997</td>\n",
              "      <td>opinion</td>\n",
              "      <td>2018-01-17</td>\n",
              "    </tr>\n",
              "    <tr>\n",
              "      <th>7</th>\n",
              "      <td>0.0000</td>\n",
              "      <td>0.0000</td>\n",
              "      <td>tweet</td>\n",
              "      <td>2018-01-08</td>\n",
              "    </tr>\n",
              "    <tr>\n",
              "      <th>68</th>\n",
              "      <td>0.2500</td>\n",
              "      <td>0.9868</td>\n",
              "      <td>opinion</td>\n",
              "      <td>2018-01-16</td>\n",
              "    </tr>\n",
              "  </tbody>\n",
              "</table>\n",
              "</div>\n",
              "      <button class=\"colab-df-convert\" onclick=\"convertToInteractive('df-cb36f09f-9abb-4e87-8f80-6ffa2efc1048')\"\n",
              "              title=\"Convert this dataframe to an interactive table.\"\n",
              "              style=\"display:none;\">\n",
              "        \n",
              "  <svg xmlns=\"http://www.w3.org/2000/svg\" height=\"24px\"viewBox=\"0 0 24 24\"\n",
              "       width=\"24px\">\n",
              "    <path d=\"M0 0h24v24H0V0z\" fill=\"none\"/>\n",
              "    <path d=\"M18.56 5.44l.94 2.06.94-2.06 2.06-.94-2.06-.94-.94-2.06-.94 2.06-2.06.94zm-11 1L8.5 8.5l.94-2.06 2.06-.94-2.06-.94L8.5 2.5l-.94 2.06-2.06.94zm10 10l.94 2.06.94-2.06 2.06-.94-2.06-.94-.94-2.06-.94 2.06-2.06.94z\"/><path d=\"M17.41 7.96l-1.37-1.37c-.4-.4-.92-.59-1.43-.59-.52 0-1.04.2-1.43.59L10.3 9.45l-7.72 7.72c-.78.78-.78 2.05 0 2.83L4 21.41c.39.39.9.59 1.41.59.51 0 1.02-.2 1.41-.59l7.78-7.78 2.81-2.81c.8-.78.8-2.07 0-2.86zM5.41 20L4 18.59l7.72-7.72 1.47 1.35L5.41 20z\"/>\n",
              "  </svg>\n",
              "      </button>\n",
              "      \n",
              "  <style>\n",
              "    .colab-df-container {\n",
              "      display:flex;\n",
              "      flex-wrap:wrap;\n",
              "      gap: 12px;\n",
              "    }\n",
              "\n",
              "    .colab-df-convert {\n",
              "      background-color: #E8F0FE;\n",
              "      border: none;\n",
              "      border-radius: 50%;\n",
              "      cursor: pointer;\n",
              "      display: none;\n",
              "      fill: #1967D2;\n",
              "      height: 32px;\n",
              "      padding: 0 0 0 0;\n",
              "      width: 32px;\n",
              "    }\n",
              "\n",
              "    .colab-df-convert:hover {\n",
              "      background-color: #E2EBFA;\n",
              "      box-shadow: 0px 1px 2px rgba(60, 64, 67, 0.3), 0px 1px 3px 1px rgba(60, 64, 67, 0.15);\n",
              "      fill: #174EA6;\n",
              "    }\n",
              "\n",
              "    [theme=dark] .colab-df-convert {\n",
              "      background-color: #3B4455;\n",
              "      fill: #D2E3FC;\n",
              "    }\n",
              "\n",
              "    [theme=dark] .colab-df-convert:hover {\n",
              "      background-color: #434B5C;\n",
              "      box-shadow: 0px 1px 3px 1px rgba(0, 0, 0, 0.15);\n",
              "      filter: drop-shadow(0px 1px 2px rgba(0, 0, 0, 0.3));\n",
              "      fill: #FFFFFF;\n",
              "    }\n",
              "  </style>\n",
              "\n",
              "      <script>\n",
              "        const buttonEl =\n",
              "          document.querySelector('#df-cb36f09f-9abb-4e87-8f80-6ffa2efc1048 button.colab-df-convert');\n",
              "        buttonEl.style.display =\n",
              "          google.colab.kernel.accessAllowed ? 'block' : 'none';\n",
              "\n",
              "        async function convertToInteractive(key) {\n",
              "          const element = document.querySelector('#df-cb36f09f-9abb-4e87-8f80-6ffa2efc1048');\n",
              "          const dataTable =\n",
              "            await google.colab.kernel.invokeFunction('convertToInteractive',\n",
              "                                                     [key], {});\n",
              "          if (!dataTable) return;\n",
              "\n",
              "          const docLinkHtml = 'Like what you see? Visit the ' +\n",
              "            '<a target=\"_blank\" href=https://colab.research.google.com/notebooks/data_table.ipynb>data table notebook</a>'\n",
              "            + ' to learn more about interactive tables.';\n",
              "          element.innerHTML = '';\n",
              "          dataTable['output_type'] = 'display_data';\n",
              "          await google.colab.output.renderOutput(dataTable, element);\n",
              "          const docLink = document.createElement('div');\n",
              "          docLink.innerHTML = docLinkHtml;\n",
              "          element.appendChild(docLink);\n",
              "        }\n",
              "      </script>\n",
              "    </div>\n",
              "  </div>\n",
              "  "
            ]
          },
          "metadata": {},
          "execution_count": 12
        }
      ]
    },
    {
      "cell_type": "markdown",
      "source": [
        "##Semantic Factor"
      ],
      "metadata": {
        "id": "vA7n2Srt0feH"
      }
    },
    {
      "cell_type": "markdown",
      "source": [
        "Since financial Op-ed contents cotain more information than the titles we give content_compound a more weightage than title_compound in the ratio of 4:1"
      ],
      "metadata": {
        "id": "khIHkTOZ1YqO"
      }
    },
    {
      "cell_type": "code",
      "source": [
        "semantic_oped['compound'] = 0.2*semantic_oped['titles_compound'] + 0.8*semantic_oped['content_compound']\n",
        "semantic_oped.sample(n=5)"
      ],
      "metadata": {
        "id": "Ff58Q16P0iPR",
        "colab": {
          "base_uri": "https://localhost:8080/",
          "height": 206
        },
        "outputId": "cd4388b1-d2a0-442a-f00f-1a306322e081"
      },
      "execution_count": null,
      "outputs": [
        {
          "output_type": "execute_result",
          "data": {
            "text/plain": [
              "     titles_compound  content_compound category release_date  compound\n",
              "12               0.0            0.4939    tweet   2018-01-08   0.39512\n",
              "122              0.0            0.9633  opinion   2018-01-16   0.77064\n",
              "69               0.0            0.9882  opinion   2018-01-16   0.79056\n",
              "135              0.0            0.9941  opinion   2018-01-16   0.79528\n",
              "82               0.0            0.9892  opinion   2018-01-16   0.79136"
            ],
            "text/html": [
              "\n",
              "  <div id=\"df-67ba63ae-f74d-48ff-8c2c-813aab55c031\">\n",
              "    <div class=\"colab-df-container\">\n",
              "      <div>\n",
              "<style scoped>\n",
              "    .dataframe tbody tr th:only-of-type {\n",
              "        vertical-align: middle;\n",
              "    }\n",
              "\n",
              "    .dataframe tbody tr th {\n",
              "        vertical-align: top;\n",
              "    }\n",
              "\n",
              "    .dataframe thead th {\n",
              "        text-align: right;\n",
              "    }\n",
              "</style>\n",
              "<table border=\"1\" class=\"dataframe\">\n",
              "  <thead>\n",
              "    <tr style=\"text-align: right;\">\n",
              "      <th></th>\n",
              "      <th>titles_compound</th>\n",
              "      <th>content_compound</th>\n",
              "      <th>category</th>\n",
              "      <th>release_date</th>\n",
              "      <th>compound</th>\n",
              "    </tr>\n",
              "  </thead>\n",
              "  <tbody>\n",
              "    <tr>\n",
              "      <th>12</th>\n",
              "      <td>0.0</td>\n",
              "      <td>0.4939</td>\n",
              "      <td>tweet</td>\n",
              "      <td>2018-01-08</td>\n",
              "      <td>0.39512</td>\n",
              "    </tr>\n",
              "    <tr>\n",
              "      <th>122</th>\n",
              "      <td>0.0</td>\n",
              "      <td>0.9633</td>\n",
              "      <td>opinion</td>\n",
              "      <td>2018-01-16</td>\n",
              "      <td>0.77064</td>\n",
              "    </tr>\n",
              "    <tr>\n",
              "      <th>69</th>\n",
              "      <td>0.0</td>\n",
              "      <td>0.9882</td>\n",
              "      <td>opinion</td>\n",
              "      <td>2018-01-16</td>\n",
              "      <td>0.79056</td>\n",
              "    </tr>\n",
              "    <tr>\n",
              "      <th>135</th>\n",
              "      <td>0.0</td>\n",
              "      <td>0.9941</td>\n",
              "      <td>opinion</td>\n",
              "      <td>2018-01-16</td>\n",
              "      <td>0.79528</td>\n",
              "    </tr>\n",
              "    <tr>\n",
              "      <th>82</th>\n",
              "      <td>0.0</td>\n",
              "      <td>0.9892</td>\n",
              "      <td>opinion</td>\n",
              "      <td>2018-01-16</td>\n",
              "      <td>0.79136</td>\n",
              "    </tr>\n",
              "  </tbody>\n",
              "</table>\n",
              "</div>\n",
              "      <button class=\"colab-df-convert\" onclick=\"convertToInteractive('df-67ba63ae-f74d-48ff-8c2c-813aab55c031')\"\n",
              "              title=\"Convert this dataframe to an interactive table.\"\n",
              "              style=\"display:none;\">\n",
              "        \n",
              "  <svg xmlns=\"http://www.w3.org/2000/svg\" height=\"24px\"viewBox=\"0 0 24 24\"\n",
              "       width=\"24px\">\n",
              "    <path d=\"M0 0h24v24H0V0z\" fill=\"none\"/>\n",
              "    <path d=\"M18.56 5.44l.94 2.06.94-2.06 2.06-.94-2.06-.94-.94-2.06-.94 2.06-2.06.94zm-11 1L8.5 8.5l.94-2.06 2.06-.94-2.06-.94L8.5 2.5l-.94 2.06-2.06.94zm10 10l.94 2.06.94-2.06 2.06-.94-2.06-.94-.94-2.06-.94 2.06-2.06.94z\"/><path d=\"M17.41 7.96l-1.37-1.37c-.4-.4-.92-.59-1.43-.59-.52 0-1.04.2-1.43.59L10.3 9.45l-7.72 7.72c-.78.78-.78 2.05 0 2.83L4 21.41c.39.39.9.59 1.41.59.51 0 1.02-.2 1.41-.59l7.78-7.78 2.81-2.81c.8-.78.8-2.07 0-2.86zM5.41 20L4 18.59l7.72-7.72 1.47 1.35L5.41 20z\"/>\n",
              "  </svg>\n",
              "      </button>\n",
              "      \n",
              "  <style>\n",
              "    .colab-df-container {\n",
              "      display:flex;\n",
              "      flex-wrap:wrap;\n",
              "      gap: 12px;\n",
              "    }\n",
              "\n",
              "    .colab-df-convert {\n",
              "      background-color: #E8F0FE;\n",
              "      border: none;\n",
              "      border-radius: 50%;\n",
              "      cursor: pointer;\n",
              "      display: none;\n",
              "      fill: #1967D2;\n",
              "      height: 32px;\n",
              "      padding: 0 0 0 0;\n",
              "      width: 32px;\n",
              "    }\n",
              "\n",
              "    .colab-df-convert:hover {\n",
              "      background-color: #E2EBFA;\n",
              "      box-shadow: 0px 1px 2px rgba(60, 64, 67, 0.3), 0px 1px 3px 1px rgba(60, 64, 67, 0.15);\n",
              "      fill: #174EA6;\n",
              "    }\n",
              "\n",
              "    [theme=dark] .colab-df-convert {\n",
              "      background-color: #3B4455;\n",
              "      fill: #D2E3FC;\n",
              "    }\n",
              "\n",
              "    [theme=dark] .colab-df-convert:hover {\n",
              "      background-color: #434B5C;\n",
              "      box-shadow: 0px 1px 3px 1px rgba(0, 0, 0, 0.15);\n",
              "      filter: drop-shadow(0px 1px 2px rgba(0, 0, 0, 0.3));\n",
              "      fill: #FFFFFF;\n",
              "    }\n",
              "  </style>\n",
              "\n",
              "      <script>\n",
              "        const buttonEl =\n",
              "          document.querySelector('#df-67ba63ae-f74d-48ff-8c2c-813aab55c031 button.colab-df-convert');\n",
              "        buttonEl.style.display =\n",
              "          google.colab.kernel.accessAllowed ? 'block' : 'none';\n",
              "\n",
              "        async function convertToInteractive(key) {\n",
              "          const element = document.querySelector('#df-67ba63ae-f74d-48ff-8c2c-813aab55c031');\n",
              "          const dataTable =\n",
              "            await google.colab.kernel.invokeFunction('convertToInteractive',\n",
              "                                                     [key], {});\n",
              "          if (!dataTable) return;\n",
              "\n",
              "          const docLinkHtml = 'Like what you see? Visit the ' +\n",
              "            '<a target=\"_blank\" href=https://colab.research.google.com/notebooks/data_table.ipynb>data table notebook</a>'\n",
              "            + ' to learn more about interactive tables.';\n",
              "          element.innerHTML = '';\n",
              "          dataTable['output_type'] = 'display_data';\n",
              "          await google.colab.output.renderOutput(dataTable, element);\n",
              "          const docLink = document.createElement('div');\n",
              "          docLink.innerHTML = docLinkHtml;\n",
              "          element.appendChild(docLink);\n",
              "        }\n",
              "      </script>\n",
              "    </div>\n",
              "  </div>\n",
              "  "
            ]
          },
          "metadata": {},
          "execution_count": 13
        }
      ]
    },
    {
      "cell_type": "code",
      "source": [
        "semantic_oped2 = semantic_oped\n",
        "semantic_oped2. drop('titles_compound', axis=1, inplace=True)\n",
        "semantic_oped2. drop('content_compound', axis=1, inplace=True)\n",
        "semantic_oped2.sample(n=5)"
      ],
      "metadata": {
        "id": "-cl5yrHH1Kxl",
        "colab": {
          "base_uri": "https://localhost:8080/",
          "height": 206
        },
        "outputId": "ef0a0da7-c64a-43ac-a1f1-ed21a9168172"
      },
      "execution_count": null,
      "outputs": [
        {
          "output_type": "execute_result",
          "data": {
            "text/plain": [
              "    category release_date  compound\n",
              "76   opinion   2018-01-16   0.86384\n",
              "30      news   2018-01-10   0.52208\n",
              "131  opinion   2018-01-16   0.87292\n",
              "65      news   2018-01-16   0.73792\n",
              "78   opinion   2018-01-16   0.77600"
            ],
            "text/html": [
              "\n",
              "  <div id=\"df-83c61eda-6494-47f2-aabe-ba2250d4eb7f\">\n",
              "    <div class=\"colab-df-container\">\n",
              "      <div>\n",
              "<style scoped>\n",
              "    .dataframe tbody tr th:only-of-type {\n",
              "        vertical-align: middle;\n",
              "    }\n",
              "\n",
              "    .dataframe tbody tr th {\n",
              "        vertical-align: top;\n",
              "    }\n",
              "\n",
              "    .dataframe thead th {\n",
              "        text-align: right;\n",
              "    }\n",
              "</style>\n",
              "<table border=\"1\" class=\"dataframe\">\n",
              "  <thead>\n",
              "    <tr style=\"text-align: right;\">\n",
              "      <th></th>\n",
              "      <th>category</th>\n",
              "      <th>release_date</th>\n",
              "      <th>compound</th>\n",
              "    </tr>\n",
              "  </thead>\n",
              "  <tbody>\n",
              "    <tr>\n",
              "      <th>76</th>\n",
              "      <td>opinion</td>\n",
              "      <td>2018-01-16</td>\n",
              "      <td>0.86384</td>\n",
              "    </tr>\n",
              "    <tr>\n",
              "      <th>30</th>\n",
              "      <td>news</td>\n",
              "      <td>2018-01-10</td>\n",
              "      <td>0.52208</td>\n",
              "    </tr>\n",
              "    <tr>\n",
              "      <th>131</th>\n",
              "      <td>opinion</td>\n",
              "      <td>2018-01-16</td>\n",
              "      <td>0.87292</td>\n",
              "    </tr>\n",
              "    <tr>\n",
              "      <th>65</th>\n",
              "      <td>news</td>\n",
              "      <td>2018-01-16</td>\n",
              "      <td>0.73792</td>\n",
              "    </tr>\n",
              "    <tr>\n",
              "      <th>78</th>\n",
              "      <td>opinion</td>\n",
              "      <td>2018-01-16</td>\n",
              "      <td>0.77600</td>\n",
              "    </tr>\n",
              "  </tbody>\n",
              "</table>\n",
              "</div>\n",
              "      <button class=\"colab-df-convert\" onclick=\"convertToInteractive('df-83c61eda-6494-47f2-aabe-ba2250d4eb7f')\"\n",
              "              title=\"Convert this dataframe to an interactive table.\"\n",
              "              style=\"display:none;\">\n",
              "        \n",
              "  <svg xmlns=\"http://www.w3.org/2000/svg\" height=\"24px\"viewBox=\"0 0 24 24\"\n",
              "       width=\"24px\">\n",
              "    <path d=\"M0 0h24v24H0V0z\" fill=\"none\"/>\n",
              "    <path d=\"M18.56 5.44l.94 2.06.94-2.06 2.06-.94-2.06-.94-.94-2.06-.94 2.06-2.06.94zm-11 1L8.5 8.5l.94-2.06 2.06-.94-2.06-.94L8.5 2.5l-.94 2.06-2.06.94zm10 10l.94 2.06.94-2.06 2.06-.94-2.06-.94-.94-2.06-.94 2.06-2.06.94z\"/><path d=\"M17.41 7.96l-1.37-1.37c-.4-.4-.92-.59-1.43-.59-.52 0-1.04.2-1.43.59L10.3 9.45l-7.72 7.72c-.78.78-.78 2.05 0 2.83L4 21.41c.39.39.9.59 1.41.59.51 0 1.02-.2 1.41-.59l7.78-7.78 2.81-2.81c.8-.78.8-2.07 0-2.86zM5.41 20L4 18.59l7.72-7.72 1.47 1.35L5.41 20z\"/>\n",
              "  </svg>\n",
              "      </button>\n",
              "      \n",
              "  <style>\n",
              "    .colab-df-container {\n",
              "      display:flex;\n",
              "      flex-wrap:wrap;\n",
              "      gap: 12px;\n",
              "    }\n",
              "\n",
              "    .colab-df-convert {\n",
              "      background-color: #E8F0FE;\n",
              "      border: none;\n",
              "      border-radius: 50%;\n",
              "      cursor: pointer;\n",
              "      display: none;\n",
              "      fill: #1967D2;\n",
              "      height: 32px;\n",
              "      padding: 0 0 0 0;\n",
              "      width: 32px;\n",
              "    }\n",
              "\n",
              "    .colab-df-convert:hover {\n",
              "      background-color: #E2EBFA;\n",
              "      box-shadow: 0px 1px 2px rgba(60, 64, 67, 0.3), 0px 1px 3px 1px rgba(60, 64, 67, 0.15);\n",
              "      fill: #174EA6;\n",
              "    }\n",
              "\n",
              "    [theme=dark] .colab-df-convert {\n",
              "      background-color: #3B4455;\n",
              "      fill: #D2E3FC;\n",
              "    }\n",
              "\n",
              "    [theme=dark] .colab-df-convert:hover {\n",
              "      background-color: #434B5C;\n",
              "      box-shadow: 0px 1px 3px 1px rgba(0, 0, 0, 0.15);\n",
              "      filter: drop-shadow(0px 1px 2px rgba(0, 0, 0, 0.3));\n",
              "      fill: #FFFFFF;\n",
              "    }\n",
              "  </style>\n",
              "\n",
              "      <script>\n",
              "        const buttonEl =\n",
              "          document.querySelector('#df-83c61eda-6494-47f2-aabe-ba2250d4eb7f button.colab-df-convert');\n",
              "        buttonEl.style.display =\n",
              "          google.colab.kernel.accessAllowed ? 'block' : 'none';\n",
              "\n",
              "        async function convertToInteractive(key) {\n",
              "          const element = document.querySelector('#df-83c61eda-6494-47f2-aabe-ba2250d4eb7f');\n",
              "          const dataTable =\n",
              "            await google.colab.kernel.invokeFunction('convertToInteractive',\n",
              "                                                     [key], {});\n",
              "          if (!dataTable) return;\n",
              "\n",
              "          const docLinkHtml = 'Like what you see? Visit the ' +\n",
              "            '<a target=\"_blank\" href=https://colab.research.google.com/notebooks/data_table.ipynb>data table notebook</a>'\n",
              "            + ' to learn more about interactive tables.';\n",
              "          element.innerHTML = '';\n",
              "          dataTable['output_type'] = 'display_data';\n",
              "          await google.colab.output.renderOutput(dataTable, element);\n",
              "          const docLink = document.createElement('div');\n",
              "          docLink.innerHTML = docLinkHtml;\n",
              "          element.appendChild(docLink);\n",
              "        }\n",
              "      </script>\n",
              "    </div>\n",
              "  </div>\n",
              "  "
            ]
          },
          "metadata": {},
          "execution_count": 14
        }
      ]
    },
    {
      "cell_type": "markdown",
      "source": [
        "since all financial statements do not contain the same value we weight all compound values according to the category it belongs to with the order of preference being:\n",
        "\n",
        "1.   news\n",
        "2.   opinion\n",
        "3.   tweet\n",
        "\n"
      ],
      "metadata": {
        "id": "lCAPAGsY2iH2"
      }
    },
    {
      "cell_type": "code",
      "source": [
        "news_coeffecient = 0.5\n",
        "opinion_coeffecient = 0.3\n",
        "tweet_coeffecient = 0.2"
      ],
      "metadata": {
        "id": "N6z-0zjz5txa"
      },
      "execution_count": null,
      "outputs": []
    },
    {
      "cell_type": "code",
      "source": [
        "#category news\n",
        "news_compound_score = semantic_oped2[ semantic_oped2['category'] == 'news' ].groupby(by=['release_date']).sum()\n",
        "news_compound_count = semantic_oped2[ semantic_oped2['category'] == 'news' ].groupby(by=['release_date']).count()\n",
        "news_compound_score = news_compound_score.div(news_compound_count['compound'], axis = 0)\n",
        "\n",
        "news_compound_score.rename(columns = {'compound':'compound_x'}, inplace = True)\n",
        "\n",
        "#category opinion\n",
        "opinion_compound_score = semantic_oped2[ semantic_oped2['category'] == 'opinion' ].groupby(by=['release_date']).sum()\n",
        "opinion_compound_count = semantic_oped2[ semantic_oped2['category'] == 'opinion' ].groupby(by=['release_date']).count()\n",
        "opinion_compound_score = opinion_compound_score.div(opinion_compound_count['compound'], axis = 0)\n",
        "\n",
        "opinion_compound_score.rename(columns = {'compound':'compound_y'}, inplace = True)\n",
        "\n",
        "#category tweet\n",
        "tweet_compound_score = semantic_oped2[ semantic_oped2['category'] == 'tweet' ].groupby(by=['release_date']).sum()\n",
        "tweet_compound_count = semantic_oped2[ semantic_oped2['category'] == 'tweet' ].groupby(by=['release_date']).count()\n",
        "tweet_compound_score = tweet_compound_score.div(tweet_compound_count['compound'], axis = 0)\n",
        "\n",
        "tweet_compound_score.rename(columns = {'compound':'compound_z'}, inplace = True)"
      ],
      "metadata": {
        "id": "0LGtpQgG20Be"
      },
      "execution_count": null,
      "outputs": []
    },
    {
      "cell_type": "code",
      "source": [
        "ds = pd.concat([news_compound_score, opinion_compound_score,tweet_compound_score], axis=1)\n",
        "ds = ds.fillna(0)\n",
        "\n",
        "ds['semantic_factor'] = news_coeffecient*ds['compound_x'] + opinion_coeffecient*ds['compound_y'] + tweet_coeffecient*ds['compound_z']\n",
        "ds2 = ds\n",
        "\n",
        "ds"
      ],
      "metadata": {
        "id": "_wMfbirF89zS",
        "colab": {
          "base_uri": "https://localhost:8080/",
          "height": 363
        },
        "outputId": "3fe4d4fe-050b-4fa7-9c4c-e4fdc7853ae1"
      },
      "execution_count": null,
      "outputs": [
        {
          "output_type": "execute_result",
          "data": {
            "text/plain": [
              "              compound_x  compound_y  compound_z  semantic_factor\n",
              "release_date                                                     \n",
              "2018-01-08      0.425380    0.863760    0.171267         0.506071\n",
              "2018-01-09      0.505465    0.829220    0.000000         0.501499\n",
              "2018-01-10      0.506756    0.799280    0.000000         0.493162\n",
              "2018-01-11      0.063600    0.797227    0.019976         0.274963\n",
              "2018-01-12      0.685707    0.046440   -0.457520         0.265281\n",
              "2018-01-14      0.601800    0.832493    0.000000         0.550648\n",
              "2018-01-15     -0.720750    0.806873    0.000000        -0.118313\n",
              "2018-01-16      0.765660    0.773535    0.000000         0.614891\n",
              "2018-01-17      0.465185    0.721438    0.000000         0.449024"
            ],
            "text/html": [
              "\n",
              "  <div id=\"df-aeee1520-6a4a-42df-9da3-d04dc1884413\">\n",
              "    <div class=\"colab-df-container\">\n",
              "      <div>\n",
              "<style scoped>\n",
              "    .dataframe tbody tr th:only-of-type {\n",
              "        vertical-align: middle;\n",
              "    }\n",
              "\n",
              "    .dataframe tbody tr th {\n",
              "        vertical-align: top;\n",
              "    }\n",
              "\n",
              "    .dataframe thead th {\n",
              "        text-align: right;\n",
              "    }\n",
              "</style>\n",
              "<table border=\"1\" class=\"dataframe\">\n",
              "  <thead>\n",
              "    <tr style=\"text-align: right;\">\n",
              "      <th></th>\n",
              "      <th>compound_x</th>\n",
              "      <th>compound_y</th>\n",
              "      <th>compound_z</th>\n",
              "      <th>semantic_factor</th>\n",
              "    </tr>\n",
              "    <tr>\n",
              "      <th>release_date</th>\n",
              "      <th></th>\n",
              "      <th></th>\n",
              "      <th></th>\n",
              "      <th></th>\n",
              "    </tr>\n",
              "  </thead>\n",
              "  <tbody>\n",
              "    <tr>\n",
              "      <th>2018-01-08</th>\n",
              "      <td>0.425380</td>\n",
              "      <td>0.863760</td>\n",
              "      <td>0.171267</td>\n",
              "      <td>0.506071</td>\n",
              "    </tr>\n",
              "    <tr>\n",
              "      <th>2018-01-09</th>\n",
              "      <td>0.505465</td>\n",
              "      <td>0.829220</td>\n",
              "      <td>0.000000</td>\n",
              "      <td>0.501499</td>\n",
              "    </tr>\n",
              "    <tr>\n",
              "      <th>2018-01-10</th>\n",
              "      <td>0.506756</td>\n",
              "      <td>0.799280</td>\n",
              "      <td>0.000000</td>\n",
              "      <td>0.493162</td>\n",
              "    </tr>\n",
              "    <tr>\n",
              "      <th>2018-01-11</th>\n",
              "      <td>0.063600</td>\n",
              "      <td>0.797227</td>\n",
              "      <td>0.019976</td>\n",
              "      <td>0.274963</td>\n",
              "    </tr>\n",
              "    <tr>\n",
              "      <th>2018-01-12</th>\n",
              "      <td>0.685707</td>\n",
              "      <td>0.046440</td>\n",
              "      <td>-0.457520</td>\n",
              "      <td>0.265281</td>\n",
              "    </tr>\n",
              "    <tr>\n",
              "      <th>2018-01-14</th>\n",
              "      <td>0.601800</td>\n",
              "      <td>0.832493</td>\n",
              "      <td>0.000000</td>\n",
              "      <td>0.550648</td>\n",
              "    </tr>\n",
              "    <tr>\n",
              "      <th>2018-01-15</th>\n",
              "      <td>-0.720750</td>\n",
              "      <td>0.806873</td>\n",
              "      <td>0.000000</td>\n",
              "      <td>-0.118313</td>\n",
              "    </tr>\n",
              "    <tr>\n",
              "      <th>2018-01-16</th>\n",
              "      <td>0.765660</td>\n",
              "      <td>0.773535</td>\n",
              "      <td>0.000000</td>\n",
              "      <td>0.614891</td>\n",
              "    </tr>\n",
              "    <tr>\n",
              "      <th>2018-01-17</th>\n",
              "      <td>0.465185</td>\n",
              "      <td>0.721438</td>\n",
              "      <td>0.000000</td>\n",
              "      <td>0.449024</td>\n",
              "    </tr>\n",
              "  </tbody>\n",
              "</table>\n",
              "</div>\n",
              "      <button class=\"colab-df-convert\" onclick=\"convertToInteractive('df-aeee1520-6a4a-42df-9da3-d04dc1884413')\"\n",
              "              title=\"Convert this dataframe to an interactive table.\"\n",
              "              style=\"display:none;\">\n",
              "        \n",
              "  <svg xmlns=\"http://www.w3.org/2000/svg\" height=\"24px\"viewBox=\"0 0 24 24\"\n",
              "       width=\"24px\">\n",
              "    <path d=\"M0 0h24v24H0V0z\" fill=\"none\"/>\n",
              "    <path d=\"M18.56 5.44l.94 2.06.94-2.06 2.06-.94-2.06-.94-.94-2.06-.94 2.06-2.06.94zm-11 1L8.5 8.5l.94-2.06 2.06-.94-2.06-.94L8.5 2.5l-.94 2.06-2.06.94zm10 10l.94 2.06.94-2.06 2.06-.94-2.06-.94-.94-2.06-.94 2.06-2.06.94z\"/><path d=\"M17.41 7.96l-1.37-1.37c-.4-.4-.92-.59-1.43-.59-.52 0-1.04.2-1.43.59L10.3 9.45l-7.72 7.72c-.78.78-.78 2.05 0 2.83L4 21.41c.39.39.9.59 1.41.59.51 0 1.02-.2 1.41-.59l7.78-7.78 2.81-2.81c.8-.78.8-2.07 0-2.86zM5.41 20L4 18.59l7.72-7.72 1.47 1.35L5.41 20z\"/>\n",
              "  </svg>\n",
              "      </button>\n",
              "      \n",
              "  <style>\n",
              "    .colab-df-container {\n",
              "      display:flex;\n",
              "      flex-wrap:wrap;\n",
              "      gap: 12px;\n",
              "    }\n",
              "\n",
              "    .colab-df-convert {\n",
              "      background-color: #E8F0FE;\n",
              "      border: none;\n",
              "      border-radius: 50%;\n",
              "      cursor: pointer;\n",
              "      display: none;\n",
              "      fill: #1967D2;\n",
              "      height: 32px;\n",
              "      padding: 0 0 0 0;\n",
              "      width: 32px;\n",
              "    }\n",
              "\n",
              "    .colab-df-convert:hover {\n",
              "      background-color: #E2EBFA;\n",
              "      box-shadow: 0px 1px 2px rgba(60, 64, 67, 0.3), 0px 1px 3px 1px rgba(60, 64, 67, 0.15);\n",
              "      fill: #174EA6;\n",
              "    }\n",
              "\n",
              "    [theme=dark] .colab-df-convert {\n",
              "      background-color: #3B4455;\n",
              "      fill: #D2E3FC;\n",
              "    }\n",
              "\n",
              "    [theme=dark] .colab-df-convert:hover {\n",
              "      background-color: #434B5C;\n",
              "      box-shadow: 0px 1px 3px 1px rgba(0, 0, 0, 0.15);\n",
              "      filter: drop-shadow(0px 1px 2px rgba(0, 0, 0, 0.3));\n",
              "      fill: #FFFFFF;\n",
              "    }\n",
              "  </style>\n",
              "\n",
              "      <script>\n",
              "        const buttonEl =\n",
              "          document.querySelector('#df-aeee1520-6a4a-42df-9da3-d04dc1884413 button.colab-df-convert');\n",
              "        buttonEl.style.display =\n",
              "          google.colab.kernel.accessAllowed ? 'block' : 'none';\n",
              "\n",
              "        async function convertToInteractive(key) {\n",
              "          const element = document.querySelector('#df-aeee1520-6a4a-42df-9da3-d04dc1884413');\n",
              "          const dataTable =\n",
              "            await google.colab.kernel.invokeFunction('convertToInteractive',\n",
              "                                                     [key], {});\n",
              "          if (!dataTable) return;\n",
              "\n",
              "          const docLinkHtml = 'Like what you see? Visit the ' +\n",
              "            '<a target=\"_blank\" href=https://colab.research.google.com/notebooks/data_table.ipynb>data table notebook</a>'\n",
              "            + ' to learn more about interactive tables.';\n",
              "          element.innerHTML = '';\n",
              "          dataTable['output_type'] = 'display_data';\n",
              "          await google.colab.output.renderOutput(dataTable, element);\n",
              "          const docLink = document.createElement('div');\n",
              "          docLink.innerHTML = docLinkHtml;\n",
              "          element.appendChild(docLink);\n",
              "        }\n",
              "      </script>\n",
              "    </div>\n",
              "  </div>\n",
              "  "
            ]
          },
          "metadata": {},
          "execution_count": 20
        }
      ]
    },
    {
      "cell_type": "markdown",
      "source": [
        "##Getting points with highest and lowest disturbance"
      ],
      "metadata": {
        "id": "Sr1CVT0iI0uA"
      }
    },
    {
      "cell_type": "code",
      "source": [
        "ds2['semantic_factor'] = ds2['semantic_factor'].abs()\n",
        "\n",
        "## Get Max 3\n",
        "ds2 = ds2.sort_values('semantic_factor')\n",
        "ds2 = ds2[ ds2['semantic_factor'] != 0.0 ]\n",
        "final_df_h = ds2.tail(3)\n",
        "final_df_l = ds2.head(3)\n",
        "\n",
        "final_df_h = final_df_h.sort_index()\n",
        "final_df_l = final_df_l.sort_index()\n",
        "final_df_l"
      ],
      "metadata": {
        "id": "9myZvvsA-vxg",
        "colab": {
          "base_uri": "https://localhost:8080/",
          "height": 175
        },
        "outputId": "bf51889a-b625-4433-bc2e-7586feef7680"
      },
      "execution_count": null,
      "outputs": [
        {
          "output_type": "execute_result",
          "data": {
            "text/plain": [
              "              compound_x  compound_y  compound_z  semantic_factor\n",
              "release_date                                                     \n",
              "2018-01-11      0.063600    0.797227    0.019976         0.274963\n",
              "2018-01-12      0.685707    0.046440   -0.457520         0.265281\n",
              "2018-01-15     -0.720750    0.806873    0.000000         0.118313"
            ],
            "text/html": [
              "\n",
              "  <div id=\"df-66870a25-256f-4c21-9dda-a6fd4d9cc688\">\n",
              "    <div class=\"colab-df-container\">\n",
              "      <div>\n",
              "<style scoped>\n",
              "    .dataframe tbody tr th:only-of-type {\n",
              "        vertical-align: middle;\n",
              "    }\n",
              "\n",
              "    .dataframe tbody tr th {\n",
              "        vertical-align: top;\n",
              "    }\n",
              "\n",
              "    .dataframe thead th {\n",
              "        text-align: right;\n",
              "    }\n",
              "</style>\n",
              "<table border=\"1\" class=\"dataframe\">\n",
              "  <thead>\n",
              "    <tr style=\"text-align: right;\">\n",
              "      <th></th>\n",
              "      <th>compound_x</th>\n",
              "      <th>compound_y</th>\n",
              "      <th>compound_z</th>\n",
              "      <th>semantic_factor</th>\n",
              "    </tr>\n",
              "    <tr>\n",
              "      <th>release_date</th>\n",
              "      <th></th>\n",
              "      <th></th>\n",
              "      <th></th>\n",
              "      <th></th>\n",
              "    </tr>\n",
              "  </thead>\n",
              "  <tbody>\n",
              "    <tr>\n",
              "      <th>2018-01-11</th>\n",
              "      <td>0.063600</td>\n",
              "      <td>0.797227</td>\n",
              "      <td>0.019976</td>\n",
              "      <td>0.274963</td>\n",
              "    </tr>\n",
              "    <tr>\n",
              "      <th>2018-01-12</th>\n",
              "      <td>0.685707</td>\n",
              "      <td>0.046440</td>\n",
              "      <td>-0.457520</td>\n",
              "      <td>0.265281</td>\n",
              "    </tr>\n",
              "    <tr>\n",
              "      <th>2018-01-15</th>\n",
              "      <td>-0.720750</td>\n",
              "      <td>0.806873</td>\n",
              "      <td>0.000000</td>\n",
              "      <td>0.118313</td>\n",
              "    </tr>\n",
              "  </tbody>\n",
              "</table>\n",
              "</div>\n",
              "      <button class=\"colab-df-convert\" onclick=\"convertToInteractive('df-66870a25-256f-4c21-9dda-a6fd4d9cc688')\"\n",
              "              title=\"Convert this dataframe to an interactive table.\"\n",
              "              style=\"display:none;\">\n",
              "        \n",
              "  <svg xmlns=\"http://www.w3.org/2000/svg\" height=\"24px\"viewBox=\"0 0 24 24\"\n",
              "       width=\"24px\">\n",
              "    <path d=\"M0 0h24v24H0V0z\" fill=\"none\"/>\n",
              "    <path d=\"M18.56 5.44l.94 2.06.94-2.06 2.06-.94-2.06-.94-.94-2.06-.94 2.06-2.06.94zm-11 1L8.5 8.5l.94-2.06 2.06-.94-2.06-.94L8.5 2.5l-.94 2.06-2.06.94zm10 10l.94 2.06.94-2.06 2.06-.94-2.06-.94-.94-2.06-.94 2.06-2.06.94z\"/><path d=\"M17.41 7.96l-1.37-1.37c-.4-.4-.92-.59-1.43-.59-.52 0-1.04.2-1.43.59L10.3 9.45l-7.72 7.72c-.78.78-.78 2.05 0 2.83L4 21.41c.39.39.9.59 1.41.59.51 0 1.02-.2 1.41-.59l7.78-7.78 2.81-2.81c.8-.78.8-2.07 0-2.86zM5.41 20L4 18.59l7.72-7.72 1.47 1.35L5.41 20z\"/>\n",
              "  </svg>\n",
              "      </button>\n",
              "      \n",
              "  <style>\n",
              "    .colab-df-container {\n",
              "      display:flex;\n",
              "      flex-wrap:wrap;\n",
              "      gap: 12px;\n",
              "    }\n",
              "\n",
              "    .colab-df-convert {\n",
              "      background-color: #E8F0FE;\n",
              "      border: none;\n",
              "      border-radius: 50%;\n",
              "      cursor: pointer;\n",
              "      display: none;\n",
              "      fill: #1967D2;\n",
              "      height: 32px;\n",
              "      padding: 0 0 0 0;\n",
              "      width: 32px;\n",
              "    }\n",
              "\n",
              "    .colab-df-convert:hover {\n",
              "      background-color: #E2EBFA;\n",
              "      box-shadow: 0px 1px 2px rgba(60, 64, 67, 0.3), 0px 1px 3px 1px rgba(60, 64, 67, 0.15);\n",
              "      fill: #174EA6;\n",
              "    }\n",
              "\n",
              "    [theme=dark] .colab-df-convert {\n",
              "      background-color: #3B4455;\n",
              "      fill: #D2E3FC;\n",
              "    }\n",
              "\n",
              "    [theme=dark] .colab-df-convert:hover {\n",
              "      background-color: #434B5C;\n",
              "      box-shadow: 0px 1px 3px 1px rgba(0, 0, 0, 0.15);\n",
              "      filter: drop-shadow(0px 1px 2px rgba(0, 0, 0, 0.3));\n",
              "      fill: #FFFFFF;\n",
              "    }\n",
              "  </style>\n",
              "\n",
              "      <script>\n",
              "        const buttonEl =\n",
              "          document.querySelector('#df-66870a25-256f-4c21-9dda-a6fd4d9cc688 button.colab-df-convert');\n",
              "        buttonEl.style.display =\n",
              "          google.colab.kernel.accessAllowed ? 'block' : 'none';\n",
              "\n",
              "        async function convertToInteractive(key) {\n",
              "          const element = document.querySelector('#df-66870a25-256f-4c21-9dda-a6fd4d9cc688');\n",
              "          const dataTable =\n",
              "            await google.colab.kernel.invokeFunction('convertToInteractive',\n",
              "                                                     [key], {});\n",
              "          if (!dataTable) return;\n",
              "\n",
              "          const docLinkHtml = 'Like what you see? Visit the ' +\n",
              "            '<a target=\"_blank\" href=https://colab.research.google.com/notebooks/data_table.ipynb>data table notebook</a>'\n",
              "            + ' to learn more about interactive tables.';\n",
              "          element.innerHTML = '';\n",
              "          dataTable['output_type'] = 'display_data';\n",
              "          await google.colab.output.renderOutput(dataTable, element);\n",
              "          const docLink = document.createElement('div');\n",
              "          docLink.innerHTML = docLinkHtml;\n",
              "          element.appendChild(docLink);\n",
              "        }\n",
              "      </script>\n",
              "    </div>\n",
              "  </div>\n",
              "  "
            ]
          },
          "metadata": {},
          "execution_count": 45
        }
      ]
    },
    {
      "cell_type": "code",
      "source": [
        "final_news = []\n",
        "for i in range(len(final_df_h.index)):\n",
        "  temp = df1[df1['release_date'] == final_df_h.index.values[i]]\n",
        "  final_news.append(temp)\n",
        "final_news = pd.concat(final_news)\n",
        "final_news[['release_date','category','title','content']]"
      ],
      "metadata": {
        "id": "v19Zd9be_ubV",
        "colab": {
          "base_uri": "https://localhost:8080/",
          "height": 424
        },
        "outputId": "cf3fbc9c-f483-459c-8478-a9b862d930e0"
      },
      "execution_count": null,
      "outputs": [
        {
          "output_type": "execute_result",
          "data": {
            "text/plain": [
              "       release_date category  \\\n",
              "113719   2018-01-08     news   \n",
              "113722   2018-01-08     news   \n",
              "113723   2018-01-08     news   \n",
              "113724   2018-01-08     news   \n",
              "113733   2018-01-08     news   \n",
              "...             ...      ...   \n",
              "115065   2018-01-16  opinion   \n",
              "115067   2018-01-16  opinion   \n",
              "115068   2018-01-16  opinion   \n",
              "115069   2018-01-16  opinion   \n",
              "115070   2018-01-16  opinion   \n",
              "\n",
              "                                                    title  \\\n",
              "113719  Apple should address youth phone addiction  sa...   \n",
              "113722  French prosecutor launches probe into Apple pl...   \n",
              "113723  Samsung Profit Misses Estimates as Stronger Wo...   \n",
              "113724  European shares hit highest since August 2015 ...   \n",
              "113733  Fairpointe adds to shareholder demands over Nu...   \n",
              "...                                                   ...   \n",
              "115065  5 Stocks To Fall Back On Amid Lurking Governme...   \n",
              "115067  Simon  Starbucks Reach Settlement Over Teavana...   \n",
              "115068  BD s CE Mark And Check Point s Screening Test ...   \n",
              "115069  ONE Gas Updates Investors With Near   Long Ter...   \n",
              "115070  Ophthotech Begins Phase II Zimura Study In Sta...   \n",
              "\n",
              "                                                  content  \n",
              "113719   This story corrects Reuters Instrument Code f...  \n",
              "113722  PARIS  Reuters    A French prosecutor has laun...  \n",
              "113723   Bloomberg     Samsung Electronics  KS 005930 ...  \n",
              "113724  By Danilo Masoni MILAN  Reuters    European sh...  \n",
              "113733  By Liana B  Baker  Reuters    Fairpointe Capit...  \n",
              "...                                                   ...  \n",
              "115065  The unprecedented reversal in the stock market...  \n",
              "115067  Retail REIT Simon Property Group Inc    NYSE S...  \n",
              "115068  Becton  Dickinson and Company   NYSE BDX    po...  \n",
              "115069  ONE Gas  Inc    NYSE OGS   revised 2017 guidan...  \n",
              "115070  Ophthotech Corporation   NASDAQ OPHT   initiat...  \n",
              "\n",
              "[100 rows x 4 columns]"
            ],
            "text/html": [
              "\n",
              "  <div id=\"df-692ebf2e-2b94-4df1-a993-0ef801e982d7\">\n",
              "    <div class=\"colab-df-container\">\n",
              "      <div>\n",
              "<style scoped>\n",
              "    .dataframe tbody tr th:only-of-type {\n",
              "        vertical-align: middle;\n",
              "    }\n",
              "\n",
              "    .dataframe tbody tr th {\n",
              "        vertical-align: top;\n",
              "    }\n",
              "\n",
              "    .dataframe thead th {\n",
              "        text-align: right;\n",
              "    }\n",
              "</style>\n",
              "<table border=\"1\" class=\"dataframe\">\n",
              "  <thead>\n",
              "    <tr style=\"text-align: right;\">\n",
              "      <th></th>\n",
              "      <th>release_date</th>\n",
              "      <th>category</th>\n",
              "      <th>title</th>\n",
              "      <th>content</th>\n",
              "    </tr>\n",
              "  </thead>\n",
              "  <tbody>\n",
              "    <tr>\n",
              "      <th>113719</th>\n",
              "      <td>2018-01-08</td>\n",
              "      <td>news</td>\n",
              "      <td>Apple should address youth phone addiction  sa...</td>\n",
              "      <td>This story corrects Reuters Instrument Code f...</td>\n",
              "    </tr>\n",
              "    <tr>\n",
              "      <th>113722</th>\n",
              "      <td>2018-01-08</td>\n",
              "      <td>news</td>\n",
              "      <td>French prosecutor launches probe into Apple pl...</td>\n",
              "      <td>PARIS  Reuters    A French prosecutor has laun...</td>\n",
              "    </tr>\n",
              "    <tr>\n",
              "      <th>113723</th>\n",
              "      <td>2018-01-08</td>\n",
              "      <td>news</td>\n",
              "      <td>Samsung Profit Misses Estimates as Stronger Wo...</td>\n",
              "      <td>Bloomberg     Samsung Electronics  KS 005930 ...</td>\n",
              "    </tr>\n",
              "    <tr>\n",
              "      <th>113724</th>\n",
              "      <td>2018-01-08</td>\n",
              "      <td>news</td>\n",
              "      <td>European shares hit highest since August 2015 ...</td>\n",
              "      <td>By Danilo Masoni MILAN  Reuters    European sh...</td>\n",
              "    </tr>\n",
              "    <tr>\n",
              "      <th>113733</th>\n",
              "      <td>2018-01-08</td>\n",
              "      <td>news</td>\n",
              "      <td>Fairpointe adds to shareholder demands over Nu...</td>\n",
              "      <td>By Liana B  Baker  Reuters    Fairpointe Capit...</td>\n",
              "    </tr>\n",
              "    <tr>\n",
              "      <th>...</th>\n",
              "      <td>...</td>\n",
              "      <td>...</td>\n",
              "      <td>...</td>\n",
              "      <td>...</td>\n",
              "    </tr>\n",
              "    <tr>\n",
              "      <th>115065</th>\n",
              "      <td>2018-01-16</td>\n",
              "      <td>opinion</td>\n",
              "      <td>5 Stocks To Fall Back On Amid Lurking Governme...</td>\n",
              "      <td>The unprecedented reversal in the stock market...</td>\n",
              "    </tr>\n",
              "    <tr>\n",
              "      <th>115067</th>\n",
              "      <td>2018-01-16</td>\n",
              "      <td>opinion</td>\n",
              "      <td>Simon  Starbucks Reach Settlement Over Teavana...</td>\n",
              "      <td>Retail REIT Simon Property Group Inc    NYSE S...</td>\n",
              "    </tr>\n",
              "    <tr>\n",
              "      <th>115068</th>\n",
              "      <td>2018-01-16</td>\n",
              "      <td>opinion</td>\n",
              "      <td>BD s CE Mark And Check Point s Screening Test ...</td>\n",
              "      <td>Becton  Dickinson and Company   NYSE BDX    po...</td>\n",
              "    </tr>\n",
              "    <tr>\n",
              "      <th>115069</th>\n",
              "      <td>2018-01-16</td>\n",
              "      <td>opinion</td>\n",
              "      <td>ONE Gas Updates Investors With Near   Long Ter...</td>\n",
              "      <td>ONE Gas  Inc    NYSE OGS   revised 2017 guidan...</td>\n",
              "    </tr>\n",
              "    <tr>\n",
              "      <th>115070</th>\n",
              "      <td>2018-01-16</td>\n",
              "      <td>opinion</td>\n",
              "      <td>Ophthotech Begins Phase II Zimura Study In Sta...</td>\n",
              "      <td>Ophthotech Corporation   NASDAQ OPHT   initiat...</td>\n",
              "    </tr>\n",
              "  </tbody>\n",
              "</table>\n",
              "<p>100 rows × 4 columns</p>\n",
              "</div>\n",
              "      <button class=\"colab-df-convert\" onclick=\"convertToInteractive('df-692ebf2e-2b94-4df1-a993-0ef801e982d7')\"\n",
              "              title=\"Convert this dataframe to an interactive table.\"\n",
              "              style=\"display:none;\">\n",
              "        \n",
              "  <svg xmlns=\"http://www.w3.org/2000/svg\" height=\"24px\"viewBox=\"0 0 24 24\"\n",
              "       width=\"24px\">\n",
              "    <path d=\"M0 0h24v24H0V0z\" fill=\"none\"/>\n",
              "    <path d=\"M18.56 5.44l.94 2.06.94-2.06 2.06-.94-2.06-.94-.94-2.06-.94 2.06-2.06.94zm-11 1L8.5 8.5l.94-2.06 2.06-.94-2.06-.94L8.5 2.5l-.94 2.06-2.06.94zm10 10l.94 2.06.94-2.06 2.06-.94-2.06-.94-.94-2.06-.94 2.06-2.06.94z\"/><path d=\"M17.41 7.96l-1.37-1.37c-.4-.4-.92-.59-1.43-.59-.52 0-1.04.2-1.43.59L10.3 9.45l-7.72 7.72c-.78.78-.78 2.05 0 2.83L4 21.41c.39.39.9.59 1.41.59.51 0 1.02-.2 1.41-.59l7.78-7.78 2.81-2.81c.8-.78.8-2.07 0-2.86zM5.41 20L4 18.59l7.72-7.72 1.47 1.35L5.41 20z\"/>\n",
              "  </svg>\n",
              "      </button>\n",
              "      \n",
              "  <style>\n",
              "    .colab-df-container {\n",
              "      display:flex;\n",
              "      flex-wrap:wrap;\n",
              "      gap: 12px;\n",
              "    }\n",
              "\n",
              "    .colab-df-convert {\n",
              "      background-color: #E8F0FE;\n",
              "      border: none;\n",
              "      border-radius: 50%;\n",
              "      cursor: pointer;\n",
              "      display: none;\n",
              "      fill: #1967D2;\n",
              "      height: 32px;\n",
              "      padding: 0 0 0 0;\n",
              "      width: 32px;\n",
              "    }\n",
              "\n",
              "    .colab-df-convert:hover {\n",
              "      background-color: #E2EBFA;\n",
              "      box-shadow: 0px 1px 2px rgba(60, 64, 67, 0.3), 0px 1px 3px 1px rgba(60, 64, 67, 0.15);\n",
              "      fill: #174EA6;\n",
              "    }\n",
              "\n",
              "    [theme=dark] .colab-df-convert {\n",
              "      background-color: #3B4455;\n",
              "      fill: #D2E3FC;\n",
              "    }\n",
              "\n",
              "    [theme=dark] .colab-df-convert:hover {\n",
              "      background-color: #434B5C;\n",
              "      box-shadow: 0px 1px 3px 1px rgba(0, 0, 0, 0.15);\n",
              "      filter: drop-shadow(0px 1px 2px rgba(0, 0, 0, 0.3));\n",
              "      fill: #FFFFFF;\n",
              "    }\n",
              "  </style>\n",
              "\n",
              "      <script>\n",
              "        const buttonEl =\n",
              "          document.querySelector('#df-692ebf2e-2b94-4df1-a993-0ef801e982d7 button.colab-df-convert');\n",
              "        buttonEl.style.display =\n",
              "          google.colab.kernel.accessAllowed ? 'block' : 'none';\n",
              "\n",
              "        async function convertToInteractive(key) {\n",
              "          const element = document.querySelector('#df-692ebf2e-2b94-4df1-a993-0ef801e982d7');\n",
              "          const dataTable =\n",
              "            await google.colab.kernel.invokeFunction('convertToInteractive',\n",
              "                                                     [key], {});\n",
              "          if (!dataTable) return;\n",
              "\n",
              "          const docLinkHtml = 'Like what you see? Visit the ' +\n",
              "            '<a target=\"_blank\" href=https://colab.research.google.com/notebooks/data_table.ipynb>data table notebook</a>'\n",
              "            + ' to learn more about interactive tables.';\n",
              "          element.innerHTML = '';\n",
              "          dataTable['output_type'] = 'display_data';\n",
              "          await google.colab.output.renderOutput(dataTable, element);\n",
              "          const docLink = document.createElement('div');\n",
              "          docLink.innerHTML = docLinkHtml;\n",
              "          element.appendChild(docLink);\n",
              "        }\n",
              "      </script>\n",
              "    </div>\n",
              "  </div>\n",
              "  "
            ]
          },
          "metadata": {},
          "execution_count": 22
        }
      ]
    },
    {
      "cell_type": "code",
      "source": [
        "hist_anom = aapl.history(start=anomaly_start, end=anomaly_end)\n",
        "hist_anom"
      ],
      "metadata": {
        "id": "GwtigNR7FqW_",
        "colab": {
          "base_uri": "https://localhost:8080/",
          "height": 269
        },
        "outputId": "af55d9af-624e-4a9f-8212-f3bdb50e1e2c"
      },
      "execution_count": null,
      "outputs": [
        {
          "output_type": "execute_result",
          "data": {
            "text/plain": [
              "                 Open       High        Low      Close     Volume  Dividends  \\\n",
              "Date                                                                           \n",
              "2018-01-08  41.516102  41.816131  41.416089  41.516102   82271200          0   \n",
              "2018-01-09  41.563728  41.685167  41.292272  41.511341   86336000          0   \n",
              "2018-01-10  41.232736  41.504192  41.194636  41.501808   95839600          0   \n",
              "2018-01-11  41.573250  41.787559  41.549440  41.737553   74670800          0   \n",
              "2018-01-12  41.951855  42.232838  41.825652  42.168545  101672400          0   \n",
              "2018-01-16  42.361429  42.716228  41.942340  41.954247  118263600          0   \n",
              "\n",
              "            Stock Splits release_date  \n",
              "Date                                   \n",
              "2018-01-08             0   2018-01-08  \n",
              "2018-01-09             0   2018-01-09  \n",
              "2018-01-10             0   2018-01-10  \n",
              "2018-01-11             0   2018-01-11  \n",
              "2018-01-12             0   2018-01-12  \n",
              "2018-01-16             0   2018-01-16  "
            ],
            "text/html": [
              "\n",
              "  <div id=\"df-01f03f7a-dbfd-40d7-991b-affac0a1fe1d\">\n",
              "    <div class=\"colab-df-container\">\n",
              "      <div>\n",
              "<style scoped>\n",
              "    .dataframe tbody tr th:only-of-type {\n",
              "        vertical-align: middle;\n",
              "    }\n",
              "\n",
              "    .dataframe tbody tr th {\n",
              "        vertical-align: top;\n",
              "    }\n",
              "\n",
              "    .dataframe thead th {\n",
              "        text-align: right;\n",
              "    }\n",
              "</style>\n",
              "<table border=\"1\" class=\"dataframe\">\n",
              "  <thead>\n",
              "    <tr style=\"text-align: right;\">\n",
              "      <th></th>\n",
              "      <th>Open</th>\n",
              "      <th>High</th>\n",
              "      <th>Low</th>\n",
              "      <th>Close</th>\n",
              "      <th>Volume</th>\n",
              "      <th>Dividends</th>\n",
              "      <th>Stock Splits</th>\n",
              "      <th>release_date</th>\n",
              "    </tr>\n",
              "    <tr>\n",
              "      <th>Date</th>\n",
              "      <th></th>\n",
              "      <th></th>\n",
              "      <th></th>\n",
              "      <th></th>\n",
              "      <th></th>\n",
              "      <th></th>\n",
              "      <th></th>\n",
              "      <th></th>\n",
              "    </tr>\n",
              "  </thead>\n",
              "  <tbody>\n",
              "    <tr>\n",
              "      <th>2018-01-08</th>\n",
              "      <td>41.516102</td>\n",
              "      <td>41.816131</td>\n",
              "      <td>41.416089</td>\n",
              "      <td>41.516102</td>\n",
              "      <td>82271200</td>\n",
              "      <td>0</td>\n",
              "      <td>0</td>\n",
              "      <td>2018-01-08</td>\n",
              "    </tr>\n",
              "    <tr>\n",
              "      <th>2018-01-09</th>\n",
              "      <td>41.563728</td>\n",
              "      <td>41.685167</td>\n",
              "      <td>41.292272</td>\n",
              "      <td>41.511341</td>\n",
              "      <td>86336000</td>\n",
              "      <td>0</td>\n",
              "      <td>0</td>\n",
              "      <td>2018-01-09</td>\n",
              "    </tr>\n",
              "    <tr>\n",
              "      <th>2018-01-10</th>\n",
              "      <td>41.232736</td>\n",
              "      <td>41.504192</td>\n",
              "      <td>41.194636</td>\n",
              "      <td>41.501808</td>\n",
              "      <td>95839600</td>\n",
              "      <td>0</td>\n",
              "      <td>0</td>\n",
              "      <td>2018-01-10</td>\n",
              "    </tr>\n",
              "    <tr>\n",
              "      <th>2018-01-11</th>\n",
              "      <td>41.573250</td>\n",
              "      <td>41.787559</td>\n",
              "      <td>41.549440</td>\n",
              "      <td>41.737553</td>\n",
              "      <td>74670800</td>\n",
              "      <td>0</td>\n",
              "      <td>0</td>\n",
              "      <td>2018-01-11</td>\n",
              "    </tr>\n",
              "    <tr>\n",
              "      <th>2018-01-12</th>\n",
              "      <td>41.951855</td>\n",
              "      <td>42.232838</td>\n",
              "      <td>41.825652</td>\n",
              "      <td>42.168545</td>\n",
              "      <td>101672400</td>\n",
              "      <td>0</td>\n",
              "      <td>0</td>\n",
              "      <td>2018-01-12</td>\n",
              "    </tr>\n",
              "    <tr>\n",
              "      <th>2018-01-16</th>\n",
              "      <td>42.361429</td>\n",
              "      <td>42.716228</td>\n",
              "      <td>41.942340</td>\n",
              "      <td>41.954247</td>\n",
              "      <td>118263600</td>\n",
              "      <td>0</td>\n",
              "      <td>0</td>\n",
              "      <td>2018-01-16</td>\n",
              "    </tr>\n",
              "  </tbody>\n",
              "</table>\n",
              "</div>\n",
              "      <button class=\"colab-df-convert\" onclick=\"convertToInteractive('df-01f03f7a-dbfd-40d7-991b-affac0a1fe1d')\"\n",
              "              title=\"Convert this dataframe to an interactive table.\"\n",
              "              style=\"display:none;\">\n",
              "        \n",
              "  <svg xmlns=\"http://www.w3.org/2000/svg\" height=\"24px\"viewBox=\"0 0 24 24\"\n",
              "       width=\"24px\">\n",
              "    <path d=\"M0 0h24v24H0V0z\" fill=\"none\"/>\n",
              "    <path d=\"M18.56 5.44l.94 2.06.94-2.06 2.06-.94-2.06-.94-.94-2.06-.94 2.06-2.06.94zm-11 1L8.5 8.5l.94-2.06 2.06-.94-2.06-.94L8.5 2.5l-.94 2.06-2.06.94zm10 10l.94 2.06.94-2.06 2.06-.94-2.06-.94-.94-2.06-.94 2.06-2.06.94z\"/><path d=\"M17.41 7.96l-1.37-1.37c-.4-.4-.92-.59-1.43-.59-.52 0-1.04.2-1.43.59L10.3 9.45l-7.72 7.72c-.78.78-.78 2.05 0 2.83L4 21.41c.39.39.9.59 1.41.59.51 0 1.02-.2 1.41-.59l7.78-7.78 2.81-2.81c.8-.78.8-2.07 0-2.86zM5.41 20L4 18.59l7.72-7.72 1.47 1.35L5.41 20z\"/>\n",
              "  </svg>\n",
              "      </button>\n",
              "      \n",
              "  <style>\n",
              "    .colab-df-container {\n",
              "      display:flex;\n",
              "      flex-wrap:wrap;\n",
              "      gap: 12px;\n",
              "    }\n",
              "\n",
              "    .colab-df-convert {\n",
              "      background-color: #E8F0FE;\n",
              "      border: none;\n",
              "      border-radius: 50%;\n",
              "      cursor: pointer;\n",
              "      display: none;\n",
              "      fill: #1967D2;\n",
              "      height: 32px;\n",
              "      padding: 0 0 0 0;\n",
              "      width: 32px;\n",
              "    }\n",
              "\n",
              "    .colab-df-convert:hover {\n",
              "      background-color: #E2EBFA;\n",
              "      box-shadow: 0px 1px 2px rgba(60, 64, 67, 0.3), 0px 1px 3px 1px rgba(60, 64, 67, 0.15);\n",
              "      fill: #174EA6;\n",
              "    }\n",
              "\n",
              "    [theme=dark] .colab-df-convert {\n",
              "      background-color: #3B4455;\n",
              "      fill: #D2E3FC;\n",
              "    }\n",
              "\n",
              "    [theme=dark] .colab-df-convert:hover {\n",
              "      background-color: #434B5C;\n",
              "      box-shadow: 0px 1px 3px 1px rgba(0, 0, 0, 0.15);\n",
              "      filter: drop-shadow(0px 1px 2px rgba(0, 0, 0, 0.3));\n",
              "      fill: #FFFFFF;\n",
              "    }\n",
              "  </style>\n",
              "\n",
              "      <script>\n",
              "        const buttonEl =\n",
              "          document.querySelector('#df-01f03f7a-dbfd-40d7-991b-affac0a1fe1d button.colab-df-convert');\n",
              "        buttonEl.style.display =\n",
              "          google.colab.kernel.accessAllowed ? 'block' : 'none';\n",
              "\n",
              "        async function convertToInteractive(key) {\n",
              "          const element = document.querySelector('#df-01f03f7a-dbfd-40d7-991b-affac0a1fe1d');\n",
              "          const dataTable =\n",
              "            await google.colab.kernel.invokeFunction('convertToInteractive',\n",
              "                                                     [key], {});\n",
              "          if (!dataTable) return;\n",
              "\n",
              "          const docLinkHtml = 'Like what you see? Visit the ' +\n",
              "            '<a target=\"_blank\" href=https://colab.research.google.com/notebooks/data_table.ipynb>data table notebook</a>'\n",
              "            + ' to learn more about interactive tables.';\n",
              "          element.innerHTML = '';\n",
              "          dataTable['output_type'] = 'display_data';\n",
              "          await google.colab.output.renderOutput(dataTable, element);\n",
              "          const docLink = document.createElement('div');\n",
              "          docLink.innerHTML = docLinkHtml;\n",
              "          element.appendChild(docLink);\n",
              "        }\n",
              "      </script>\n",
              "    </div>\n",
              "  </div>\n",
              "  "
            ]
          },
          "metadata": {},
          "execution_count": 55
        }
      ]
    },
    {
      "cell_type": "code",
      "source": [
        "final_df_h['release_date'] = final_df_h.index.values"
      ],
      "metadata": {
        "id": "HvkiN-ItNgow"
      },
      "execution_count": null,
      "outputs": []
    },
    {
      "cell_type": "code",
      "source": [
        "pd.merge(final_df_h, hist_anom, on='release_date', how='inner')"
      ],
      "metadata": {
        "colab": {
          "base_uri": "https://localhost:8080/",
          "height": 311
        },
        "id": "Ct-6YKocMdok",
        "outputId": "82744976-c1ce-43fa-c036-79980717b226"
      },
      "execution_count": null,
      "outputs": [
        {
          "output_type": "error",
          "ename": "ValueError",
          "evalue": "ignored",
          "traceback": [
            "\u001b[0;31m---------------------------------------------------------------------------\u001b[0m",
            "\u001b[0;31mValueError\u001b[0m                                Traceback (most recent call last)",
            "\u001b[0;32m<ipython-input-67-4d42c578416f>\u001b[0m in \u001b[0;36m<module>\u001b[0;34m\u001b[0m\n\u001b[0;32m----> 1\u001b[0;31m \u001b[0mpd\u001b[0m\u001b[0;34m.\u001b[0m\u001b[0mmerge\u001b[0m\u001b[0;34m(\u001b[0m\u001b[0mfinal_df_h\u001b[0m\u001b[0;34m,\u001b[0m \u001b[0mhist_anom\u001b[0m\u001b[0;34m,\u001b[0m \u001b[0mon\u001b[0m\u001b[0;34m=\u001b[0m\u001b[0;34m'release_date'\u001b[0m\u001b[0;34m,\u001b[0m \u001b[0mhow\u001b[0m\u001b[0;34m=\u001b[0m\u001b[0;34m'inner'\u001b[0m\u001b[0;34m)\u001b[0m\u001b[0;34m\u001b[0m\u001b[0;34m\u001b[0m\u001b[0m\n\u001b[0m",
            "\u001b[0;32m/usr/local/lib/python3.7/dist-packages/pandas/core/reshape/merge.py\u001b[0m in \u001b[0;36mmerge\u001b[0;34m(left, right, how, on, left_on, right_on, left_index, right_index, sort, suffixes, copy, indicator, validate)\u001b[0m\n\u001b[1;32m    117\u001b[0m                 \u001b[0;32mif\u001b[0m \u001b[0mk\u001b[0m \u001b[0;32min\u001b[0m \u001b[0mmerged\u001b[0m\u001b[0;34m:\u001b[0m\u001b[0;34m\u001b[0m\u001b[0;34m\u001b[0m\u001b[0m\n\u001b[1;32m    118\u001b[0m                     \u001b[0mmerged\u001b[0m\u001b[0;34m[\u001b[0m\u001b[0mk\u001b[0m\u001b[0;34m]\u001b[0m \u001b[0;34m=\u001b[0m \u001b[0mkey\u001b[0m\u001b[0;34m\u001b[0m\u001b[0;34m\u001b[0m\u001b[0m\n\u001b[0;32m--> 119\u001b[0;31m             \u001b[0;32mexcept\u001b[0m \u001b[0mKeyError\u001b[0m\u001b[0;34m:\u001b[0m\u001b[0;34m\u001b[0m\u001b[0;34m\u001b[0m\u001b[0m\n\u001b[0m\u001b[1;32m    120\u001b[0m                 \u001b[0;32mpass\u001b[0m\u001b[0;34m\u001b[0m\u001b[0;34m\u001b[0m\u001b[0m\n\u001b[1;32m    121\u001b[0m \u001b[0;34m\u001b[0m\u001b[0m\n",
            "\u001b[0;32m/usr/local/lib/python3.7/dist-packages/pandas/core/reshape/merge.py\u001b[0m in \u001b[0;36m__init__\u001b[0;34m(self, left, right, how, on, left_on, right_on, axis, left_index, right_index, sort, suffixes, copy, indicator, validate)\u001b[0m\n\u001b[1;32m    701\u001b[0m                     \u001b[0mrvals\u001b[0m \u001b[0;34m=\u001b[0m \u001b[0mresult\u001b[0m\u001b[0;34m[\u001b[0m\u001b[0mname\u001b[0m\u001b[0;34m]\u001b[0m\u001b[0;34m.\u001b[0m\u001b[0m_values\u001b[0m\u001b[0;34m\u001b[0m\u001b[0;34m\u001b[0m\u001b[0m\n\u001b[1;32m    702\u001b[0m                 \u001b[0;32melse\u001b[0m\u001b[0;34m:\u001b[0m\u001b[0;34m\u001b[0m\u001b[0;34m\u001b[0m\u001b[0m\n\u001b[0;32m--> 703\u001b[0;31m                     \u001b[0mrfill\u001b[0m \u001b[0;34m=\u001b[0m \u001b[0mna_value_for_dtype\u001b[0m\u001b[0;34m(\u001b[0m\u001b[0mtake_right\u001b[0m\u001b[0;34m.\u001b[0m\u001b[0mdtype\u001b[0m\u001b[0;34m)\u001b[0m\u001b[0;34m\u001b[0m\u001b[0;34m\u001b[0m\u001b[0m\n\u001b[0m\u001b[1;32m    704\u001b[0m                     rvals = algos.take_1d(take_right, right_indexer,\n\u001b[1;32m    705\u001b[0m                                           fill_value=rfill)\n",
            "\u001b[0;32m/usr/local/lib/python3.7/dist-packages/pandas/core/reshape/merge.py\u001b[0m in \u001b[0;36m_maybe_coerce_merge_keys\u001b[0;34m(self)\u001b[0m\n\u001b[1;32m   1260\u001b[0m         \u001b[0mlsuf\u001b[0m\u001b[0;34m,\u001b[0m \u001b[0mrsuf\u001b[0m \u001b[0;34m=\u001b[0m \u001b[0mself\u001b[0m\u001b[0;34m.\u001b[0m\u001b[0msuffixes\u001b[0m\u001b[0;34m\u001b[0m\u001b[0;34m\u001b[0m\u001b[0m\n\u001b[1;32m   1261\u001b[0m \u001b[0;34m\u001b[0m\u001b[0m\n\u001b[0;32m-> 1262\u001b[0;31m         llabels, rlabels = items_overlap_with_suffix(ldata.items, lsuf,\n\u001b[0m\u001b[1;32m   1263\u001b[0m                                                      rdata.items, rsuf)\n\u001b[1;32m   1264\u001b[0m \u001b[0;34m\u001b[0m\u001b[0m\n",
            "\u001b[0;31mValueError\u001b[0m: You are trying to merge on object and datetime64[ns] columns. If you wish to proceed you should use pd.concat"
          ]
        }
      ]
    },
    {
      "cell_type": "code",
      "source": [
        "cnp_H = pd.merge(final_df_h,hist_anom,right_index=True,left_index=True,how='inner')\n",
        "cnp_L = pd.merge(final_df_l,hist_anom,right_index=True,left_index=True,how='inner')\n",
        "cnp_H"
      ],
      "metadata": {
        "id": "1TEXoU5SCAel",
        "colab": {
          "base_uri": "https://localhost:8080/",
          "height": 49
        },
        "outputId": "9d516ff3-ae25-4a13-b268-41772d256393"
      },
      "execution_count": null,
      "outputs": [
        {
          "output_type": "execute_result",
          "data": {
            "text/plain": [
              "Empty DataFrame\n",
              "Columns: [compound_x, compound_y, compound_z, semantic_factor, Open, High, Low, Close, Volume, Dividends, Stock Splits, release_date]\n",
              "Index: []"
            ],
            "text/html": [
              "\n",
              "  <div id=\"df-25c4e1ec-a4a2-4b00-85e9-1c6a1b39d5da\">\n",
              "    <div class=\"colab-df-container\">\n",
              "      <div>\n",
              "<style scoped>\n",
              "    .dataframe tbody tr th:only-of-type {\n",
              "        vertical-align: middle;\n",
              "    }\n",
              "\n",
              "    .dataframe tbody tr th {\n",
              "        vertical-align: top;\n",
              "    }\n",
              "\n",
              "    .dataframe thead th {\n",
              "        text-align: right;\n",
              "    }\n",
              "</style>\n",
              "<table border=\"1\" class=\"dataframe\">\n",
              "  <thead>\n",
              "    <tr style=\"text-align: right;\">\n",
              "      <th></th>\n",
              "      <th>compound_x</th>\n",
              "      <th>compound_y</th>\n",
              "      <th>compound_z</th>\n",
              "      <th>semantic_factor</th>\n",
              "      <th>Open</th>\n",
              "      <th>High</th>\n",
              "      <th>Low</th>\n",
              "      <th>Close</th>\n",
              "      <th>Volume</th>\n",
              "      <th>Dividends</th>\n",
              "      <th>Stock Splits</th>\n",
              "      <th>release_date</th>\n",
              "    </tr>\n",
              "  </thead>\n",
              "  <tbody>\n",
              "  </tbody>\n",
              "</table>\n",
              "</div>\n",
              "      <button class=\"colab-df-convert\" onclick=\"convertToInteractive('df-25c4e1ec-a4a2-4b00-85e9-1c6a1b39d5da')\"\n",
              "              title=\"Convert this dataframe to an interactive table.\"\n",
              "              style=\"display:none;\">\n",
              "        \n",
              "  <svg xmlns=\"http://www.w3.org/2000/svg\" height=\"24px\"viewBox=\"0 0 24 24\"\n",
              "       width=\"24px\">\n",
              "    <path d=\"M0 0h24v24H0V0z\" fill=\"none\"/>\n",
              "    <path d=\"M18.56 5.44l.94 2.06.94-2.06 2.06-.94-2.06-.94-.94-2.06-.94 2.06-2.06.94zm-11 1L8.5 8.5l.94-2.06 2.06-.94-2.06-.94L8.5 2.5l-.94 2.06-2.06.94zm10 10l.94 2.06.94-2.06 2.06-.94-2.06-.94-.94-2.06-.94 2.06-2.06.94z\"/><path d=\"M17.41 7.96l-1.37-1.37c-.4-.4-.92-.59-1.43-.59-.52 0-1.04.2-1.43.59L10.3 9.45l-7.72 7.72c-.78.78-.78 2.05 0 2.83L4 21.41c.39.39.9.59 1.41.59.51 0 1.02-.2 1.41-.59l7.78-7.78 2.81-2.81c.8-.78.8-2.07 0-2.86zM5.41 20L4 18.59l7.72-7.72 1.47 1.35L5.41 20z\"/>\n",
              "  </svg>\n",
              "      </button>\n",
              "      \n",
              "  <style>\n",
              "    .colab-df-container {\n",
              "      display:flex;\n",
              "      flex-wrap:wrap;\n",
              "      gap: 12px;\n",
              "    }\n",
              "\n",
              "    .colab-df-convert {\n",
              "      background-color: #E8F0FE;\n",
              "      border: none;\n",
              "      border-radius: 50%;\n",
              "      cursor: pointer;\n",
              "      display: none;\n",
              "      fill: #1967D2;\n",
              "      height: 32px;\n",
              "      padding: 0 0 0 0;\n",
              "      width: 32px;\n",
              "    }\n",
              "\n",
              "    .colab-df-convert:hover {\n",
              "      background-color: #E2EBFA;\n",
              "      box-shadow: 0px 1px 2px rgba(60, 64, 67, 0.3), 0px 1px 3px 1px rgba(60, 64, 67, 0.15);\n",
              "      fill: #174EA6;\n",
              "    }\n",
              "\n",
              "    [theme=dark] .colab-df-convert {\n",
              "      background-color: #3B4455;\n",
              "      fill: #D2E3FC;\n",
              "    }\n",
              "\n",
              "    [theme=dark] .colab-df-convert:hover {\n",
              "      background-color: #434B5C;\n",
              "      box-shadow: 0px 1px 3px 1px rgba(0, 0, 0, 0.15);\n",
              "      filter: drop-shadow(0px 1px 2px rgba(0, 0, 0, 0.3));\n",
              "      fill: #FFFFFF;\n",
              "    }\n",
              "  </style>\n",
              "\n",
              "      <script>\n",
              "        const buttonEl =\n",
              "          document.querySelector('#df-25c4e1ec-a4a2-4b00-85e9-1c6a1b39d5da button.colab-df-convert');\n",
              "        buttonEl.style.display =\n",
              "          google.colab.kernel.accessAllowed ? 'block' : 'none';\n",
              "\n",
              "        async function convertToInteractive(key) {\n",
              "          const element = document.querySelector('#df-25c4e1ec-a4a2-4b00-85e9-1c6a1b39d5da');\n",
              "          const dataTable =\n",
              "            await google.colab.kernel.invokeFunction('convertToInteractive',\n",
              "                                                     [key], {});\n",
              "          if (!dataTable) return;\n",
              "\n",
              "          const docLinkHtml = 'Like what you see? Visit the ' +\n",
              "            '<a target=\"_blank\" href=https://colab.research.google.com/notebooks/data_table.ipynb>data table notebook</a>'\n",
              "            + ' to learn more about interactive tables.';\n",
              "          element.innerHTML = '';\n",
              "          dataTable['output_type'] = 'display_data';\n",
              "          await google.colab.output.renderOutput(dataTable, element);\n",
              "          const docLink = document.createElement('div');\n",
              "          docLink.innerHTML = docLinkHtml;\n",
              "          element.appendChild(docLink);\n",
              "        }\n",
              "      </script>\n",
              "    </div>\n",
              "  </div>\n",
              "  "
            ]
          },
          "metadata": {},
          "execution_count": 53
        }
      ]
    }
  ]
}