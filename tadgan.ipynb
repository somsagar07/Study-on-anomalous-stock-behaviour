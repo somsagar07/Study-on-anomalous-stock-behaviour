{
  "cells": [
    {
      "cell_type": "code",
      "execution_count": null,
      "metadata": {
        "colab": {
          "base_uri": "https://localhost:8080/"
        },
        "id": "JX2qBrwxdUmw",
        "outputId": "ac4cd0f9-2f5d-4b8e-950d-2e1211c63771"
      },
      "outputs": [
        {
          "output_type": "stream",
          "name": "stdout",
          "text": [
            "Looking in indexes: https://pypi.org/simple, https://us-python.pkg.dev/colab-wheels/public/simple/\n",
            "Requirement already satisfied: orion-ml in /usr/local/lib/python3.7/dist-packages (0.3.2)\n",
            "Requirement already satisfied: h5py<2.11.0,>=2.10.0 in /usr/local/lib/python3.7/dist-packages (from orion-ml) (2.10.0)\n",
            "Requirement already satisfied: protobuf<4 in /usr/local/lib/python3.7/dist-packages (from orion-ml) (3.17.3)\n",
            "Requirement already satisfied: xlsxwriter>=1.3.6<1.4 in /usr/local/lib/python3.7/dist-packages (from orion-ml) (3.0.3)\n",
            "Requirement already satisfied: numpy<1.17,>=1.16 in /usr/local/lib/python3.7/dist-packages (from orion-ml) (1.16.6)\n",
            "Requirement already satisfied: pandas<0.25,>=0.23.4 in /usr/local/lib/python3.7/dist-packages (from orion-ml) (0.24.2)\n",
            "Requirement already satisfied: numba<0.52,>=0.48 in /usr/local/lib/python3.7/dist-packages (from orion-ml) (0.51.2)\n",
            "Requirement already satisfied: s3fs<0.5,>=0.2.2 in /usr/local/lib/python3.7/dist-packages (from orion-ml) (0.4.2)\n",
            "Requirement already satisfied: mlprimitives<0.3,>=0.2.2 in /usr/local/lib/python3.7/dist-packages (from orion-ml) (0.2.5)\n",
            "Requirement already satisfied: mlblocks<0.4,>=0.3.3 in /usr/local/lib/python3.7/dist-packages (from orion-ml) (0.3.4)\n",
            "Requirement already satisfied: azure-cognitiveservices-anomalydetector<0.4,>=0.3 in /usr/local/lib/python3.7/dist-packages (from orion-ml) (0.3.0)\n",
            "Requirement already satisfied: tabulate<0.9,>=0.8.3 in /usr/local/lib/python3.7/dist-packages (from orion-ml) (0.8.10)\n",
            "Requirement already satisfied: pyts<0.11,>=0.9 in /usr/local/lib/python3.7/dist-packages (from orion-ml) (0.10.0)\n",
            "Requirement already satisfied: Keras<2.4,>=2.1.6 in /usr/local/lib/python3.7/dist-packages (from orion-ml) (2.3.1)\n",
            "Requirement already satisfied: scikit-learn<0.21,>=0.20.1 in /usr/local/lib/python3.7/dist-packages (from orion-ml) (0.20.4)\n",
            "Requirement already satisfied: azure-common~=1.1 in /usr/local/lib/python3.7/dist-packages (from azure-cognitiveservices-anomalydetector<0.4,>=0.3->orion-ml) (1.1.28)\n",
            "Requirement already satisfied: msrest>=0.5.0 in /usr/local/lib/python3.7/dist-packages (from azure-cognitiveservices-anomalydetector<0.4,>=0.3->orion-ml) (0.7.1)\n",
            "Requirement already satisfied: six in /usr/local/lib/python3.7/dist-packages (from h5py<2.11.0,>=2.10.0->orion-ml) (1.15.0)\n",
            "Requirement already satisfied: scipy>=0.14 in /usr/local/lib/python3.7/dist-packages (from Keras<2.4,>=2.1.6->orion-ml) (1.7.3)\n",
            "Requirement already satisfied: pyyaml in /usr/local/lib/python3.7/dist-packages (from Keras<2.4,>=2.1.6->orion-ml) (6.0)\n",
            "Requirement already satisfied: keras-preprocessing>=1.0.5 in /usr/local/lib/python3.7/dist-packages (from Keras<2.4,>=2.1.6->orion-ml) (1.1.2)\n",
            "Requirement already satisfied: keras-applications>=1.0.6 in /usr/local/lib/python3.7/dist-packages (from Keras<2.4,>=2.1.6->orion-ml) (1.0.8)\n",
            "Requirement already satisfied: python-louvain<0.14,>=0.10 in /usr/local/lib/python3.7/dist-packages (from mlprimitives<0.3,>=0.2.2->orion-ml) (0.13)\n",
            "Requirement already satisfied: statsmodels<1,>=0.9.0 in /usr/local/lib/python3.7/dist-packages (from mlprimitives<0.3,>=0.2.2->orion-ml) (0.12.2)\n",
            "Requirement already satisfied: xgboost<1,>=0.72.1 in /usr/local/lib/python3.7/dist-packages (from mlprimitives<0.3,>=0.2.2->orion-ml) (0.90)\n",
            "Requirement already satisfied: featuretools<0.12,>=0.6.1 in /usr/local/lib/python3.7/dist-packages (from mlprimitives<0.3,>=0.2.2->orion-ml) (0.11.0)\n",
            "Requirement already satisfied: setuptools>=41.0.0 in /usr/local/lib/python3.7/dist-packages (from mlprimitives<0.3,>=0.2.2->orion-ml) (57.4.0)\n",
            "Requirement already satisfied: iso639<0.2,>=0.1.4 in /usr/local/lib/python3.7/dist-packages (from mlprimitives<0.3,>=0.2.2->orion-ml) (0.1.4)\n",
            "Requirement already satisfied: docutils<0.16,>=0.10 in /usr/local/lib/python3.7/dist-packages (from mlprimitives<0.3,>=0.2.2->orion-ml) (0.15.2)\n",
            "Requirement already satisfied: nltk<4,>=3.3 in /usr/local/lib/python3.7/dist-packages (from mlprimitives<0.3,>=0.2.2->orion-ml) (3.7)\n",
            "Requirement already satisfied: scikit-image!=0.14.3,<0.15,>=0.13.1 in /usr/local/lib/python3.7/dist-packages (from mlprimitives<0.3,>=0.2.2->orion-ml) (0.14.5)\n",
            "Requirement already satisfied: lightfm<2,>=1.15 in /usr/local/lib/python3.7/dist-packages (from mlprimitives<0.3,>=0.2.2->orion-ml) (1.16)\n",
            "Requirement already satisfied: networkx<3,>=2.0 in /usr/local/lib/python3.7/dist-packages (from mlprimitives<0.3,>=0.2.2->orion-ml) (2.6.3)\n",
            "Requirement already satisfied: opencv-python<5,>=3.4.0.12 in /usr/local/lib/python3.7/dist-packages (from mlprimitives<0.3,>=0.2.2->orion-ml) (4.6.0.66)\n",
            "Requirement already satisfied: tensorflow<2,>=1.11.0 in /usr/local/lib/python3.7/dist-packages (from mlprimitives<0.3,>=0.2.2->orion-ml) (1.15.5)\n",
            "Requirement already satisfied: langdetect<2,>=1.0.7 in /usr/local/lib/python3.7/dist-packages (from mlprimitives<0.3,>=0.2.2->orion-ml) (1.0.9)\n",
            "Requirement already satisfied: dask>=1.1.0 in /usr/local/lib/python3.7/dist-packages (from featuretools<0.12,>=0.6.1->mlprimitives<0.3,>=0.2.2->orion-ml) (2022.2.0)\n",
            "Requirement already satisfied: smart-open>=1.8.4 in /usr/local/lib/python3.7/dist-packages (from featuretools<0.12,>=0.6.1->mlprimitives<0.3,>=0.2.2->orion-ml) (5.2.1)\n",
            "Requirement already satisfied: tqdm>=4.32.0 in /usr/local/lib/python3.7/dist-packages (from featuretools<0.12,>=0.6.1->mlprimitives<0.3,>=0.2.2->orion-ml) (4.64.1)\n",
            "Requirement already satisfied: cloudpickle>=0.4.0 in /usr/local/lib/python3.7/dist-packages (from featuretools<0.12,>=0.6.1->mlprimitives<0.3,>=0.2.2->orion-ml) (1.5.0)\n",
            "Requirement already satisfied: psutil>=5.4.8 in /usr/local/lib/python3.7/dist-packages (from featuretools<0.12,>=0.6.1->mlprimitives<0.3,>=0.2.2->orion-ml) (5.4.8)\n",
            "Requirement already satisfied: click>=7.0.0 in /usr/local/lib/python3.7/dist-packages (from featuretools<0.12,>=0.6.1->mlprimitives<0.3,>=0.2.2->orion-ml) (7.1.2)\n",
            "Requirement already satisfied: future>=0.16.0 in /usr/local/lib/python3.7/dist-packages (from featuretools<0.12,>=0.6.1->mlprimitives<0.3,>=0.2.2->orion-ml) (0.16.0)\n",
            "Requirement already satisfied: distributed>=1.24.2 in /usr/local/lib/python3.7/dist-packages (from featuretools<0.12,>=0.6.1->mlprimitives<0.3,>=0.2.2->orion-ml) (2022.2.0)\n",
            "Requirement already satisfied: toolz>=0.8.2 in /usr/local/lib/python3.7/dist-packages (from dask>=1.1.0->featuretools<0.12,>=0.6.1->mlprimitives<0.3,>=0.2.2->orion-ml) (0.12.0)\n",
            "Requirement already satisfied: fsspec>=0.6.0 in /usr/local/lib/python3.7/dist-packages (from dask>=1.1.0->featuretools<0.12,>=0.6.1->mlprimitives<0.3,>=0.2.2->orion-ml) (2022.8.2)\n",
            "Requirement already satisfied: partd>=0.3.10 in /usr/local/lib/python3.7/dist-packages (from dask>=1.1.0->featuretools<0.12,>=0.6.1->mlprimitives<0.3,>=0.2.2->orion-ml) (1.3.0)\n",
            "Requirement already satisfied: packaging>=20.0 in /usr/local/lib/python3.7/dist-packages (from dask>=1.1.0->featuretools<0.12,>=0.6.1->mlprimitives<0.3,>=0.2.2->orion-ml) (21.3)\n",
            "Requirement already satisfied: tblib>=1.6.0 in /usr/local/lib/python3.7/dist-packages (from distributed>=1.24.2->featuretools<0.12,>=0.6.1->mlprimitives<0.3,>=0.2.2->orion-ml) (1.7.0)\n",
            "Requirement already satisfied: zict>=0.1.3 in /usr/local/lib/python3.7/dist-packages (from distributed>=1.24.2->featuretools<0.12,>=0.6.1->mlprimitives<0.3,>=0.2.2->orion-ml) (2.2.0)\n",
            "Requirement already satisfied: tornado>=5 in /usr/local/lib/python3.7/dist-packages (from distributed>=1.24.2->featuretools<0.12,>=0.6.1->mlprimitives<0.3,>=0.2.2->orion-ml) (5.1.1)\n",
            "Requirement already satisfied: sortedcontainers!=2.0.0,!=2.0.1 in /usr/local/lib/python3.7/dist-packages (from distributed>=1.24.2->featuretools<0.12,>=0.6.1->mlprimitives<0.3,>=0.2.2->orion-ml) (2.4.0)\n",
            "Requirement already satisfied: jinja2 in /usr/local/lib/python3.7/dist-packages (from distributed>=1.24.2->featuretools<0.12,>=0.6.1->mlprimitives<0.3,>=0.2.2->orion-ml) (2.11.3)\n",
            "Requirement already satisfied: msgpack>=0.6.0 in /usr/local/lib/python3.7/dist-packages (from distributed>=1.24.2->featuretools<0.12,>=0.6.1->mlprimitives<0.3,>=0.2.2->orion-ml) (1.0.4)\n",
            "Requirement already satisfied: requests in /usr/local/lib/python3.7/dist-packages (from lightfm<2,>=1.15->mlprimitives<0.3,>=0.2.2->orion-ml) (2.28.1)\n",
            "Requirement already satisfied: isodate>=0.6.0 in /usr/local/lib/python3.7/dist-packages (from msrest>=0.5.0->azure-cognitiveservices-anomalydetector<0.4,>=0.3->orion-ml) (0.6.1)\n",
            "Requirement already satisfied: certifi>=2017.4.17 in /usr/local/lib/python3.7/dist-packages (from msrest>=0.5.0->azure-cognitiveservices-anomalydetector<0.4,>=0.3->orion-ml) (2022.6.15)\n",
            "Requirement already satisfied: requests-oauthlib>=0.5.0 in /usr/local/lib/python3.7/dist-packages (from msrest>=0.5.0->azure-cognitiveservices-anomalydetector<0.4,>=0.3->orion-ml) (1.3.1)\n",
            "Requirement already satisfied: azure-core>=1.24.0 in /usr/local/lib/python3.7/dist-packages (from msrest>=0.5.0->azure-cognitiveservices-anomalydetector<0.4,>=0.3->orion-ml) (1.25.1)\n",
            "Requirement already satisfied: typing-extensions>=4.0.1 in /usr/local/lib/python3.7/dist-packages (from azure-core>=1.24.0->msrest>=0.5.0->azure-cognitiveservices-anomalydetector<0.4,>=0.3->orion-ml) (4.1.1)\n",
            "Requirement already satisfied: regex>=2021.8.3 in /usr/local/lib/python3.7/dist-packages (from nltk<4,>=3.3->mlprimitives<0.3,>=0.2.2->orion-ml) (2022.6.2)\n",
            "Requirement already satisfied: joblib in /usr/local/lib/python3.7/dist-packages (from nltk<4,>=3.3->mlprimitives<0.3,>=0.2.2->orion-ml) (1.1.0)\n",
            "Requirement already satisfied: llvmlite<0.35,>=0.34.0.dev0 in /usr/local/lib/python3.7/dist-packages (from numba<0.52,>=0.48->orion-ml) (0.34.0)\n",
            "Requirement already satisfied: pyparsing!=3.0.5,>=2.0.2 in /usr/local/lib/python3.7/dist-packages (from packaging>=20.0->dask>=1.1.0->featuretools<0.12,>=0.6.1->mlprimitives<0.3,>=0.2.2->orion-ml) (3.0.9)\n",
            "Requirement already satisfied: pytz>=2011k in /usr/local/lib/python3.7/dist-packages (from pandas<0.25,>=0.23.4->orion-ml) (2022.2.1)\n",
            "Requirement already satisfied: python-dateutil>=2.5.0 in /usr/local/lib/python3.7/dist-packages (from pandas<0.25,>=0.23.4->orion-ml) (2.8.2)\n",
            "Requirement already satisfied: locket in /usr/local/lib/python3.7/dist-packages (from partd>=0.3.10->dask>=1.1.0->featuretools<0.12,>=0.6.1->mlprimitives<0.3,>=0.2.2->orion-ml) (1.0.0)\n",
            "Requirement already satisfied: idna<4,>=2.5 in /usr/local/lib/python3.7/dist-packages (from requests->lightfm<2,>=1.15->mlprimitives<0.3,>=0.2.2->orion-ml) (2.10)\n",
            "Requirement already satisfied: urllib3<1.27,>=1.21.1 in /usr/local/lib/python3.7/dist-packages (from requests->lightfm<2,>=1.15->mlprimitives<0.3,>=0.2.2->orion-ml) (1.25.11)\n",
            "Requirement already satisfied: charset-normalizer<3,>=2 in /usr/local/lib/python3.7/dist-packages (from requests->lightfm<2,>=1.15->mlprimitives<0.3,>=0.2.2->orion-ml) (2.1.1)\n",
            "Requirement already satisfied: oauthlib>=3.0.0 in /usr/local/lib/python3.7/dist-packages (from requests-oauthlib>=0.5.0->msrest>=0.5.0->azure-cognitiveservices-anomalydetector<0.4,>=0.3->orion-ml) (3.2.0)\n",
            "Requirement already satisfied: botocore>=1.12.91 in /usr/local/lib/python3.7/dist-packages (from s3fs<0.5,>=0.2.2->orion-ml) (1.27.84)\n",
            "Requirement already satisfied: jmespath<2.0.0,>=0.7.1 in /usr/local/lib/python3.7/dist-packages (from botocore>=1.12.91->s3fs<0.5,>=0.2.2->orion-ml) (1.0.1)\n",
            "Requirement already satisfied: matplotlib>=2.0.0 in /usr/local/lib/python3.7/dist-packages (from scikit-image!=0.14.3,<0.15,>=0.13.1->mlprimitives<0.3,>=0.2.2->orion-ml) (3.2.2)\n",
            "Requirement already satisfied: pillow>=4.3.0 in /usr/local/lib/python3.7/dist-packages (from scikit-image!=0.14.3,<0.15,>=0.13.1->mlprimitives<0.3,>=0.2.2->orion-ml) (7.1.2)\n",
            "Requirement already satisfied: PyWavelets>=0.4.0 in /usr/local/lib/python3.7/dist-packages (from scikit-image!=0.14.3,<0.15,>=0.13.1->mlprimitives<0.3,>=0.2.2->orion-ml) (1.1.1)\n",
            "Requirement already satisfied: cycler>=0.10 in /usr/local/lib/python3.7/dist-packages (from matplotlib>=2.0.0->scikit-image!=0.14.3,<0.15,>=0.13.1->mlprimitives<0.3,>=0.2.2->orion-ml) (0.11.0)\n",
            "Requirement already satisfied: kiwisolver>=1.0.1 in /usr/local/lib/python3.7/dist-packages (from matplotlib>=2.0.0->scikit-image!=0.14.3,<0.15,>=0.13.1->mlprimitives<0.3,>=0.2.2->orion-ml) (1.4.4)\n",
            "Requirement already satisfied: patsy>=0.5 in /usr/local/lib/python3.7/dist-packages (from statsmodels<1,>=0.9.0->mlprimitives<0.3,>=0.2.2->orion-ml) (0.5.2)\n",
            "Requirement already satisfied: termcolor>=1.1.0 in /usr/local/lib/python3.7/dist-packages (from tensorflow<2,>=1.11.0->mlprimitives<0.3,>=0.2.2->orion-ml) (1.1.0)\n",
            "Requirement already satisfied: google-pasta>=0.1.6 in /usr/local/lib/python3.7/dist-packages (from tensorflow<2,>=1.11.0->mlprimitives<0.3,>=0.2.2->orion-ml) (0.2.0)\n",
            "Requirement already satisfied: wrapt>=1.11.1 in /usr/local/lib/python3.7/dist-packages (from tensorflow<2,>=1.11.0->mlprimitives<0.3,>=0.2.2->orion-ml) (1.14.1)\n",
            "Requirement already satisfied: tensorflow-estimator==1.15.1 in /usr/local/lib/python3.7/dist-packages (from tensorflow<2,>=1.11.0->mlprimitives<0.3,>=0.2.2->orion-ml) (1.15.1)\n",
            "Requirement already satisfied: gast==0.2.2 in /usr/local/lib/python3.7/dist-packages (from tensorflow<2,>=1.11.0->mlprimitives<0.3,>=0.2.2->orion-ml) (0.2.2)\n",
            "Requirement already satisfied: astor>=0.6.0 in /usr/local/lib/python3.7/dist-packages (from tensorflow<2,>=1.11.0->mlprimitives<0.3,>=0.2.2->orion-ml) (0.8.1)\n",
            "Requirement already satisfied: grpcio>=1.8.6 in /usr/local/lib/python3.7/dist-packages (from tensorflow<2,>=1.11.0->mlprimitives<0.3,>=0.2.2->orion-ml) (1.48.1)\n",
            "Requirement already satisfied: tensorboard<1.16.0,>=1.15.0 in /usr/local/lib/python3.7/dist-packages (from tensorflow<2,>=1.11.0->mlprimitives<0.3,>=0.2.2->orion-ml) (1.15.0)\n",
            "Requirement already satisfied: absl-py>=0.7.0 in /usr/local/lib/python3.7/dist-packages (from tensorflow<2,>=1.11.0->mlprimitives<0.3,>=0.2.2->orion-ml) (1.2.0)\n",
            "Requirement already satisfied: wheel>=0.26 in /usr/local/lib/python3.7/dist-packages (from tensorflow<2,>=1.11.0->mlprimitives<0.3,>=0.2.2->orion-ml) (0.37.1)\n",
            "Requirement already satisfied: opt-einsum>=2.3.2 in /usr/local/lib/python3.7/dist-packages (from tensorflow<2,>=1.11.0->mlprimitives<0.3,>=0.2.2->orion-ml) (3.3.0)\n",
            "Requirement already satisfied: markdown>=2.6.8 in /usr/local/lib/python3.7/dist-packages (from tensorboard<1.16.0,>=1.15.0->tensorflow<2,>=1.11.0->mlprimitives<0.3,>=0.2.2->orion-ml) (3.4.1)\n",
            "Requirement already satisfied: werkzeug>=0.11.15 in /usr/local/lib/python3.7/dist-packages (from tensorboard<1.16.0,>=1.15.0->tensorflow<2,>=1.11.0->mlprimitives<0.3,>=0.2.2->orion-ml) (1.0.1)\n",
            "Requirement already satisfied: importlib-metadata>=4.4 in /usr/local/lib/python3.7/dist-packages (from markdown>=2.6.8->tensorboard<1.16.0,>=1.15.0->tensorflow<2,>=1.11.0->mlprimitives<0.3,>=0.2.2->orion-ml) (4.12.0)\n",
            "Requirement already satisfied: zipp>=0.5 in /usr/local/lib/python3.7/dist-packages (from importlib-metadata>=4.4->markdown>=2.6.8->tensorboard<1.16.0,>=1.15.0->tensorflow<2,>=1.11.0->mlprimitives<0.3,>=0.2.2->orion-ml) (3.8.1)\n",
            "Requirement already satisfied: heapdict in /usr/local/lib/python3.7/dist-packages (from zict>=0.1.3->distributed>=1.24.2->featuretools<0.12,>=0.6.1->mlprimitives<0.3,>=0.2.2->orion-ml) (1.0.1)\n",
            "Requirement already satisfied: MarkupSafe>=0.23 in /usr/local/lib/python3.7/dist-packages (from jinja2->distributed>=1.24.2->featuretools<0.12,>=0.6.1->mlprimitives<0.3,>=0.2.2->orion-ml) (2.0.1)\n"
          ]
        }
      ],
      "source": [
        "pip install orion-ml"
      ]
    },
    {
      "cell_type": "code",
      "execution_count": null,
      "metadata": {
        "colab": {
          "base_uri": "https://localhost:8080/"
        },
        "id": "NoTY2Gm1eMLe",
        "outputId": "7cff66a8-a343-4fb9-fc55-715074570f83"
      },
      "outputs": [
        {
          "output_type": "stream",
          "name": "stdout",
          "text": [
            "Looking in indexes: https://pypi.org/simple, https://us-python.pkg.dev/colab-wheels/public/simple/\n",
            "Requirement already satisfied: plotly in /usr/local/lib/python3.7/dist-packages (5.5.0)\n",
            "Requirement already satisfied: six in /usr/local/lib/python3.7/dist-packages (from plotly) (1.15.0)\n",
            "Requirement already satisfied: tenacity>=6.2.0 in /usr/local/lib/python3.7/dist-packages (from plotly) (8.0.1)\n"
          ]
        }
      ],
      "source": [
        "pip install plotly"
      ]
    },
    {
      "cell_type": "code",
      "execution_count": null,
      "metadata": {
        "colab": {
          "base_uri": "https://localhost:8080/"
        },
        "id": "YXCvg-G_eOrS",
        "outputId": "0d8850b3-ddc0-42d1-8f87-ee67b68485f2"
      },
      "outputs": [
        {
          "output_type": "stream",
          "name": "stdout",
          "text": [
            "Looking in indexes: https://pypi.org/simple, https://us-python.pkg.dev/colab-wheels/public/simple/\n",
            "Requirement already satisfied: yfinance in /usr/local/lib/python3.7/dist-packages (0.1.74)\n",
            "Requirement already satisfied: pandas>=0.24.0 in /usr/local/lib/python3.7/dist-packages (from yfinance) (0.24.2)\n",
            "Requirement already satisfied: numpy>=1.15 in /usr/local/lib/python3.7/dist-packages (from yfinance) (1.16.6)\n",
            "Requirement already satisfied: requests>=2.26 in /usr/local/lib/python3.7/dist-packages (from yfinance) (2.28.1)\n",
            "Requirement already satisfied: multitasking>=0.0.7 in /usr/local/lib/python3.7/dist-packages (from yfinance) (0.0.11)\n",
            "Requirement already satisfied: lxml>=4.5.1 in /usr/local/lib/python3.7/dist-packages (from yfinance) (4.9.1)\n",
            "Requirement already satisfied: python-dateutil>=2.5.0 in /usr/local/lib/python3.7/dist-packages (from pandas>=0.24.0->yfinance) (2.8.2)\n",
            "Requirement already satisfied: pytz>=2011k in /usr/local/lib/python3.7/dist-packages (from pandas>=0.24.0->yfinance) (2022.2.1)\n",
            "Requirement already satisfied: six>=1.5 in /usr/local/lib/python3.7/dist-packages (from python-dateutil>=2.5.0->pandas>=0.24.0->yfinance) (1.15.0)\n",
            "Requirement already satisfied: urllib3<1.27,>=1.21.1 in /usr/local/lib/python3.7/dist-packages (from requests>=2.26->yfinance) (1.25.11)\n",
            "Requirement already satisfied: charset-normalizer<3,>=2 in /usr/local/lib/python3.7/dist-packages (from requests>=2.26->yfinance) (2.1.1)\n",
            "Requirement already satisfied: idna<4,>=2.5 in /usr/local/lib/python3.7/dist-packages (from requests>=2.26->yfinance) (2.10)\n",
            "Requirement already satisfied: certifi>=2017.4.17 in /usr/local/lib/python3.7/dist-packages (from requests>=2.26->yfinance) (2022.6.15)\n"
          ]
        }
      ],
      "source": [
        "pip install yfinance"
      ]
    },
    {
      "cell_type": "markdown",
      "metadata": {
        "id": "L3m_CC91eWrr"
      },
      "source": [
        "#Importing Lib\n"
      ]
    },
    {
      "cell_type": "code",
      "execution_count": null,
      "metadata": {
        "id": "1V5eEloOeU4H"
      },
      "outputs": [],
      "source": [
        "from orion import Orion\n",
        "import yfinance as yf\n",
        "import pandas as pd\n",
        "import numpy as np"
      ]
    },
    {
      "cell_type": "markdown",
      "metadata": {
        "id": "jiJLBg5SeeKb"
      },
      "source": [
        "#Getting Raw Data"
      ]
    },
    {
      "cell_type": "code",
      "execution_count": null,
      "metadata": {
        "colab": {
          "base_uri": "https://localhost:8080/"
        },
        "id": "QGHJkr5kebMM",
        "outputId": "302814d5-0ad2-4a85-c7a9-be317cb14617"
      },
      "outputs": [
        {
          "output_type": "stream",
          "name": "stdout",
          "text": [
            "\r[*********************100%***********************]  1 of 1 completed\n",
            "                 Open       High        Low      Close  Adj Close     Volume\n",
            "Date                                                                        \n",
            "2015-01-02  27.847500  27.860001  26.837500  27.332500  24.644020  212818400\n",
            "2015-01-05  27.072500  27.162500  26.352501  26.562500  23.949755  257142000\n",
            "2015-01-06  26.635000  26.857500  26.157499  26.565001  23.952013  263188400\n",
            "2015-01-07  26.799999  27.049999  26.674999  26.937500  24.287876  160423600\n",
            "2015-01-08  27.307501  28.037500  27.174999  27.972500  25.221066  237458000\n",
            "2015-01-09  28.167500  28.312500  27.552500  28.002501  25.248114  214798000\n",
            "2015-01-12  28.150000  28.157499  27.200001  27.312500  24.625982  198603200\n",
            "2015-01-13  27.857500  28.200001  27.227501  27.555000  24.844633  268367600\n",
            "2015-01-14  27.260000  27.622499  27.125000  27.450001  24.749960  195826400\n",
            "2015-01-15  27.500000  27.514999  26.665001  26.705000  24.078238  240056000\n",
            "2015-01-16  26.757500  26.895000  26.299999  26.497499  23.891148  314053200\n",
            "2015-01-20  26.959999  27.242500  26.625000  27.180000  24.506517  199599600\n",
            "2015-01-21  27.237499  27.764999  27.067499  27.387501  24.693605  194303600\n",
            "2015-01-22  27.565001  28.117500  27.430000  28.100000  25.336027  215185600\n",
            "2015-01-23  28.075001  28.437500  27.882500  28.245001  25.466759  185859200\n",
            "2015-01-26  28.434999  28.590000  28.200001  28.275000  25.493814  222460000\n",
            "2015-01-27  28.105000  28.120001  27.257500  27.285000  24.601189  382274800\n",
            "2015-01-28  29.407499  29.530001  28.827499  28.827499  25.991966  585908400\n",
            "2015-01-29  29.080000  29.797501  28.889999  29.725000  26.801189  337745600\n",
            "2015-01-30  29.600000  30.000000  29.212500  29.290001  26.408976  334982000\n",
            "2015-02-02  29.512501  29.792500  29.020000  29.657499  26.740322  250956400\n",
            "2015-02-03  29.625000  29.772499  29.402500  29.662500  26.744833  207662800\n",
            "2015-02-04  29.625000  30.127501  29.577499  29.889999  26.949955  280598800\n",
            "2015-02-05  30.004999  30.057501  29.812500  29.985001  27.142313  168984800\n",
            "2015-02-06  30.004999  30.062500  29.612499  29.732500  26.913752  174826400\n",
            "2015-02-09  29.637501  29.959999  29.607500  29.930000  27.092529  155559200\n",
            "2015-02-10  30.042500  30.537500  30.040001  30.504999  27.613010  248034000\n",
            "2015-02-11  30.692499  31.230000  30.625000  31.219999  28.260229  294247200\n",
            "2015-02-12  31.514999  31.870001  31.392500  31.615000  28.617779  297898000\n",
            "2015-02-13  31.820000  31.820000  31.412500  31.770000  28.758087  217088800\n",
            "...               ...        ...        ...        ...        ...        ...\n",
            "2019-11-18  66.449997  66.857498  66.057503  66.775002  65.526489   86703200\n",
            "2019-11-19  66.974998  67.000000  66.347504  66.572502  65.327774   76167200\n",
            "2019-11-20  66.385002  66.519997  65.099998  65.797501  64.567276  106234400\n",
            "2019-11-21  65.922501  66.002502  65.294998  65.502502  64.277779  121395200\n",
            "2019-11-22  65.647499  65.794998  65.209999  65.445000  64.221352   65325200\n",
            "2019-11-25  65.677498  66.610001  65.629997  66.592499  65.347389   84020400\n",
            "2019-11-26  66.735001  66.790001  65.625000  66.072502  64.837135  105207600\n",
            "2019-11-27  66.394997  66.995003  66.327499  66.959999  65.708023   65235600\n",
            "2019-11-29  66.650002  67.000000  66.474998  66.812500  65.563293   46617600\n",
            "2019-12-02  66.817497  67.062500  65.862503  66.040001  64.805222   94487200\n",
            "2019-12-03  64.577499  64.882500  64.072502  64.862503  63.649757  114430400\n",
            "2019-12-04  65.267502  65.827499  65.169998  65.434998  64.211533   67181600\n",
            "2019-12-05  65.947502  66.472504  65.682503  66.394997  65.153595   74424400\n",
            "2019-12-06  66.870003  67.750000  66.824997  67.677498  66.412094  106075600\n",
            "2019-12-09  67.500000  67.699997  66.227501  66.730003  65.482323  128042400\n",
            "2019-12-10  67.150002  67.517502  66.464996  67.120003  65.865028   90420400\n",
            "2019-12-11  67.202499  67.775002  67.125000  67.692497  66.426826   78756800\n",
            "2019-12-12  66.945000  68.139999  66.830002  67.864998  66.596107  137310400\n",
            "2019-12-13  67.864998  68.824997  67.732498  68.787498  67.501358  133587600\n",
            "2019-12-16  69.250000  70.197502  69.245003  69.964996  68.656845  128186000\n",
            "2019-12-17  69.892502  70.442497  69.699997  70.102501  68.791771  114158400\n",
            "2019-12-18  69.949997  70.474998  69.779999  69.934998  68.627396  116028400\n",
            "2019-12-19  69.875000  70.294998  69.737503  70.004997  68.696098   98369200\n",
            "2019-12-20  70.557503  70.662498  69.639999  69.860001  68.553825  275978000\n",
            "2019-12-23  70.132500  71.062500  70.092499  71.000000  69.672493   98572000\n",
            "2019-12-24  71.172501  71.222504  70.730003  71.067497  69.738724   48478800\n",
            "2019-12-26  71.205002  72.495003  71.175003  72.477501  71.122375   93121200\n",
            "2019-12-27  72.779999  73.492500  72.029999  72.449997  71.095375  146266000\n",
            "2019-12-30  72.364998  73.172501  71.305000  72.879997  71.517342  144114400\n",
            "2019-12-31  72.482498  73.419998  72.379997  73.412498  72.039886  100805600\n",
            "\n",
            "[1258 rows x 6 columns]\n"
          ]
        }
      ],
      "source": [
        "#Importig Apple Stock data from yfinance\n",
        "start = \"2015-01-01\"\n",
        "end = \"2020-01-01\"\n",
        "appl_df = yf.download(\"AAPL\", start = start,end = end)\n",
        "print(appl_df)\n",
        "#Getting Date and Adjusted Closing Price of Apple Stock\n",
        "appl_df_1 = appl_df.reset_index()[['Date','Adj Close']]\n",
        "aapl = yf.Ticker('AAPL')\n",
        "\n",
        "\n",
        "#Making table with Date converted to timestamp in nanoseconds\n",
        "tmdata = pd.Series(appl_df_1['Date'].values.astype(np.int64))\n",
        "\n",
        "#Merging table with timestamp with original Table\n",
        "appl_df_2 = appl_df_1.merge(tmdata.rename('Timestamp'), how = 'inner', left_index= True, right_index = True)\n",
        "\n",
        "#Dropping Date\n",
        "appl_df_2.drop('Date', axis=1, inplace= True)"
      ]
    },
    {
      "cell_type": "code",
      "execution_count": null,
      "metadata": {
        "id": "lb1HdQDtel4h"
      },
      "outputs": [],
      "source": [
        "hist = aapl.history(start=start, end=end)\n",
        "appl_df_3 = appl_df_2.reindex(columns = ['Timestamp', 'Adj Close'])\n",
        "appl_final = appl_df_3.rename(columns={'Timestamp': 'timestamp', 'Adj Close': 'value'})\n",
        "appl_final['value'] = appl_final['value'] /appl_final['value'].abs().max()\n",
        "appl_final['timestamp'] = appl_final['timestamp'].div(1000000000)"
      ]
    },
    {
      "cell_type": "code",
      "execution_count": null,
      "metadata": {
        "id": "DsFJi6M4eqYY"
      },
      "outputs": [],
      "source": [
        "hyperparameters = {\n",
        "    'orion.primitives.tadgan.TadGAN#1': {\n",
        "        'epochs': 5\n",
        "        }\n",
        "}\n",
        "\n",
        "orion = Orion(\n",
        "    pipeline='tadgan',\n",
        "    hyperparameters=hyperparameters\n",
        ")\n"
      ]
    },
    {
      "cell_type": "code",
      "execution_count": null,
      "metadata": {
        "colab": {
          "base_uri": "https://localhost:8080/"
        },
        "id": "goJ4zjIQfIxJ",
        "outputId": "3ad7f7b5-4040-4599-f0fc-468e8c922fc9"
      },
      "outputs": [
        {
          "output_type": "stream",
          "name": "stderr",
          "text": [
            "/usr/local/lib/python3.7/dist-packages/keras/engine/training.py:297: UserWarning: Discrepancy between trainable weights and collected trainable weights, did you set `model.trainable` without calling `model.compile` after ?\n",
            "  'Discrepancy between trainable weights and collected trainable'\n",
            "/usr/local/lib/python3.7/dist-packages/keras/engine/training.py:297: UserWarning: Discrepancy between trainable weights and collected trainable weights, did you set `model.trainable` without calling `model.compile` after ?\n",
            "  'Discrepancy between trainable weights and collected trainable'\n",
            "/usr/local/lib/python3.7/dist-packages/keras/engine/training.py:297: UserWarning: Discrepancy between trainable weights and collected trainable weights, did you set `model.trainable` without calling `model.compile` after ?\n",
            "  'Discrepancy between trainable weights and collected trainable'\n",
            "/usr/local/lib/python3.7/dist-packages/keras/engine/training.py:297: UserWarning: Discrepancy between trainable weights and collected trainable weights, did you set `model.trainable` without calling `model.compile` after ?\n",
            "  'Discrepancy between trainable weights and collected trainable'\n"
          ]
        },
        {
          "output_type": "stream",
          "name": "stdout",
          "text": [
            "Epoch: 1/5, [Dx loss: [-1.8083769   0.41599083 -2.479624    0.02552564]] [Dz loss: [-1.3510131   1.2187536  -3.9475656   0.13777953]] [G loss: [9.873273   2.5276413  6.6265054  0.07191282]]\n",
            "Epoch: 2/5, [Dx loss: [-1.8552474  -2.509784    0.5345722   0.01199652]] [Dz loss: [ 2.4497724   1.0017264  -0.02463207  0.14726786]] [G loss: [ 0.00759935 -0.5549236   0.05017689  0.0512346 ]]\n",
            "Epoch: 3/5, [Dx loss: [-1.9002211  -4.9338055   2.908676    0.01249051]] [Dz loss: [2.6416934  0.5077051  0.29250085 0.18414864]] [G loss: [-2.679525   -2.9299831  -0.24802467  0.04984841]]\n",
            "Epoch: 4/5, [Dx loss: [-1.9170754  -7.491761    5.447972    0.01267105]] [Dz loss: [2.2396548  0.20208047 0.50523275 0.15323426]] [G loss: [-5.4659224  -5.486709   -0.4918123   0.05125998]]\n",
            "Epoch: 5/5, [Dx loss: [-1.9163022  -7.0793266   5.0315514   0.01314736]] [Dz loss: [ 1.7781478  -0.24255207  0.7317606   0.1288939 ]] [G loss: [-5.1436234  -5.0291486  -0.6378403   0.05233657]]\n"
          ]
        }
      ],
      "source": [
        "orion.fit(appl_final)"
      ]
    },
    {
      "cell_type": "code",
      "execution_count": null,
      "metadata": {
        "id": "cYYeRdobhrwr"
      },
      "outputs": [],
      "source": [
        "anomalies = orion.detect(appl_final)"
      ]
    },
    {
      "cell_type": "code",
      "execution_count": null,
      "metadata": {
        "colab": {
          "base_uri": "https://localhost:8080/",
          "height": 81
        },
        "id": "tQiQH3Oihunh",
        "outputId": "52ff54b5-e942-4a9d-bd33-86d389fc51ad"
      },
      "outputs": [
        {
          "output_type": "execute_result",
          "data": {
            "text/plain": [
              "                start                 end  severity\n",
              "0 2018-08-02 06:00:00 2018-08-18 18:00:00  0.140713"
            ],
            "text/html": [
              "\n",
              "  <div id=\"df-a4f39d80-bf5f-4bae-b9be-c9472d32587c\">\n",
              "    <div class=\"colab-df-container\">\n",
              "      <div>\n",
              "<style scoped>\n",
              "    .dataframe tbody tr th:only-of-type {\n",
              "        vertical-align: middle;\n",
              "    }\n",
              "\n",
              "    .dataframe tbody tr th {\n",
              "        vertical-align: top;\n",
              "    }\n",
              "\n",
              "    .dataframe thead th {\n",
              "        text-align: right;\n",
              "    }\n",
              "</style>\n",
              "<table border=\"1\" class=\"dataframe\">\n",
              "  <thead>\n",
              "    <tr style=\"text-align: right;\">\n",
              "      <th></th>\n",
              "      <th>start</th>\n",
              "      <th>end</th>\n",
              "      <th>severity</th>\n",
              "    </tr>\n",
              "  </thead>\n",
              "  <tbody>\n",
              "    <tr>\n",
              "      <th>0</th>\n",
              "      <td>2018-08-02 06:00:00</td>\n",
              "      <td>2018-08-18 18:00:00</td>\n",
              "      <td>0.140713</td>\n",
              "    </tr>\n",
              "  </tbody>\n",
              "</table>\n",
              "</div>\n",
              "      <button class=\"colab-df-convert\" onclick=\"convertToInteractive('df-a4f39d80-bf5f-4bae-b9be-c9472d32587c')\"\n",
              "              title=\"Convert this dataframe to an interactive table.\"\n",
              "              style=\"display:none;\">\n",
              "        \n",
              "  <svg xmlns=\"http://www.w3.org/2000/svg\" height=\"24px\"viewBox=\"0 0 24 24\"\n",
              "       width=\"24px\">\n",
              "    <path d=\"M0 0h24v24H0V0z\" fill=\"none\"/>\n",
              "    <path d=\"M18.56 5.44l.94 2.06.94-2.06 2.06-.94-2.06-.94-.94-2.06-.94 2.06-2.06.94zm-11 1L8.5 8.5l.94-2.06 2.06-.94-2.06-.94L8.5 2.5l-.94 2.06-2.06.94zm10 10l.94 2.06.94-2.06 2.06-.94-2.06-.94-.94-2.06-.94 2.06-2.06.94z\"/><path d=\"M17.41 7.96l-1.37-1.37c-.4-.4-.92-.59-1.43-.59-.52 0-1.04.2-1.43.59L10.3 9.45l-7.72 7.72c-.78.78-.78 2.05 0 2.83L4 21.41c.39.39.9.59 1.41.59.51 0 1.02-.2 1.41-.59l7.78-7.78 2.81-2.81c.8-.78.8-2.07 0-2.86zM5.41 20L4 18.59l7.72-7.72 1.47 1.35L5.41 20z\"/>\n",
              "  </svg>\n",
              "      </button>\n",
              "      \n",
              "  <style>\n",
              "    .colab-df-container {\n",
              "      display:flex;\n",
              "      flex-wrap:wrap;\n",
              "      gap: 12px;\n",
              "    }\n",
              "\n",
              "    .colab-df-convert {\n",
              "      background-color: #E8F0FE;\n",
              "      border: none;\n",
              "      border-radius: 50%;\n",
              "      cursor: pointer;\n",
              "      display: none;\n",
              "      fill: #1967D2;\n",
              "      height: 32px;\n",
              "      padding: 0 0 0 0;\n",
              "      width: 32px;\n",
              "    }\n",
              "\n",
              "    .colab-df-convert:hover {\n",
              "      background-color: #E2EBFA;\n",
              "      box-shadow: 0px 1px 2px rgba(60, 64, 67, 0.3), 0px 1px 3px 1px rgba(60, 64, 67, 0.15);\n",
              "      fill: #174EA6;\n",
              "    }\n",
              "\n",
              "    [theme=dark] .colab-df-convert {\n",
              "      background-color: #3B4455;\n",
              "      fill: #D2E3FC;\n",
              "    }\n",
              "\n",
              "    [theme=dark] .colab-df-convert:hover {\n",
              "      background-color: #434B5C;\n",
              "      box-shadow: 0px 1px 3px 1px rgba(0, 0, 0, 0.15);\n",
              "      filter: drop-shadow(0px 1px 2px rgba(0, 0, 0, 0.3));\n",
              "      fill: #FFFFFF;\n",
              "    }\n",
              "  </style>\n",
              "\n",
              "      <script>\n",
              "        const buttonEl =\n",
              "          document.querySelector('#df-a4f39d80-bf5f-4bae-b9be-c9472d32587c button.colab-df-convert');\n",
              "        buttonEl.style.display =\n",
              "          google.colab.kernel.accessAllowed ? 'block' : 'none';\n",
              "\n",
              "        async function convertToInteractive(key) {\n",
              "          const element = document.querySelector('#df-a4f39d80-bf5f-4bae-b9be-c9472d32587c');\n",
              "          const dataTable =\n",
              "            await google.colab.kernel.invokeFunction('convertToInteractive',\n",
              "                                                     [key], {});\n",
              "          if (!dataTable) return;\n",
              "\n",
              "          const docLinkHtml = 'Like what you see? Visit the ' +\n",
              "            '<a target=\"_blank\" href=https://colab.research.google.com/notebooks/data_table.ipynb>data table notebook</a>'\n",
              "            + ' to learn more about interactive tables.';\n",
              "          element.innerHTML = '';\n",
              "          dataTable['output_type'] = 'display_data';\n",
              "          await google.colab.output.renderOutput(dataTable, element);\n",
              "          const docLink = document.createElement('div');\n",
              "          docLink.innerHTML = docLinkHtml;\n",
              "          element.appendChild(docLink);\n",
              "        }\n",
              "      </script>\n",
              "    </div>\n",
              "  </div>\n",
              "  "
            ]
          },
          "metadata": {},
          "execution_count": 31
        }
      ],
      "source": [
        "anomalies['start'] = pd.to_datetime(anomalies['start'], unit='s')\n",
        "anomalies['end'] = pd.to_datetime(anomalies['end'], unit='s')\n",
        "anomalies"
      ]
    },
    {
      "cell_type": "code",
      "execution_count": null,
      "metadata": {
        "colab": {
          "base_uri": "https://localhost:8080/"
        },
        "id": "bon2SZqThwr_",
        "outputId": "1e4f5755-7020-46fd-d9c4-e284b60b3911"
      },
      "outputs": [
        {
          "output_type": "execute_result",
          "data": {
            "text/plain": [
              "[                 Open       High        Low      Close     Volume  Dividends  \\\n",
              " Date                                                                           \n",
              " 2018-08-02  48.141626  50.013721  48.086424  49.776108  249616000     0.0000   \n",
              " 2018-08-03  49.689692  50.100114  49.317672  49.920105  133789600     0.0000   \n",
              " 2018-08-06  49.922507  50.222522  49.699297  50.179321  101701600     0.0000   \n",
              " 2018-08-07  50.239336  50.282537  49.624902  49.708908  102349600     0.0000   \n",
              " 2018-08-08  49.454483  49.876903  49.087265  49.742496   90102000     0.0000   \n",
              " 2018-08-09  50.289731  50.349734  49.730502  50.133724   93970400     0.0000   \n",
              " 2018-08-10  49.943449  50.362536  49.777260  49.984394   98444800     0.1825   \n",
              " 2018-08-13  50.413117  50.808117  50.025342  50.307140  103563600     0.0000   \n",
              " 2018-08-14  50.617832  50.714172  50.160208  50.519081   82992000     0.0000   \n",
              " 2018-08-15  50.391436  50.757535  50.177076  50.637108  115230400     0.0000   \n",
              " 2018-08-16  51.000802  51.496960  50.933363  51.378944  114001600     0.0000   \n",
              " 2018-08-17  51.407841  52.494091  51.340402  52.404976  141708000     0.0000   \n",
              " \n",
              "             Stock Splits  \n",
              " Date                      \n",
              " 2018-08-02             0  \n",
              " 2018-08-03             0  \n",
              " 2018-08-06             0  \n",
              " 2018-08-07             0  \n",
              " 2018-08-08             0  \n",
              " 2018-08-09             0  \n",
              " 2018-08-10             0  \n",
              " 2018-08-13             0  \n",
              " 2018-08-14             0  \n",
              " 2018-08-15             0  \n",
              " 2018-08-16             0  \n",
              " 2018-08-17             0  ]"
            ]
          },
          "metadata": {},
          "execution_count": 32
        }
      ],
      "source": [
        "anomalies_hist = [aapl.history(start=anomalies['start'].iloc[i], end=anomalies['end'].iloc[i]) for i in range(anomalies.shape[0])]\n",
        "anomalies_hist"
      ]
    },
    {
      "cell_type": "code",
      "execution_count": null,
      "metadata": {
        "colab": {
          "base_uri": "https://localhost:8080/",
          "height": 542
        },
        "id": "-oL7i0fhmvcQ",
        "outputId": "6c12412b-19fb-4db8-f904-944c95d1d2b7"
      },
      "outputs": [
        {
          "output_type": "display_data",
          "data": {
            "text/html": [
              "<html>\n",
              "<head><meta charset=\"utf-8\" /></head>\n",
              "<body>\n",
              "    <div>            <script src=\"https://cdnjs.cloudflare.com/ajax/libs/mathjax/2.7.5/MathJax.js?config=TeX-AMS-MML_SVG\"></script><script type=\"text/javascript\">if (window.MathJax) {MathJax.Hub.Config({SVG: {font: \"STIX-Web\"}});}</script>                <script type=\"text/javascript\">window.PlotlyConfig = {MathJaxConfig: 'local'};</script>\n",
              "        <script src=\"https://cdn.plot.ly/plotly-2.8.3.min.js\"></script>                <div id=\"1131f6f9-3d03-4a3a-9e28-26d91e3786ec\" class=\"plotly-graph-div\" style=\"height:525px; width:100%;\"></div>            <script type=\"text/javascript\">                                    window.PLOTLYENV=window.PLOTLYENV || {};                                    if (document.getElementById(\"1131f6f9-3d03-4a3a-9e28-26d91e3786ec\")) {                    Plotly.newPlot(                        \"1131f6f9-3d03-4a3a-9e28-26d91e3786ec\",                        [{\"name\":\"Price\",\"x\":[\"2015-01-02T00:00:00\",\"2015-01-05T00:00:00\",\"2015-01-06T00:00:00\",\"2015-01-07T00:00:00\",\"2015-01-08T00:00:00\",\"2015-01-09T00:00:00\",\"2015-01-12T00:00:00\",\"2015-01-13T00:00:00\",\"2015-01-14T00:00:00\",\"2015-01-15T00:00:00\",\"2015-01-16T00:00:00\",\"2015-01-20T00:00:00\",\"2015-01-21T00:00:00\",\"2015-01-22T00:00:00\",\"2015-01-23T00:00:00\",\"2015-01-26T00:00:00\",\"2015-01-27T00:00:00\",\"2015-01-28T00:00:00\",\"2015-01-29T00:00:00\",\"2015-01-30T00:00:00\",\"2015-02-02T00:00:00\",\"2015-02-03T00:00:00\",\"2015-02-04T00:00:00\",\"2015-02-05T00:00:00\",\"2015-02-06T00:00:00\",\"2015-02-09T00:00:00\",\"2015-02-10T00:00:00\",\"2015-02-11T00:00:00\",\"2015-02-12T00:00:00\",\"2015-02-13T00:00:00\",\"2015-02-17T00:00:00\",\"2015-02-18T00:00:00\",\"2015-02-19T00:00:00\",\"2015-02-20T00:00:00\",\"2015-02-23T00:00:00\",\"2015-02-24T00:00:00\",\"2015-02-25T00:00:00\",\"2015-02-26T00:00:00\",\"2015-02-27T00:00:00\",\"2015-03-02T00:00:00\",\"2015-03-03T00:00:00\",\"2015-03-04T00:00:00\",\"2015-03-05T00:00:00\",\"2015-03-06T00:00:00\",\"2015-03-09T00:00:00\",\"2015-03-10T00:00:00\",\"2015-03-11T00:00:00\",\"2015-03-12T00:00:00\",\"2015-03-13T00:00:00\",\"2015-03-16T00:00:00\",\"2015-03-17T00:00:00\",\"2015-03-18T00:00:00\",\"2015-03-19T00:00:00\",\"2015-03-20T00:00:00\",\"2015-03-23T00:00:00\",\"2015-03-24T00:00:00\",\"2015-03-25T00:00:00\",\"2015-03-26T00:00:00\",\"2015-03-27T00:00:00\",\"2015-03-30T00:00:00\",\"2015-03-31T00:00:00\",\"2015-04-01T00:00:00\",\"2015-04-02T00:00:00\",\"2015-04-06T00:00:00\",\"2015-04-07T00:00:00\",\"2015-04-08T00:00:00\",\"2015-04-09T00:00:00\",\"2015-04-10T00:00:00\",\"2015-04-13T00:00:00\",\"2015-04-14T00:00:00\",\"2015-04-15T00:00:00\",\"2015-04-16T00:00:00\",\"2015-04-17T00:00:00\",\"2015-04-20T00:00:00\",\"2015-04-21T00:00:00\",\"2015-04-22T00:00:00\",\"2015-04-23T00:00:00\",\"2015-04-24T00:00:00\",\"2015-04-27T00:00:00\",\"2015-04-28T00:00:00\",\"2015-04-29T00:00:00\",\"2015-04-30T00:00:00\",\"2015-05-01T00:00:00\",\"2015-05-04T00:00:00\",\"2015-05-05T00:00:00\",\"2015-05-06T00:00:00\",\"2015-05-07T00:00:00\",\"2015-05-08T00:00:00\",\"2015-05-11T00:00:00\",\"2015-05-12T00:00:00\",\"2015-05-13T00:00:00\",\"2015-05-14T00:00:00\",\"2015-05-15T00:00:00\",\"2015-05-18T00:00:00\",\"2015-05-19T00:00:00\",\"2015-05-20T00:00:00\",\"2015-05-21T00:00:00\",\"2015-05-22T00:00:00\",\"2015-05-26T00:00:00\",\"2015-05-27T00:00:00\",\"2015-05-28T00:00:00\",\"2015-05-29T00:00:00\",\"2015-06-01T00:00:00\",\"2015-06-02T00:00:00\",\"2015-06-03T00:00:00\",\"2015-06-04T00:00:00\",\"2015-06-05T00:00:00\",\"2015-06-08T00:00:00\",\"2015-06-09T00:00:00\",\"2015-06-10T00:00:00\",\"2015-06-11T00:00:00\",\"2015-06-12T00:00:00\",\"2015-06-15T00:00:00\",\"2015-06-16T00:00:00\",\"2015-06-17T00:00:00\",\"2015-06-18T00:00:00\",\"2015-06-19T00:00:00\",\"2015-06-22T00:00:00\",\"2015-06-23T00:00:00\",\"2015-06-24T00:00:00\",\"2015-06-25T00:00:00\",\"2015-06-26T00:00:00\",\"2015-06-29T00:00:00\",\"2015-06-30T00:00:00\",\"2015-07-01T00:00:00\",\"2015-07-02T00:00:00\",\"2015-07-06T00:00:00\",\"2015-07-07T00:00:00\",\"2015-07-08T00:00:00\",\"2015-07-09T00:00:00\",\"2015-07-10T00:00:00\",\"2015-07-13T00:00:00\",\"2015-07-14T00:00:00\",\"2015-07-15T00:00:00\",\"2015-07-16T00:00:00\",\"2015-07-17T00:00:00\",\"2015-07-20T00:00:00\",\"2015-07-21T00:00:00\",\"2015-07-22T00:00:00\",\"2015-07-23T00:00:00\",\"2015-07-24T00:00:00\",\"2015-07-27T00:00:00\",\"2015-07-28T00:00:00\",\"2015-07-29T00:00:00\",\"2015-07-30T00:00:00\",\"2015-07-31T00:00:00\",\"2015-08-03T00:00:00\",\"2015-08-04T00:00:00\",\"2015-08-05T00:00:00\",\"2015-08-06T00:00:00\",\"2015-08-07T00:00:00\",\"2015-08-10T00:00:00\",\"2015-08-11T00:00:00\",\"2015-08-12T00:00:00\",\"2015-08-13T00:00:00\",\"2015-08-14T00:00:00\",\"2015-08-17T00:00:00\",\"2015-08-18T00:00:00\",\"2015-08-19T00:00:00\",\"2015-08-20T00:00:00\",\"2015-08-21T00:00:00\",\"2015-08-24T00:00:00\",\"2015-08-25T00:00:00\",\"2015-08-26T00:00:00\",\"2015-08-27T00:00:00\",\"2015-08-28T00:00:00\",\"2015-08-31T00:00:00\",\"2015-09-01T00:00:00\",\"2015-09-02T00:00:00\",\"2015-09-03T00:00:00\",\"2015-09-04T00:00:00\",\"2015-09-08T00:00:00\",\"2015-09-09T00:00:00\",\"2015-09-10T00:00:00\",\"2015-09-11T00:00:00\",\"2015-09-14T00:00:00\",\"2015-09-15T00:00:00\",\"2015-09-16T00:00:00\",\"2015-09-17T00:00:00\",\"2015-09-18T00:00:00\",\"2015-09-21T00:00:00\",\"2015-09-22T00:00:00\",\"2015-09-23T00:00:00\",\"2015-09-24T00:00:00\",\"2015-09-25T00:00:00\",\"2015-09-28T00:00:00\",\"2015-09-29T00:00:00\",\"2015-09-30T00:00:00\",\"2015-10-01T00:00:00\",\"2015-10-02T00:00:00\",\"2015-10-05T00:00:00\",\"2015-10-06T00:00:00\",\"2015-10-07T00:00:00\",\"2015-10-08T00:00:00\",\"2015-10-09T00:00:00\",\"2015-10-12T00:00:00\",\"2015-10-13T00:00:00\",\"2015-10-14T00:00:00\",\"2015-10-15T00:00:00\",\"2015-10-16T00:00:00\",\"2015-10-19T00:00:00\",\"2015-10-20T00:00:00\",\"2015-10-21T00:00:00\",\"2015-10-22T00:00:00\",\"2015-10-23T00:00:00\",\"2015-10-26T00:00:00\",\"2015-10-27T00:00:00\",\"2015-10-28T00:00:00\",\"2015-10-29T00:00:00\",\"2015-10-30T00:00:00\",\"2015-11-02T00:00:00\",\"2015-11-03T00:00:00\",\"2015-11-04T00:00:00\",\"2015-11-05T00:00:00\",\"2015-11-06T00:00:00\",\"2015-11-09T00:00:00\",\"2015-11-10T00:00:00\",\"2015-11-11T00:00:00\",\"2015-11-12T00:00:00\",\"2015-11-13T00:00:00\",\"2015-11-16T00:00:00\",\"2015-11-17T00:00:00\",\"2015-11-18T00:00:00\",\"2015-11-19T00:00:00\",\"2015-11-20T00:00:00\",\"2015-11-23T00:00:00\",\"2015-11-24T00:00:00\",\"2015-11-25T00:00:00\",\"2015-11-27T00:00:00\",\"2015-11-30T00:00:00\",\"2015-12-01T00:00:00\",\"2015-12-02T00:00:00\",\"2015-12-03T00:00:00\",\"2015-12-04T00:00:00\",\"2015-12-07T00:00:00\",\"2015-12-08T00:00:00\",\"2015-12-09T00:00:00\",\"2015-12-10T00:00:00\",\"2015-12-11T00:00:00\",\"2015-12-14T00:00:00\",\"2015-12-15T00:00:00\",\"2015-12-16T00:00:00\",\"2015-12-17T00:00:00\",\"2015-12-18T00:00:00\",\"2015-12-21T00:00:00\",\"2015-12-22T00:00:00\",\"2015-12-23T00:00:00\",\"2015-12-24T00:00:00\",\"2015-12-28T00:00:00\",\"2015-12-29T00:00:00\",\"2015-12-30T00:00:00\",\"2015-12-31T00:00:00\",\"2016-01-04T00:00:00\",\"2016-01-05T00:00:00\",\"2016-01-06T00:00:00\",\"2016-01-07T00:00:00\",\"2016-01-08T00:00:00\",\"2016-01-11T00:00:00\",\"2016-01-12T00:00:00\",\"2016-01-13T00:00:00\",\"2016-01-14T00:00:00\",\"2016-01-15T00:00:00\",\"2016-01-19T00:00:00\",\"2016-01-20T00:00:00\",\"2016-01-21T00:00:00\",\"2016-01-22T00:00:00\",\"2016-01-25T00:00:00\",\"2016-01-26T00:00:00\",\"2016-01-27T00:00:00\",\"2016-01-28T00:00:00\",\"2016-01-29T00:00:00\",\"2016-02-01T00:00:00\",\"2016-02-02T00:00:00\",\"2016-02-03T00:00:00\",\"2016-02-04T00:00:00\",\"2016-02-05T00:00:00\",\"2016-02-08T00:00:00\",\"2016-02-09T00:00:00\",\"2016-02-10T00:00:00\",\"2016-02-11T00:00:00\",\"2016-02-12T00:00:00\",\"2016-02-16T00:00:00\",\"2016-02-17T00:00:00\",\"2016-02-18T00:00:00\",\"2016-02-19T00:00:00\",\"2016-02-22T00:00:00\",\"2016-02-23T00:00:00\",\"2016-02-24T00:00:00\",\"2016-02-25T00:00:00\",\"2016-02-26T00:00:00\",\"2016-02-29T00:00:00\",\"2016-03-01T00:00:00\",\"2016-03-02T00:00:00\",\"2016-03-03T00:00:00\",\"2016-03-04T00:00:00\",\"2016-03-07T00:00:00\",\"2016-03-08T00:00:00\",\"2016-03-09T00:00:00\",\"2016-03-10T00:00:00\",\"2016-03-11T00:00:00\",\"2016-03-14T00:00:00\",\"2016-03-15T00:00:00\",\"2016-03-16T00:00:00\",\"2016-03-17T00:00:00\",\"2016-03-18T00:00:00\",\"2016-03-21T00:00:00\",\"2016-03-22T00:00:00\",\"2016-03-23T00:00:00\",\"2016-03-24T00:00:00\",\"2016-03-28T00:00:00\",\"2016-03-29T00:00:00\",\"2016-03-30T00:00:00\",\"2016-03-31T00:00:00\",\"2016-04-01T00:00:00\",\"2016-04-04T00:00:00\",\"2016-04-05T00:00:00\",\"2016-04-06T00:00:00\",\"2016-04-07T00:00:00\",\"2016-04-08T00:00:00\",\"2016-04-11T00:00:00\",\"2016-04-12T00:00:00\",\"2016-04-13T00:00:00\",\"2016-04-14T00:00:00\",\"2016-04-15T00:00:00\",\"2016-04-18T00:00:00\",\"2016-04-19T00:00:00\",\"2016-04-20T00:00:00\",\"2016-04-21T00:00:00\",\"2016-04-22T00:00:00\",\"2016-04-25T00:00:00\",\"2016-04-26T00:00:00\",\"2016-04-27T00:00:00\",\"2016-04-28T00:00:00\",\"2016-04-29T00:00:00\",\"2016-05-02T00:00:00\",\"2016-05-03T00:00:00\",\"2016-05-04T00:00:00\",\"2016-05-05T00:00:00\",\"2016-05-06T00:00:00\",\"2016-05-09T00:00:00\",\"2016-05-10T00:00:00\",\"2016-05-11T00:00:00\",\"2016-05-12T00:00:00\",\"2016-05-13T00:00:00\",\"2016-05-16T00:00:00\",\"2016-05-17T00:00:00\",\"2016-05-18T00:00:00\",\"2016-05-19T00:00:00\",\"2016-05-20T00:00:00\",\"2016-05-23T00:00:00\",\"2016-05-24T00:00:00\",\"2016-05-25T00:00:00\",\"2016-05-26T00:00:00\",\"2016-05-27T00:00:00\",\"2016-05-31T00:00:00\",\"2016-06-01T00:00:00\",\"2016-06-02T00:00:00\",\"2016-06-03T00:00:00\",\"2016-06-06T00:00:00\",\"2016-06-07T00:00:00\",\"2016-06-08T00:00:00\",\"2016-06-09T00:00:00\",\"2016-06-10T00:00:00\",\"2016-06-13T00:00:00\",\"2016-06-14T00:00:00\",\"2016-06-15T00:00:00\",\"2016-06-16T00:00:00\",\"2016-06-17T00:00:00\",\"2016-06-20T00:00:00\",\"2016-06-21T00:00:00\",\"2016-06-22T00:00:00\",\"2016-06-23T00:00:00\",\"2016-06-24T00:00:00\",\"2016-06-27T00:00:00\",\"2016-06-28T00:00:00\",\"2016-06-29T00:00:00\",\"2016-06-30T00:00:00\",\"2016-07-01T00:00:00\",\"2016-07-05T00:00:00\",\"2016-07-06T00:00:00\",\"2016-07-07T00:00:00\",\"2016-07-08T00:00:00\",\"2016-07-11T00:00:00\",\"2016-07-12T00:00:00\",\"2016-07-13T00:00:00\",\"2016-07-14T00:00:00\",\"2016-07-15T00:00:00\",\"2016-07-18T00:00:00\",\"2016-07-19T00:00:00\",\"2016-07-20T00:00:00\",\"2016-07-21T00:00:00\",\"2016-07-22T00:00:00\",\"2016-07-25T00:00:00\",\"2016-07-26T00:00:00\",\"2016-07-27T00:00:00\",\"2016-07-28T00:00:00\",\"2016-07-29T00:00:00\",\"2016-08-01T00:00:00\",\"2016-08-02T00:00:00\",\"2016-08-03T00:00:00\",\"2016-08-04T00:00:00\",\"2016-08-05T00:00:00\",\"2016-08-08T00:00:00\",\"2016-08-09T00:00:00\",\"2016-08-10T00:00:00\",\"2016-08-11T00:00:00\",\"2016-08-12T00:00:00\",\"2016-08-15T00:00:00\",\"2016-08-16T00:00:00\",\"2016-08-17T00:00:00\",\"2016-08-18T00:00:00\",\"2016-08-19T00:00:00\",\"2016-08-22T00:00:00\",\"2016-08-23T00:00:00\",\"2016-08-24T00:00:00\",\"2016-08-25T00:00:00\",\"2016-08-26T00:00:00\",\"2016-08-29T00:00:00\",\"2016-08-30T00:00:00\",\"2016-08-31T00:00:00\",\"2016-09-01T00:00:00\",\"2016-09-02T00:00:00\",\"2016-09-06T00:00:00\",\"2016-09-07T00:00:00\",\"2016-09-08T00:00:00\",\"2016-09-09T00:00:00\",\"2016-09-12T00:00:00\",\"2016-09-13T00:00:00\",\"2016-09-14T00:00:00\",\"2016-09-15T00:00:00\",\"2016-09-16T00:00:00\",\"2016-09-19T00:00:00\",\"2016-09-20T00:00:00\",\"2016-09-21T00:00:00\",\"2016-09-22T00:00:00\",\"2016-09-23T00:00:00\",\"2016-09-26T00:00:00\",\"2016-09-27T00:00:00\",\"2016-09-28T00:00:00\",\"2016-09-29T00:00:00\",\"2016-09-30T00:00:00\",\"2016-10-03T00:00:00\",\"2016-10-04T00:00:00\",\"2016-10-05T00:00:00\",\"2016-10-06T00:00:00\",\"2016-10-07T00:00:00\",\"2016-10-10T00:00:00\",\"2016-10-11T00:00:00\",\"2016-10-12T00:00:00\",\"2016-10-13T00:00:00\",\"2016-10-14T00:00:00\",\"2016-10-17T00:00:00\",\"2016-10-18T00:00:00\",\"2016-10-19T00:00:00\",\"2016-10-20T00:00:00\",\"2016-10-21T00:00:00\",\"2016-10-24T00:00:00\",\"2016-10-25T00:00:00\",\"2016-10-26T00:00:00\",\"2016-10-27T00:00:00\",\"2016-10-28T00:00:00\",\"2016-10-31T00:00:00\",\"2016-11-01T00:00:00\",\"2016-11-02T00:00:00\",\"2016-11-03T00:00:00\",\"2016-11-04T00:00:00\",\"2016-11-07T00:00:00\",\"2016-11-08T00:00:00\",\"2016-11-09T00:00:00\",\"2016-11-10T00:00:00\",\"2016-11-11T00:00:00\",\"2016-11-14T00:00:00\",\"2016-11-15T00:00:00\",\"2016-11-16T00:00:00\",\"2016-11-17T00:00:00\",\"2016-11-18T00:00:00\",\"2016-11-21T00:00:00\",\"2016-11-22T00:00:00\",\"2016-11-23T00:00:00\",\"2016-11-25T00:00:00\",\"2016-11-28T00:00:00\",\"2016-11-29T00:00:00\",\"2016-11-30T00:00:00\",\"2016-12-01T00:00:00\",\"2016-12-02T00:00:00\",\"2016-12-05T00:00:00\",\"2016-12-06T00:00:00\",\"2016-12-07T00:00:00\",\"2016-12-08T00:00:00\",\"2016-12-09T00:00:00\",\"2016-12-12T00:00:00\",\"2016-12-13T00:00:00\",\"2016-12-14T00:00:00\",\"2016-12-15T00:00:00\",\"2016-12-16T00:00:00\",\"2016-12-19T00:00:00\",\"2016-12-20T00:00:00\",\"2016-12-21T00:00:00\",\"2016-12-22T00:00:00\",\"2016-12-23T00:00:00\",\"2016-12-27T00:00:00\",\"2016-12-28T00:00:00\",\"2016-12-29T00:00:00\",\"2016-12-30T00:00:00\",\"2017-01-03T00:00:00\",\"2017-01-04T00:00:00\",\"2017-01-05T00:00:00\",\"2017-01-06T00:00:00\",\"2017-01-09T00:00:00\",\"2017-01-10T00:00:00\",\"2017-01-11T00:00:00\",\"2017-01-12T00:00:00\",\"2017-01-13T00:00:00\",\"2017-01-17T00:00:00\",\"2017-01-18T00:00:00\",\"2017-01-19T00:00:00\",\"2017-01-20T00:00:00\",\"2017-01-23T00:00:00\",\"2017-01-24T00:00:00\",\"2017-01-25T00:00:00\",\"2017-01-26T00:00:00\",\"2017-01-27T00:00:00\",\"2017-01-30T00:00:00\",\"2017-01-31T00:00:00\",\"2017-02-01T00:00:00\",\"2017-02-02T00:00:00\",\"2017-02-03T00:00:00\",\"2017-02-06T00:00:00\",\"2017-02-07T00:00:00\",\"2017-02-08T00:00:00\",\"2017-02-09T00:00:00\",\"2017-02-10T00:00:00\",\"2017-02-13T00:00:00\",\"2017-02-14T00:00:00\",\"2017-02-15T00:00:00\",\"2017-02-16T00:00:00\",\"2017-02-17T00:00:00\",\"2017-02-21T00:00:00\",\"2017-02-22T00:00:00\",\"2017-02-23T00:00:00\",\"2017-02-24T00:00:00\",\"2017-02-27T00:00:00\",\"2017-02-28T00:00:00\",\"2017-03-01T00:00:00\",\"2017-03-02T00:00:00\",\"2017-03-03T00:00:00\",\"2017-03-06T00:00:00\",\"2017-03-07T00:00:00\",\"2017-03-08T00:00:00\",\"2017-03-09T00:00:00\",\"2017-03-10T00:00:00\",\"2017-03-13T00:00:00\",\"2017-03-14T00:00:00\",\"2017-03-15T00:00:00\",\"2017-03-16T00:00:00\",\"2017-03-17T00:00:00\",\"2017-03-20T00:00:00\",\"2017-03-21T00:00:00\",\"2017-03-22T00:00:00\",\"2017-03-23T00:00:00\",\"2017-03-24T00:00:00\",\"2017-03-27T00:00:00\",\"2017-03-28T00:00:00\",\"2017-03-29T00:00:00\",\"2017-03-30T00:00:00\",\"2017-03-31T00:00:00\",\"2017-04-03T00:00:00\",\"2017-04-04T00:00:00\",\"2017-04-05T00:00:00\",\"2017-04-06T00:00:00\",\"2017-04-07T00:00:00\",\"2017-04-10T00:00:00\",\"2017-04-11T00:00:00\",\"2017-04-12T00:00:00\",\"2017-04-13T00:00:00\",\"2017-04-17T00:00:00\",\"2017-04-18T00:00:00\",\"2017-04-19T00:00:00\",\"2017-04-20T00:00:00\",\"2017-04-21T00:00:00\",\"2017-04-24T00:00:00\",\"2017-04-25T00:00:00\",\"2017-04-26T00:00:00\",\"2017-04-27T00:00:00\",\"2017-04-28T00:00:00\",\"2017-05-01T00:00:00\",\"2017-05-02T00:00:00\",\"2017-05-03T00:00:00\",\"2017-05-04T00:00:00\",\"2017-05-05T00:00:00\",\"2017-05-08T00:00:00\",\"2017-05-09T00:00:00\",\"2017-05-10T00:00:00\",\"2017-05-11T00:00:00\",\"2017-05-12T00:00:00\",\"2017-05-15T00:00:00\",\"2017-05-16T00:00:00\",\"2017-05-17T00:00:00\",\"2017-05-18T00:00:00\",\"2017-05-19T00:00:00\",\"2017-05-22T00:00:00\",\"2017-05-23T00:00:00\",\"2017-05-24T00:00:00\",\"2017-05-25T00:00:00\",\"2017-05-26T00:00:00\",\"2017-05-30T00:00:00\",\"2017-05-31T00:00:00\",\"2017-06-01T00:00:00\",\"2017-06-02T00:00:00\",\"2017-06-05T00:00:00\",\"2017-06-06T00:00:00\",\"2017-06-07T00:00:00\",\"2017-06-08T00:00:00\",\"2017-06-09T00:00:00\",\"2017-06-12T00:00:00\",\"2017-06-13T00:00:00\",\"2017-06-14T00:00:00\",\"2017-06-15T00:00:00\",\"2017-06-16T00:00:00\",\"2017-06-19T00:00:00\",\"2017-06-20T00:00:00\",\"2017-06-21T00:00:00\",\"2017-06-22T00:00:00\",\"2017-06-23T00:00:00\",\"2017-06-26T00:00:00\",\"2017-06-27T00:00:00\",\"2017-06-28T00:00:00\",\"2017-06-29T00:00:00\",\"2017-06-30T00:00:00\",\"2017-07-03T00:00:00\",\"2017-07-05T00:00:00\",\"2017-07-06T00:00:00\",\"2017-07-07T00:00:00\",\"2017-07-10T00:00:00\",\"2017-07-11T00:00:00\",\"2017-07-12T00:00:00\",\"2017-07-13T00:00:00\",\"2017-07-14T00:00:00\",\"2017-07-17T00:00:00\",\"2017-07-18T00:00:00\",\"2017-07-19T00:00:00\",\"2017-07-20T00:00:00\",\"2017-07-21T00:00:00\",\"2017-07-24T00:00:00\",\"2017-07-25T00:00:00\",\"2017-07-26T00:00:00\",\"2017-07-27T00:00:00\",\"2017-07-28T00:00:00\",\"2017-07-31T00:00:00\",\"2017-08-01T00:00:00\",\"2017-08-02T00:00:00\",\"2017-08-03T00:00:00\",\"2017-08-04T00:00:00\",\"2017-08-07T00:00:00\",\"2017-08-08T00:00:00\",\"2017-08-09T00:00:00\",\"2017-08-10T00:00:00\",\"2017-08-11T00:00:00\",\"2017-08-14T00:00:00\",\"2017-08-15T00:00:00\",\"2017-08-16T00:00:00\",\"2017-08-17T00:00:00\",\"2017-08-18T00:00:00\",\"2017-08-21T00:00:00\",\"2017-08-22T00:00:00\",\"2017-08-23T00:00:00\",\"2017-08-24T00:00:00\",\"2017-08-25T00:00:00\",\"2017-08-28T00:00:00\",\"2017-08-29T00:00:00\",\"2017-08-30T00:00:00\",\"2017-08-31T00:00:00\",\"2017-09-01T00:00:00\",\"2017-09-05T00:00:00\",\"2017-09-06T00:00:00\",\"2017-09-07T00:00:00\",\"2017-09-08T00:00:00\",\"2017-09-11T00:00:00\",\"2017-09-12T00:00:00\",\"2017-09-13T00:00:00\",\"2017-09-14T00:00:00\",\"2017-09-15T00:00:00\",\"2017-09-18T00:00:00\",\"2017-09-19T00:00:00\",\"2017-09-20T00:00:00\",\"2017-09-21T00:00:00\",\"2017-09-22T00:00:00\",\"2017-09-25T00:00:00\",\"2017-09-26T00:00:00\",\"2017-09-27T00:00:00\",\"2017-09-28T00:00:00\",\"2017-09-29T00:00:00\",\"2017-10-02T00:00:00\",\"2017-10-03T00:00:00\",\"2017-10-04T00:00:00\",\"2017-10-05T00:00:00\",\"2017-10-06T00:00:00\",\"2017-10-09T00:00:00\",\"2017-10-10T00:00:00\",\"2017-10-11T00:00:00\",\"2017-10-12T00:00:00\",\"2017-10-13T00:00:00\",\"2017-10-16T00:00:00\",\"2017-10-17T00:00:00\",\"2017-10-18T00:00:00\",\"2017-10-19T00:00:00\",\"2017-10-20T00:00:00\",\"2017-10-23T00:00:00\",\"2017-10-24T00:00:00\",\"2017-10-25T00:00:00\",\"2017-10-26T00:00:00\",\"2017-10-27T00:00:00\",\"2017-10-30T00:00:00\",\"2017-10-31T00:00:00\",\"2017-11-01T00:00:00\",\"2017-11-02T00:00:00\",\"2017-11-03T00:00:00\",\"2017-11-06T00:00:00\",\"2017-11-07T00:00:00\",\"2017-11-08T00:00:00\",\"2017-11-09T00:00:00\",\"2017-11-10T00:00:00\",\"2017-11-13T00:00:00\",\"2017-11-14T00:00:00\",\"2017-11-15T00:00:00\",\"2017-11-16T00:00:00\",\"2017-11-17T00:00:00\",\"2017-11-20T00:00:00\",\"2017-11-21T00:00:00\",\"2017-11-22T00:00:00\",\"2017-11-24T00:00:00\",\"2017-11-27T00:00:00\",\"2017-11-28T00:00:00\",\"2017-11-29T00:00:00\",\"2017-11-30T00:00:00\",\"2017-12-01T00:00:00\",\"2017-12-04T00:00:00\",\"2017-12-05T00:00:00\",\"2017-12-06T00:00:00\",\"2017-12-07T00:00:00\",\"2017-12-08T00:00:00\",\"2017-12-11T00:00:00\",\"2017-12-12T00:00:00\",\"2017-12-13T00:00:00\",\"2017-12-14T00:00:00\",\"2017-12-15T00:00:00\",\"2017-12-18T00:00:00\",\"2017-12-19T00:00:00\",\"2017-12-20T00:00:00\",\"2017-12-21T00:00:00\",\"2017-12-22T00:00:00\",\"2017-12-26T00:00:00\",\"2017-12-27T00:00:00\",\"2017-12-28T00:00:00\",\"2017-12-29T00:00:00\",\"2018-01-02T00:00:00\",\"2018-01-03T00:00:00\",\"2018-01-04T00:00:00\",\"2018-01-05T00:00:00\",\"2018-01-08T00:00:00\",\"2018-01-09T00:00:00\",\"2018-01-10T00:00:00\",\"2018-01-11T00:00:00\",\"2018-01-12T00:00:00\",\"2018-01-16T00:00:00\",\"2018-01-17T00:00:00\",\"2018-01-18T00:00:00\",\"2018-01-19T00:00:00\",\"2018-01-22T00:00:00\",\"2018-01-23T00:00:00\",\"2018-01-24T00:00:00\",\"2018-01-25T00:00:00\",\"2018-01-26T00:00:00\",\"2018-01-29T00:00:00\",\"2018-01-30T00:00:00\",\"2018-01-31T00:00:00\",\"2018-02-01T00:00:00\",\"2018-02-02T00:00:00\",\"2018-02-05T00:00:00\",\"2018-02-06T00:00:00\",\"2018-02-07T00:00:00\",\"2018-02-08T00:00:00\",\"2018-02-09T00:00:00\",\"2018-02-12T00:00:00\",\"2018-02-13T00:00:00\",\"2018-02-14T00:00:00\",\"2018-02-15T00:00:00\",\"2018-02-16T00:00:00\",\"2018-02-20T00:00:00\",\"2018-02-21T00:00:00\",\"2018-02-22T00:00:00\",\"2018-02-23T00:00:00\",\"2018-02-26T00:00:00\",\"2018-02-27T00:00:00\",\"2018-02-28T00:00:00\",\"2018-03-01T00:00:00\",\"2018-03-02T00:00:00\",\"2018-03-05T00:00:00\",\"2018-03-06T00:00:00\",\"2018-03-07T00:00:00\",\"2018-03-08T00:00:00\",\"2018-03-09T00:00:00\",\"2018-03-12T00:00:00\",\"2018-03-13T00:00:00\",\"2018-03-14T00:00:00\",\"2018-03-15T00:00:00\",\"2018-03-16T00:00:00\",\"2018-03-19T00:00:00\",\"2018-03-20T00:00:00\",\"2018-03-21T00:00:00\",\"2018-03-22T00:00:00\",\"2018-03-23T00:00:00\",\"2018-03-26T00:00:00\",\"2018-03-27T00:00:00\",\"2018-03-28T00:00:00\",\"2018-03-29T00:00:00\",\"2018-04-02T00:00:00\",\"2018-04-03T00:00:00\",\"2018-04-04T00:00:00\",\"2018-04-05T00:00:00\",\"2018-04-06T00:00:00\",\"2018-04-09T00:00:00\",\"2018-04-10T00:00:00\",\"2018-04-11T00:00:00\",\"2018-04-12T00:00:00\",\"2018-04-13T00:00:00\",\"2018-04-16T00:00:00\",\"2018-04-17T00:00:00\",\"2018-04-18T00:00:00\",\"2018-04-19T00:00:00\",\"2018-04-20T00:00:00\",\"2018-04-23T00:00:00\",\"2018-04-24T00:00:00\",\"2018-04-25T00:00:00\",\"2018-04-26T00:00:00\",\"2018-04-27T00:00:00\",\"2018-04-30T00:00:00\",\"2018-05-01T00:00:00\",\"2018-05-02T00:00:00\",\"2018-05-03T00:00:00\",\"2018-05-04T00:00:00\",\"2018-05-07T00:00:00\",\"2018-05-08T00:00:00\",\"2018-05-09T00:00:00\",\"2018-05-10T00:00:00\",\"2018-05-11T00:00:00\",\"2018-05-14T00:00:00\",\"2018-05-15T00:00:00\",\"2018-05-16T00:00:00\",\"2018-05-17T00:00:00\",\"2018-05-18T00:00:00\",\"2018-05-21T00:00:00\",\"2018-05-22T00:00:00\",\"2018-05-23T00:00:00\",\"2018-05-24T00:00:00\",\"2018-05-25T00:00:00\",\"2018-05-29T00:00:00\",\"2018-05-30T00:00:00\",\"2018-05-31T00:00:00\",\"2018-06-01T00:00:00\",\"2018-06-04T00:00:00\",\"2018-06-05T00:00:00\",\"2018-06-06T00:00:00\",\"2018-06-07T00:00:00\",\"2018-06-08T00:00:00\",\"2018-06-11T00:00:00\",\"2018-06-12T00:00:00\",\"2018-06-13T00:00:00\",\"2018-06-14T00:00:00\",\"2018-06-15T00:00:00\",\"2018-06-18T00:00:00\",\"2018-06-19T00:00:00\",\"2018-06-20T00:00:00\",\"2018-06-21T00:00:00\",\"2018-06-22T00:00:00\",\"2018-06-25T00:00:00\",\"2018-06-26T00:00:00\",\"2018-06-27T00:00:00\",\"2018-06-28T00:00:00\",\"2018-06-29T00:00:00\",\"2018-07-02T00:00:00\",\"2018-07-03T00:00:00\",\"2018-07-05T00:00:00\",\"2018-07-06T00:00:00\",\"2018-07-09T00:00:00\",\"2018-07-10T00:00:00\",\"2018-07-11T00:00:00\",\"2018-07-12T00:00:00\",\"2018-07-13T00:00:00\",\"2018-07-16T00:00:00\",\"2018-07-17T00:00:00\",\"2018-07-18T00:00:00\",\"2018-07-19T00:00:00\",\"2018-07-20T00:00:00\",\"2018-07-23T00:00:00\",\"2018-07-24T00:00:00\",\"2018-07-25T00:00:00\",\"2018-07-26T00:00:00\",\"2018-07-27T00:00:00\",\"2018-07-30T00:00:00\",\"2018-07-31T00:00:00\",\"2018-08-01T00:00:00\",\"2018-08-02T00:00:00\",\"2018-08-03T00:00:00\",\"2018-08-06T00:00:00\",\"2018-08-07T00:00:00\",\"2018-08-08T00:00:00\",\"2018-08-09T00:00:00\",\"2018-08-10T00:00:00\",\"2018-08-13T00:00:00\",\"2018-08-14T00:00:00\",\"2018-08-15T00:00:00\",\"2018-08-16T00:00:00\",\"2018-08-17T00:00:00\",\"2018-08-20T00:00:00\",\"2018-08-21T00:00:00\",\"2018-08-22T00:00:00\",\"2018-08-23T00:00:00\",\"2018-08-24T00:00:00\",\"2018-08-27T00:00:00\",\"2018-08-28T00:00:00\",\"2018-08-29T00:00:00\",\"2018-08-30T00:00:00\",\"2018-08-31T00:00:00\",\"2018-09-04T00:00:00\",\"2018-09-05T00:00:00\",\"2018-09-06T00:00:00\",\"2018-09-07T00:00:00\",\"2018-09-10T00:00:00\",\"2018-09-11T00:00:00\",\"2018-09-12T00:00:00\",\"2018-09-13T00:00:00\",\"2018-09-14T00:00:00\",\"2018-09-17T00:00:00\",\"2018-09-18T00:00:00\",\"2018-09-19T00:00:00\",\"2018-09-20T00:00:00\",\"2018-09-21T00:00:00\",\"2018-09-24T00:00:00\",\"2018-09-25T00:00:00\",\"2018-09-26T00:00:00\",\"2018-09-27T00:00:00\",\"2018-09-28T00:00:00\",\"2018-10-01T00:00:00\",\"2018-10-02T00:00:00\",\"2018-10-03T00:00:00\",\"2018-10-04T00:00:00\",\"2018-10-05T00:00:00\",\"2018-10-08T00:00:00\",\"2018-10-09T00:00:00\",\"2018-10-10T00:00:00\",\"2018-10-11T00:00:00\",\"2018-10-12T00:00:00\",\"2018-10-15T00:00:00\",\"2018-10-16T00:00:00\",\"2018-10-17T00:00:00\",\"2018-10-18T00:00:00\",\"2018-10-19T00:00:00\",\"2018-10-22T00:00:00\",\"2018-10-23T00:00:00\",\"2018-10-24T00:00:00\",\"2018-10-25T00:00:00\",\"2018-10-26T00:00:00\",\"2018-10-29T00:00:00\",\"2018-10-30T00:00:00\",\"2018-10-31T00:00:00\",\"2018-11-01T00:00:00\",\"2018-11-02T00:00:00\",\"2018-11-05T00:00:00\",\"2018-11-06T00:00:00\",\"2018-11-07T00:00:00\",\"2018-11-08T00:00:00\",\"2018-11-09T00:00:00\",\"2018-11-12T00:00:00\",\"2018-11-13T00:00:00\",\"2018-11-14T00:00:00\",\"2018-11-15T00:00:00\",\"2018-11-16T00:00:00\",\"2018-11-19T00:00:00\",\"2018-11-20T00:00:00\",\"2018-11-21T00:00:00\",\"2018-11-23T00:00:00\",\"2018-11-26T00:00:00\",\"2018-11-27T00:00:00\",\"2018-11-28T00:00:00\",\"2018-11-29T00:00:00\",\"2018-11-30T00:00:00\",\"2018-12-03T00:00:00\",\"2018-12-04T00:00:00\",\"2018-12-06T00:00:00\",\"2018-12-07T00:00:00\",\"2018-12-10T00:00:00\",\"2018-12-11T00:00:00\",\"2018-12-12T00:00:00\",\"2018-12-13T00:00:00\",\"2018-12-14T00:00:00\",\"2018-12-17T00:00:00\",\"2018-12-18T00:00:00\",\"2018-12-19T00:00:00\",\"2018-12-20T00:00:00\",\"2018-12-21T00:00:00\",\"2018-12-24T00:00:00\",\"2018-12-26T00:00:00\",\"2018-12-27T00:00:00\",\"2018-12-28T00:00:00\",\"2018-12-31T00:00:00\",\"2019-01-02T00:00:00\",\"2019-01-03T00:00:00\",\"2019-01-04T00:00:00\",\"2019-01-07T00:00:00\",\"2019-01-08T00:00:00\",\"2019-01-09T00:00:00\",\"2019-01-10T00:00:00\",\"2019-01-11T00:00:00\",\"2019-01-14T00:00:00\",\"2019-01-15T00:00:00\",\"2019-01-16T00:00:00\",\"2019-01-17T00:00:00\",\"2019-01-18T00:00:00\",\"2019-01-22T00:00:00\",\"2019-01-23T00:00:00\",\"2019-01-24T00:00:00\",\"2019-01-25T00:00:00\",\"2019-01-28T00:00:00\",\"2019-01-29T00:00:00\",\"2019-01-30T00:00:00\",\"2019-01-31T00:00:00\",\"2019-02-01T00:00:00\",\"2019-02-04T00:00:00\",\"2019-02-05T00:00:00\",\"2019-02-06T00:00:00\",\"2019-02-07T00:00:00\",\"2019-02-08T00:00:00\",\"2019-02-11T00:00:00\",\"2019-02-12T00:00:00\",\"2019-02-13T00:00:00\",\"2019-02-14T00:00:00\",\"2019-02-15T00:00:00\",\"2019-02-19T00:00:00\",\"2019-02-20T00:00:00\",\"2019-02-21T00:00:00\",\"2019-02-22T00:00:00\",\"2019-02-25T00:00:00\",\"2019-02-26T00:00:00\",\"2019-02-27T00:00:00\",\"2019-02-28T00:00:00\",\"2019-03-01T00:00:00\",\"2019-03-04T00:00:00\",\"2019-03-05T00:00:00\",\"2019-03-06T00:00:00\",\"2019-03-07T00:00:00\",\"2019-03-08T00:00:00\",\"2019-03-11T00:00:00\",\"2019-03-12T00:00:00\",\"2019-03-13T00:00:00\",\"2019-03-14T00:00:00\",\"2019-03-15T00:00:00\",\"2019-03-18T00:00:00\",\"2019-03-19T00:00:00\",\"2019-03-20T00:00:00\",\"2019-03-21T00:00:00\",\"2019-03-22T00:00:00\",\"2019-03-25T00:00:00\",\"2019-03-26T00:00:00\",\"2019-03-27T00:00:00\",\"2019-03-28T00:00:00\",\"2019-03-29T00:00:00\",\"2019-04-01T00:00:00\",\"2019-04-02T00:00:00\",\"2019-04-03T00:00:00\",\"2019-04-04T00:00:00\",\"2019-04-05T00:00:00\",\"2019-04-08T00:00:00\",\"2019-04-09T00:00:00\",\"2019-04-10T00:00:00\",\"2019-04-11T00:00:00\",\"2019-04-12T00:00:00\",\"2019-04-15T00:00:00\",\"2019-04-16T00:00:00\",\"2019-04-17T00:00:00\",\"2019-04-18T00:00:00\",\"2019-04-22T00:00:00\",\"2019-04-23T00:00:00\",\"2019-04-24T00:00:00\",\"2019-04-25T00:00:00\",\"2019-04-26T00:00:00\",\"2019-04-29T00:00:00\",\"2019-04-30T00:00:00\",\"2019-05-01T00:00:00\",\"2019-05-02T00:00:00\",\"2019-05-03T00:00:00\",\"2019-05-06T00:00:00\",\"2019-05-07T00:00:00\",\"2019-05-08T00:00:00\",\"2019-05-09T00:00:00\",\"2019-05-10T00:00:00\",\"2019-05-13T00:00:00\",\"2019-05-14T00:00:00\",\"2019-05-15T00:00:00\",\"2019-05-16T00:00:00\",\"2019-05-17T00:00:00\",\"2019-05-20T00:00:00\",\"2019-05-21T00:00:00\",\"2019-05-22T00:00:00\",\"2019-05-23T00:00:00\",\"2019-05-24T00:00:00\",\"2019-05-28T00:00:00\",\"2019-05-29T00:00:00\",\"2019-05-30T00:00:00\",\"2019-05-31T00:00:00\",\"2019-06-03T00:00:00\",\"2019-06-04T00:00:00\",\"2019-06-05T00:00:00\",\"2019-06-06T00:00:00\",\"2019-06-07T00:00:00\",\"2019-06-10T00:00:00\",\"2019-06-11T00:00:00\",\"2019-06-12T00:00:00\",\"2019-06-13T00:00:00\",\"2019-06-14T00:00:00\",\"2019-06-17T00:00:00\",\"2019-06-18T00:00:00\",\"2019-06-19T00:00:00\",\"2019-06-20T00:00:00\",\"2019-06-21T00:00:00\",\"2019-06-24T00:00:00\",\"2019-06-25T00:00:00\",\"2019-06-26T00:00:00\",\"2019-06-27T00:00:00\",\"2019-06-28T00:00:00\",\"2019-07-01T00:00:00\",\"2019-07-02T00:00:00\",\"2019-07-03T00:00:00\",\"2019-07-05T00:00:00\",\"2019-07-08T00:00:00\",\"2019-07-09T00:00:00\",\"2019-07-10T00:00:00\",\"2019-07-11T00:00:00\",\"2019-07-12T00:00:00\",\"2019-07-15T00:00:00\",\"2019-07-16T00:00:00\",\"2019-07-17T00:00:00\",\"2019-07-18T00:00:00\",\"2019-07-19T00:00:00\",\"2019-07-22T00:00:00\",\"2019-07-23T00:00:00\",\"2019-07-24T00:00:00\",\"2019-07-25T00:00:00\",\"2019-07-26T00:00:00\",\"2019-07-29T00:00:00\",\"2019-07-30T00:00:00\",\"2019-07-31T00:00:00\",\"2019-08-01T00:00:00\",\"2019-08-02T00:00:00\",\"2019-08-05T00:00:00\",\"2019-08-06T00:00:00\",\"2019-08-07T00:00:00\",\"2019-08-08T00:00:00\",\"2019-08-09T00:00:00\",\"2019-08-12T00:00:00\",\"2019-08-13T00:00:00\",\"2019-08-14T00:00:00\",\"2019-08-15T00:00:00\",\"2019-08-16T00:00:00\",\"2019-08-19T00:00:00\",\"2019-08-20T00:00:00\",\"2019-08-21T00:00:00\",\"2019-08-22T00:00:00\",\"2019-08-23T00:00:00\",\"2019-08-26T00:00:00\",\"2019-08-27T00:00:00\",\"2019-08-28T00:00:00\",\"2019-08-29T00:00:00\",\"2019-08-30T00:00:00\",\"2019-09-03T00:00:00\",\"2019-09-04T00:00:00\",\"2019-09-05T00:00:00\",\"2019-09-06T00:00:00\",\"2019-09-09T00:00:00\",\"2019-09-10T00:00:00\",\"2019-09-11T00:00:00\",\"2019-09-12T00:00:00\",\"2019-09-13T00:00:00\",\"2019-09-16T00:00:00\",\"2019-09-17T00:00:00\",\"2019-09-18T00:00:00\",\"2019-09-19T00:00:00\",\"2019-09-20T00:00:00\",\"2019-09-23T00:00:00\",\"2019-09-24T00:00:00\",\"2019-09-25T00:00:00\",\"2019-09-26T00:00:00\",\"2019-09-27T00:00:00\",\"2019-09-30T00:00:00\",\"2019-10-01T00:00:00\",\"2019-10-02T00:00:00\",\"2019-10-03T00:00:00\",\"2019-10-04T00:00:00\",\"2019-10-07T00:00:00\",\"2019-10-08T00:00:00\",\"2019-10-09T00:00:00\",\"2019-10-10T00:00:00\",\"2019-10-11T00:00:00\",\"2019-10-14T00:00:00\",\"2019-10-15T00:00:00\",\"2019-10-16T00:00:00\",\"2019-10-17T00:00:00\",\"2019-10-18T00:00:00\",\"2019-10-21T00:00:00\",\"2019-10-22T00:00:00\",\"2019-10-23T00:00:00\",\"2019-10-24T00:00:00\",\"2019-10-25T00:00:00\",\"2019-10-28T00:00:00\",\"2019-10-29T00:00:00\",\"2019-10-30T00:00:00\",\"2019-10-31T00:00:00\",\"2019-11-01T00:00:00\",\"2019-11-04T00:00:00\",\"2019-11-05T00:00:00\",\"2019-11-06T00:00:00\",\"2019-11-07T00:00:00\",\"2019-11-08T00:00:00\",\"2019-11-11T00:00:00\",\"2019-11-12T00:00:00\",\"2019-11-13T00:00:00\",\"2019-11-14T00:00:00\",\"2019-11-15T00:00:00\",\"2019-11-18T00:00:00\",\"2019-11-19T00:00:00\",\"2019-11-20T00:00:00\",\"2019-11-21T00:00:00\",\"2019-11-22T00:00:00\",\"2019-11-25T00:00:00\",\"2019-11-26T00:00:00\",\"2019-11-27T00:00:00\",\"2019-11-29T00:00:00\",\"2019-12-02T00:00:00\",\"2019-12-03T00:00:00\",\"2019-12-04T00:00:00\",\"2019-12-05T00:00:00\",\"2019-12-06T00:00:00\",\"2019-12-09T00:00:00\",\"2019-12-10T00:00:00\",\"2019-12-11T00:00:00\",\"2019-12-12T00:00:00\",\"2019-12-13T00:00:00\",\"2019-12-16T00:00:00\",\"2019-12-17T00:00:00\",\"2019-12-18T00:00:00\",\"2019-12-19T00:00:00\",\"2019-12-20T00:00:00\",\"2019-12-23T00:00:00\",\"2019-12-24T00:00:00\",\"2019-12-26T00:00:00\",\"2019-12-27T00:00:00\",\"2019-12-30T00:00:00\",\"2019-12-31T00:00:00\"],\"y\":[24.64401626586914,23.949756622314453,23.952009201049805,24.28786849975586,25.22106170654297,25.248117446899414,24.625986099243164,24.84463119506836,24.74995994567871,24.07823371887207,23.89114761352539,24.506519317626953,24.693607330322266,25.336029052734375,25.466760635375977,25.49380874633789,24.601194381713867,25.991962432861328,26.801183700561523,26.40897560119629,26.740325927734375,26.744829177856445,26.94995880126953,27.142314910888672,26.91374969482422,27.092527389526367,27.61301040649414,28.260229110717773,28.617786407470703,28.758087158203125,28.927812576293945,29.129220962524414,29.068117141723633,29.305728912353516,30.097780227661133,29.909950256347656,29.145061492919922,29.51392936706543,29.070384979248047,29.212953567504883,29.2740478515625,29.088483810424805,28.606470108032227,28.649465560913086,28.77166748046875,28.176498413085938,27.662799835205078,28.162921905517578,27.968299865722656,28.276073455810547,28.749034881591797,29.072643280029297,28.85313606262207,28.49105453491211,28.787506103515625,28.669837951660156,27.920778274536133,28.11539649963379,27.8913631439209,28.5974178314209,28.15839385986328,28.117656707763672,28.35980224609375,28.81918716430664,28.515953063964844,28.423166275024414,28.640405654907227,28.762617111206055,28.706037521362305,28.581575393676758,28.69019889831543,28.55215072631836,28.23081398010254,28.875764846801758,28.719615936279297,29.106590270996094,29.344200134277344,29.48225212097168,30.018571853637695,29.545602798461914,29.11111068725586,28.32132911682129,29.18126106262207,29.124691009521484,28.468420028686523,28.28964614868164,28.46462059020996,29.000925064086914,28.70550537109375,28.603248596191406,28.635061264038086,29.30315399169922,29.262252807617188,29.58493995666504,29.55767059326172,29.555395126342773,29.857641220092773,30.11896514892578,29.455411911010742,30.00534439086914,29.946264266967773,29.605398178100586,29.664472579956055,29.532678604125977,29.569034576416016,29.396329879760742,29.2349796295166,29.041828155517578,28.95547103881836,29.287250518798828,29.22134780883789,28.89866828918457,28.841859817504883,28.996379852294922,28.928203582763672,29.060009002685547,28.769132614135742,28.9986515045166,28.866846084594727,29.112274169921875,28.973657608032227,28.803224563598633,28.298736572265625,28.50325584411621,28.769132614135742,28.732778549194336,28.632789611816406,28.562341690063477,27.853336334228516,27.28522300720215,28.014680862426758,28.555526733398438,28.54416275024414,28.819128036499023,29.203166961669922,29.455411911010742,30.012161254882812,29.712202072143555,28.45553970336914,28.44190216064453,28.29191780090332,27.89879035949707,28.03740692138672,27.94878387451172,27.807891845703125,27.564741134643555,26.91482162475586,26.051292419433594,26.2239933013916,26.281064987182617,26.370094299316406,27.328842163085938,25.906696319580078,26.30617332458496,26.285634994506836,26.470535278320312,26.744457244873047,26.59379768371582,26.253671646118164,25.714946746826172,24.142147064208984,23.539506912231445,23.681034088134766,25.039262771606445,25.77657699584961,25.861045837402344,25.74005889892578,24.589563369750977,25.644182205200195,25.194490432739258,24.943384170532227,25.6373348236084,25.144271850585938,25.696685791015625,26.071054458618164,26.32215690612793,26.543575286865234,26.573257446289062,26.004854202270508,25.897565841674805,26.29932403564453,25.886159896850586,26.096166610717773,26.251388549804688,26.185192108154297,25.667011260986328,24.895442962646484,25.178508758544922,25.014148712158203,25.196765899658203,25.2880802154541,25.409061431884766,25.2880802154541,24.995891571044922,25.593963623046875,25.475257873535156,25.518627166748047,25.1579647064209,25.53461265563965,25.34742546081543,25.50493621826172,25.970611572265625,25.968334197998047,26.36552619934082,27.182741165161133,26.3153076171875,26.14866828918457,27.226118087768555,27.513736724853516,27.27861785888672,27.662113189697266,27.979419708251953,27.849300384521484,27.72092056274414,27.753013610839844,27.64068031311035,26.76953125,26.61822509765625,26.528820037841797,25.75395393371582,26.1757755279541,26.063438415527344,26.88874053955078,27.230321884155273,27.349538803100586,26.994197845458984,27.253253936767578,27.058380126953125,27.007949829101562,27.120281219482422,26.900205612182617,26.657196044921875,26.409608840942383,27.28763771057129,27.11569595336914,27.10424041748047,26.50589942932129,26.631982803344727,25.9465274810791,25.786046981811523,25.3298397064209,25.52470588684082,24.983671188354492,24.30738639831543,24.60541343688965,24.58248519897461,24.898855209350586,24.765886306762695,24.488496780395508,24.92865562438965,24.603118896484375,24.13086700439453,24.151491165161133,23.54627799987793,23.08548355102539,22.11116600036621,22.228084564208984,22.588014602661133,22.91583824157715,22.32666778564453,22.814964294433594,22.267059326171875,22.15931510925293,22.189117431640625,22.0767822265625,23.250551223754883,22.796628952026367,22.922710418701172,21.416542053222656,21.57013702392578,22.315200805664062,22.106582641601562,21.6595458984375,22.088241577148438,22.265727996826172,21.671051025390625,21.89923858642578,21.894628524780273,21.728673934936523,21.597291946411133,21.66413688659668,22.274944305419922,22.616079330444336,22.187355041503906,22.136648178100586,22.330257415771484,21.82548713684082,22.150480270385742,22.30260467529297,22.337182998657227,22.286468505859375,23.171567916870117,23.222270965576172,23.395145416259766,23.743192672729492,23.480430603027344,23.28680992126465,23.30755615234375,23.31908416748047,23.57032585144043,23.630247116088867,24.10506820678711,24.42544937133789,24.386266708374023,24.413925170898438,24.411624908447266,24.598323822021484,24.46233558654785,24.35630989074707,24.245668411254883,24.819599151611328,25.252925872802734,25.121545791625977,25.352041244506836,25.612491607666016,25.310548782348633,25.575620651245117,25.017824172973633,25.04548454284668,25.128459930419922,25.455759048461914,25.82455825805664,25.838380813598633,25.319774627685547,24.773500442504883,24.64211654663086,24.692825317382812,24.42544937133789,24.358612060546875,24.220314025878906,24.05205535888672,22.54692840576172,21.857751846313477,21.60651206970215,21.583459854125977,21.938426971435547,21.710235595703125,21.622106552124023,21.50152587890625,21.517757415771484,21.663854598999023,21.452829360961914,20.949607849121094,20.99135398864746,21.770524978637695,21.680086135864258,21.92821502685547,21.844736099243164,22.08127212524414,22.36186981201172,22.7027587890625,23.101621627807617,23.284818649291992,23.270902633666992,23.15727424621582,22.83261489868164,22.6610107421875,22.7073917388916,22.872037887573242,22.96479606628418,22.943927764892578,23.10857582092285,22.91841697692871,22.572891235351562,22.60071563720703,22.52651023864746,22.621591567993164,22.10677719116211,22.053442001342773,22.24127769470215,22.157798767089844,22.285343170166016,21.65921401977539,21.343835830688477,21.70327377319336,21.89111328125,22.169389724731445,22.236642837524414,22.02793312072754,22.15315818786621,22.24823760986328,22.419841766357422,22.48941421508789,22.591447830200195,22.463899612426758,22.909147262573242,22.906827926635742,23.150320053100586,23.15959358215332,23.180461883544922,23.05755615234375,22.878997802734375,22.572891235351562,22.417516708374023,23.873836517333984,24.1961669921875,24.166030883789062,24.59271812438965,24.2286434173584,24.532424926757812,24.683975219726562,25.05935287475586,25.266857147216797,25.369441986083984,25.18058967590332,25.16427230834961,25.222562789916992,25.525663375854492,25.50234603881836,25.46504020690918,25.43239402770996,25.497682571411133,25.29949951171875,25.378772735595703,25.18758773803711,25.080337524414062,24.933452606201172,24.905473709106445,24.71428680419922,24.737600326538086,24.884489059448242,25.117643356323242,25.11064338684082,25.264530181884766,24.602371215820312,24.045133590698242,24.583717346191406,25.168933868408203,26.059579849243164,26.945560455322266,26.794015884399414,26.481592178344727,26.479251861572266,26.474592208862305,26.72407341003418,26.27874755859375,26.318378448486328,26.367345809936523,26.567853927612305,26.15517807006836,26.35801887512207,26.23444938659668,26.34636116027832,26.35801887512207,26.553865432739258,26.593507766723633,27.057476043701172,27.115766525268555,27.35824966430664,27.27431297302246,27.425861358642578,27.40720558166504,27.38855743408203,27.30695915222168,27.292959213256836,27.185714721679688,27.43052864074707,27.570417404174805,26.95022964477539,26.691431045532227,26.51422882080078,26.472267150878906,25.994295120239258,26.017614364624023,25.738733291625977,25.506732940673828,25.874664306640625,26.02699089050293,25.984804153442383,25.260663986206055,25.410648345947266,24.773210525512695,25.101301193237305,25.776227951049805,25.766857147216797,25.792638778686523,26.184009552001953,26.200407028198242,26.06682777404785,26.19806480407715,26.146509170532227,26.120729446411133,25.900434494018555,25.659061431884766,25.75514030456543,25.570009231567383,25.766857147216797,26.019956588745117,26.27539825439453,26.704259872436523,26.55193519592285,26.994853973388672,26.994853973388672,27.142501831054688,27.17765235900879,27.334665298461914,27.407310485839844,27.433094024658203,27.252641677856445,27.306541442871094,27.479961395263672,27.3627872467041,27.35576057434082,27.142501831054688,27.219833374023438,27.18936538696289,27.32763671875,27.632295608520508,27.885385513305664,27.913509368896484,28.063501358032227,27.946321487426758,27.89710807800293,28.12208366394043,28.11973762512207,28.070528030395508,28.12208366394043,28.140830993652344,28.115055084228516,28.56266212463379,28.576723098754883,28.579072952270508,28.504072189331055,28.438451766967773,30.172649383544922,30.12109375,30.24999237060547,30.53354835510254,30.824138641357422,30.943668365478516,31.167261123657227,31.096651077270508,31.372032165527344,31.779216766357422,31.894550323486328,31.856897354125977,31.9439697265625,32.174625396728516,32.27114486694336,32.13462829589844,32.16522216796875,32.2287712097168,32.24289321899414,32.901920318603516,32.706573486328125,32.89957046508789,32.79600524902344,32.8383674621582,32.715980529785156,32.640663146972656,32.748939514160156,32.763038635253906,32.713619232177734,33.05961608886719,33.11374282836914,32.94898223876953,33.29498291015625,32.91368103027344,33.28557205200195,33.16788101196289,33.10198211669922,33.158470153808594,33.84573745727539,33.92105484008789,33.87632369995117,33.81278991699219,33.822200775146484,34.07404708862305,33.897525787353516,33.81278991699219,33.73747634887695,33.69746017456055,33.33498764038086,33.375,33.198486328125,33.38206481933594,33.23377990722656,33.111392974853516,33.52564239501953,33.48563003540039,33.808074951171875,34.017555236816406,33.8175048828125,33.843387603759766,33.810428619384766,34.500057220458984,34.71895217895508,34.613037109375,34.48829650878906,35.06022644042969,36.01346969604492,36.2441291809082,36.07231140136719,36.38426971435547,36.89240264892578,36.79786682128906,36.74350357055664,35.50981903076172,36.051029205322266,36.17393493652344,36.39372634887695,36.34882736206055,36.240108489990234,36.365360260009766,36.303924560546875,36.31809997558594,36.10303497314453,36.2022819519043,36.7387809753418,36.37954330444336,36.5024299621582,36.719871520996094,36.630062103271484,35.20967102050781,34.36830520629883,34.644832611083984,34.30686569213867,34.10124206542969,33.62384796142578,34.58574295043945,34.27140808105469,34.47465515136719,34.41794204711914,34.571556091308594,34.46284103393555,33.968894958496094,34.465213775634766,33.95708084106445,34.03744125366211,33.9145393371582,34.05397415161133,33.73255920410156,34.07524490356445,34.28322982788086,34.3942985534668,34.443939208984375,34.9237060546875,35.223846435546875,35.34675216674805,35.469642639160156,35.691802978515625,35.53109359741211,35.514556884765625,35.944679260253906,36.09830093383789,36.26846694946289,35.58308029174805,35.33256530761719,35.15058135986328,35.46255874633789,37.13819122314453,36.76713943481445,36.960933685302734,37.53288269042969,37.83302307128906,38.06463623046875,36.85221862792969,37.36470031738281,37.92702102661133,38.34225082397461,38.188026428222656,37.45486068725586,37.369441986083984,37.3006477355957,37.91040802001953,37.95786666870117,37.78941345214844,37.92939758300781,38.31139373779297,38.65306091308594,38.75746536254883,38.911678314208984,38.923553466796875,38.45612335205078,38.415794372558594,38.26156997680664,37.6375617980957,38.31851577758789,38.16666030883789,37.87956619262695,37.55451583862305,37.93414306640625,37.64704513549805,37.661285400390625,37.03015899658203,36.3942756652832,36.03838348388672,35.7204475402832,36.334964752197266,36.593589782714844,36.36818313598633,36.567481994628906,36.49393081665039,36.65290069580078,36.41564178466797,36.86882019042969,36.84745788574219,36.9755973815918,36.98981857299805,37.14405059814453,37.013553619384766,37.24843978881836,37.93414306640625,38.07413101196289,37.905670166015625,37.0087890625,37.07286834716797,37.05389404296875,37.274539947509766,37.1108283996582,37.34810256958008,38.686283111572266,39.557044982910156,40.10749816894531,39.597389221191406,39.8868408203125,40.92844009399414,41.343658447265625,41.476524353027344,41.81581115722656,41.73040771484375,41.59229278564453,41.42560958862305,40.79935836791992,40.26121139526367,40.74220275878906,40.51599884033203,40.47551727294922,41.22797393798828,41.66135025024414,41.66373062133789,41.45418167114258,41.2113037109375,40.3564567565918,40.92080307006836,40.73030471801758,40.43265151977539,40.394561767578125,40.244537353515625,40.318359375,40.330257415771484,41.116058349609375,40.88507843017578,41.020809173583984,41.00889205932617,41.42560958862305,42.00900650024414,41.56134033203125,41.51609420776367,41.673255920410156,41.673255920410156,40.61601257324219,40.62315368652344,40.737449645996094,40.29692459106445,41.0184211730957,41.01127624511719,41.2017707824707,41.67087173461914,41.51609420776367,41.51133728027344,41.501808166503906,41.737545013427734,42.168540954589844,41.95423889160156,42.64716339111328,42.68526840209961,42.49476623535156,42.14711380004883,42.15663528442383,41.485145568847656,40.74459457397461,40.83984375,39.99452209472656,39.75877380371094,39.868309020996094,39.95165252685547,38.218143463134766,37.263282775878906,38.82058334350586,37.98955154418945,36.94420623779297,37.396080017089844,38.90235900878906,39.29206848144531,40.01651382446289,41.36020278930664,41.22630310058594,41.08763122558594,40.90115737915039,41.24304962158203,41.9603157043457,42.789955139160156,42.651283264160156,42.586734771728516,41.84077072143555,42.130069732666016,42.275917053222656,42.24005126953125,41.84794235229492,42.30461120605469,43.03144073486328,43.44746398925781,43.0290641784668,42.66324234008789,42.71343994140625,42.56282043457031,41.91249465942383,41.89814758300781,40.94895935058594,40.37036895751953,39.43552780151367,41.3076057434082,40.24842834472656,39.80372619628906,40.11454391479492,39.85154342651367,40.260379791259766,41.03025817871094,41.31477355957031,40.25798797607422,40.65727233886719,41.42236328125,41.228702545166016,41.63515090942383,41.776214599609375,42.03683090209961,42.61542510986328,42.51979064941406,41.31477355957031,39.62200927734375,39.507259368896484,38.95734786987305,39.12710189819336,39.26338195800781,38.809112548828125,39.51203536987305,40.43014144897461,42.21614456176758,42.29265213012695,43.951934814453125,44.26993179321289,44.482723236083984,44.795928955078125,45.436683654785156,45.26388168334961,45.158267974853516,44.74785232543945,45.16547775268555,44.87984848022461,44.71664810180664,45.03347396850586,44.9206657409668,45.208675384521484,45.158267974853516,45.26148223876953,45.098270416259766,45.002262115478516,44.85105514526367,45.65989685058594,46.04151916503906,46.39673614501953,46.55754470825195,46.4327392578125,46.010318756103516,45.89751434326172,46.14951705932617,45.770301818847656,45.79430389404297,45.323883056640625,45.29987716674805,44.567840576171875,44.76225662231445,44.51264190673828,44.38304138183594,43.72299575805664,44.265419006347656,44.200626373291016,44.52223587036133,44.42863082885742,44.92544937133789,44.14302062988281,44.498233795166016,45.11507034301758,45.74150848388672,45.68630599975586,45.09347152709961,45.8494987487793,45.921512603759766,45.82070541381836,45.95030975341797,45.69830322265625,46.05351638793945,45.94791030883789,45.988712310791016,46.32233428955078,46.759151458740234,46.61274719238281,45.83749771118164,45.58069610595703,45.67190170288086,48.36241912841797,49.77610397338867,49.92011642456055,50.179325103759766,49.70889663696289,49.742496490478516,50.13372039794922,49.98439025878906,50.307132720947266,50.51908874511719,50.637107849121094,51.378936767578125,52.40497589111328,51.89436721801758,51.7932014465332,51.79561996459961,51.90159606933594,52.06296920776367,52.49168014526367,52.91558837890625,53.70558166503906,54.199344635009766,54.825557708740234,55.00137710571289,54.64250564575195,53.7344856262207,53.300960540771484,52.58561325073242,53.915138244628906,53.24556350708008,54.53172302246094,53.912723541259766,52.477237701416016,52.56394577026367,52.595245361328125,52.99506378173828,52.424251556396484,53.17810821533203,53.515316009521484,53.088993072509766,54.18006896972656,54.37033462524414,54.7364387512207,55.222965240478516,55.89494705200195,54.912269592285156,54.0211067199707,53.89585876464844,54.64250564575195,52.11113357543945,51.65110397338867,53.49604415893555,52.35199737548828,53.50567626953125,53.27446365356445,52.02924728393555,52.821651458740234,53.14439392089844,53.6453742980957,51.80525588989258,52.939674377441406,52.09668731689453,51.11881637573242,51.37412643432617,52.7132682800293,53.52253723144531,49.97235107421875,48.55371856689453,49.07878494262695,50.56726837158203,50.39082336425781,49.419212341308594,46.92976760864258,46.460872650146484,45.14847946166992,46.2626838684082,46.77507400512695,44.92128372192383,42.7750358581543,42.72670364379883,41.6414909362793,42.20463943481445,42.11280059814453,43.732154846191406,43.39619827270508,43.16175079345703,44.669921875,42.70494842529297,42.22880935668945,40.723060607910156,40.991336822509766,40.756893157958984,40.87049102783203,41.31761932373047,39.99555587768555,39.623355865478516,40.13816452026367,38.88617706298828,37.90489959716797,36.43056106567383,35.48795700073242,37.987083435058594,37.74055099487305,37.7598876953125,38.124847412109375,38.16835403442383,34.36650848388672,35.83358383178711,35.75382995605469,36.43539810180664,37.054141998291016,37.172576904296875,36.807613372802734,36.25413131713867,36.996131896972656,37.448097229003906,37.67046356201172,37.902488708496094,37.05173110961914,37.20157241821289,36.90670394897461,38.129676818847656,37.77680206298828,37.38525390625,39.939971923828125,40.22758483886719,40.24692153930664,41.390132904052734,42.098289489746094,42.11280059814453,41.31520462036133,41.36375427246094,41.125877380371094,41.480255126953125,41.30792236328125,41.45842742919922,41.36617660522461,41.489967346191406,41.75697708129883,41.521522521972656,41.98514175415039,42.290985107421875,42.31526184082031,42.44633483886719,42.028839111328125,42.470603942871094,42.6842155456543,42.60653305053711,42.36138153076172,41.871063232421875,41.970577239990234,43.42453384399414,43.91243362426758,44.106605529785156,44.596923828125,45.17705535888672,45.63824462890625,45.27657699584961,45.6722297668457,47.354347229003906,46.373714447021484,45.81300354003906,45.33967971801758,45.747467041015625,45.80815124511719,46.106712341308594,46.419837951660156,47.09463119506836,47.41746139526367,47.49998474121094,47.817962646484375,48.570430755615234,48.4247932434082,48.69664001464844,48.291290283203125,48.271873474121094,48.359256744384766,48.364105224609375,49.305908203125,49.483097076416016,49.645729064941406,50.36178207397461,50.28410339355469,49.8277702331543,49.58990478515625,49.665138244628906,48.70878982543945,51.09968948364258,50.767147064208984,51.398250579833984,50.604515075683594,49.24036407470703,49.25007629394531,48.72093200683594,48.04596710205078,45.25356674194336,45.969940185546875,46.520626068115234,46.315940856933594,46.052791595458984,44.61272048950195,45.46798324584961,44.53718566894531,43.776954650878906,43.60881805419922,43.42851257324219,43.22138595581055,43.445560455322266,42.65851974487305,42.22723388671875,43.77207946777344,44.47870635986328,45.13172912597656,46.33300018310547,46.92510986328125,47.46847915649414,47.31741714477539,47.30765914916992,46.9640998840332,47.24431610107422,48.355430603027344,48.21410369873047,48.60152816772461,48.43583679199219,48.387107849121094,47.65366744995117,48.684383392333984,48.66975402832031,48.22627639770508,49.11079406738281,49.39830780029297,49.80767059326172,49.763816833496094,48.73798370361328,49.035255432128906,49.5201416015625,49.15952682495117,49.537208557128906,50.00260925292969,49.82960510253906,49.54939270019531,50.11225509643555,49.364200592041016,50.492374420166016,50.88711166381836,50.8456916809082,50.44364547729492,50.619075775146484,51.09178161621094,50.87248992919922,51.91051483154297,50.787208557128906,49.712646484375,47.110294342041016,48.00210952758789,48.49917984008789,49.56887435913086,49.16041564941406,49.03567123413086,51.11225128173828,49.59090042114258,49.3438606262207,50.50810623168945,51.44979476928711,51.45223617553711,52.00990676879883,51.96588134765625,49.56399154663086,50.50566482543945,49.93576431274414,50.2708625793457,51.12203598022461,51.055999755859375,50.312435150146484,51.16606521606445,52.166446685791016,52.16155242919922,52.38413619995117,53.00294876098633,54.68818664550781,54.56588363647461,53.50434875488281,53.78563690185547,53.98130798339844,54.487606048583984,54.044898986816406,53.2548713684082,53.49702453613281,53.242637634277344,54.06201934814453,53.78318786621094,53.52147674560547,54.781124114990234,54.932762145996094,53.55571746826172,54.01066589355469,55.52467346191406,55.536903381347656,54.886295318603516,55.529571533203125,56.27801513671875,57.77492141723633,57.69176483154297,57.55723571777344,57.324867248535156,57.54745101928711,57.82383728027344,58.826663970947266,58.692142486572266,59.47972106933594,59.57756042480469,60.31133270263672,60.91547393798828,59.506622314453125,59.49928665161133,60.84454345703125,62.57136154174805,62.98227310180664,62.89177703857422,62.918670654296875,63.644832611083984,63.819026947021484,64.32439422607422,64.26551055908203,64.88128662109375,64.43233489990234,65.19775390625,65.52648162841797,65.3277816772461,64.5672607421875,64.27776336669922,64.22135162353516,65.34739685058594,64.83711242675781,65.70801544189453,65.56329345703125,64.80523681640625,63.649757385253906,64.21154022216797,65.15359497070312,66.41211700439453,65.48233795166016,65.86503601074219,66.42683410644531,66.59609985351562,67.50135803222656,68.6568374633789,68.7917709350586,68.62740325927734,68.69608306884766,68.55380249023438,69.6724853515625,69.73871612548828,71.12236785888672,71.09537506103516,71.51734161376953,72.03988647460938],\"type\":\"scatter\",\"xaxis\":\"x\",\"yaxis\":\"y\"},{\"name\":\"Anomaly 0\",\"x\":[\"2018-08-02T00:00:00.000000000\",\"2018-08-03T00:00:00.000000000\",\"2018-08-06T00:00:00.000000000\",\"2018-08-07T00:00:00.000000000\",\"2018-08-08T00:00:00.000000000\",\"2018-08-09T00:00:00.000000000\",\"2018-08-10T00:00:00.000000000\",\"2018-08-13T00:00:00.000000000\",\"2018-08-14T00:00:00.000000000\",\"2018-08-15T00:00:00.000000000\",\"2018-08-16T00:00:00.000000000\",\"2018-08-17T00:00:00.000000000\"],\"y\":[49.77610778808594,49.92010498046875,50.1793212890625,49.70890808105469,49.742496490478516,50.133724212646484,49.98439407348633,50.3071403503418,50.519081115722656,50.637107849121094,51.378944396972656,52.40497589111328],\"type\":\"scatter\",\"xaxis\":\"x\",\"yaxis\":\"y\"}],                        {\"template\":{\"data\":{\"bar\":[{\"error_x\":{\"color\":\"#2a3f5f\"},\"error_y\":{\"color\":\"#2a3f5f\"},\"marker\":{\"line\":{\"color\":\"#E5ECF6\",\"width\":0.5},\"pattern\":{\"fillmode\":\"overlay\",\"size\":10,\"solidity\":0.2}},\"type\":\"bar\"}],\"barpolar\":[{\"marker\":{\"line\":{\"color\":\"#E5ECF6\",\"width\":0.5},\"pattern\":{\"fillmode\":\"overlay\",\"size\":10,\"solidity\":0.2}},\"type\":\"barpolar\"}],\"carpet\":[{\"aaxis\":{\"endlinecolor\":\"#2a3f5f\",\"gridcolor\":\"white\",\"linecolor\":\"white\",\"minorgridcolor\":\"white\",\"startlinecolor\":\"#2a3f5f\"},\"baxis\":{\"endlinecolor\":\"#2a3f5f\",\"gridcolor\":\"white\",\"linecolor\":\"white\",\"minorgridcolor\":\"white\",\"startlinecolor\":\"#2a3f5f\"},\"type\":\"carpet\"}],\"choropleth\":[{\"colorbar\":{\"outlinewidth\":0,\"ticks\":\"\"},\"type\":\"choropleth\"}],\"contour\":[{\"colorbar\":{\"outlinewidth\":0,\"ticks\":\"\"},\"colorscale\":[[0.0,\"#0d0887\"],[0.1111111111111111,\"#46039f\"],[0.2222222222222222,\"#7201a8\"],[0.3333333333333333,\"#9c179e\"],[0.4444444444444444,\"#bd3786\"],[0.5555555555555556,\"#d8576b\"],[0.6666666666666666,\"#ed7953\"],[0.7777777777777778,\"#fb9f3a\"],[0.8888888888888888,\"#fdca26\"],[1.0,\"#f0f921\"]],\"type\":\"contour\"}],\"contourcarpet\":[{\"colorbar\":{\"outlinewidth\":0,\"ticks\":\"\"},\"type\":\"contourcarpet\"}],\"heatmap\":[{\"colorbar\":{\"outlinewidth\":0,\"ticks\":\"\"},\"colorscale\":[[0.0,\"#0d0887\"],[0.1111111111111111,\"#46039f\"],[0.2222222222222222,\"#7201a8\"],[0.3333333333333333,\"#9c179e\"],[0.4444444444444444,\"#bd3786\"],[0.5555555555555556,\"#d8576b\"],[0.6666666666666666,\"#ed7953\"],[0.7777777777777778,\"#fb9f3a\"],[0.8888888888888888,\"#fdca26\"],[1.0,\"#f0f921\"]],\"type\":\"heatmap\"}],\"heatmapgl\":[{\"colorbar\":{\"outlinewidth\":0,\"ticks\":\"\"},\"colorscale\":[[0.0,\"#0d0887\"],[0.1111111111111111,\"#46039f\"],[0.2222222222222222,\"#7201a8\"],[0.3333333333333333,\"#9c179e\"],[0.4444444444444444,\"#bd3786\"],[0.5555555555555556,\"#d8576b\"],[0.6666666666666666,\"#ed7953\"],[0.7777777777777778,\"#fb9f3a\"],[0.8888888888888888,\"#fdca26\"],[1.0,\"#f0f921\"]],\"type\":\"heatmapgl\"}],\"histogram\":[{\"marker\":{\"pattern\":{\"fillmode\":\"overlay\",\"size\":10,\"solidity\":0.2}},\"type\":\"histogram\"}],\"histogram2d\":[{\"colorbar\":{\"outlinewidth\":0,\"ticks\":\"\"},\"colorscale\":[[0.0,\"#0d0887\"],[0.1111111111111111,\"#46039f\"],[0.2222222222222222,\"#7201a8\"],[0.3333333333333333,\"#9c179e\"],[0.4444444444444444,\"#bd3786\"],[0.5555555555555556,\"#d8576b\"],[0.6666666666666666,\"#ed7953\"],[0.7777777777777778,\"#fb9f3a\"],[0.8888888888888888,\"#fdca26\"],[1.0,\"#f0f921\"]],\"type\":\"histogram2d\"}],\"histogram2dcontour\":[{\"colorbar\":{\"outlinewidth\":0,\"ticks\":\"\"},\"colorscale\":[[0.0,\"#0d0887\"],[0.1111111111111111,\"#46039f\"],[0.2222222222222222,\"#7201a8\"],[0.3333333333333333,\"#9c179e\"],[0.4444444444444444,\"#bd3786\"],[0.5555555555555556,\"#d8576b\"],[0.6666666666666666,\"#ed7953\"],[0.7777777777777778,\"#fb9f3a\"],[0.8888888888888888,\"#fdca26\"],[1.0,\"#f0f921\"]],\"type\":\"histogram2dcontour\"}],\"mesh3d\":[{\"colorbar\":{\"outlinewidth\":0,\"ticks\":\"\"},\"type\":\"mesh3d\"}],\"parcoords\":[{\"line\":{\"colorbar\":{\"outlinewidth\":0,\"ticks\":\"\"}},\"type\":\"parcoords\"}],\"pie\":[{\"automargin\":true,\"type\":\"pie\"}],\"scatter\":[{\"marker\":{\"colorbar\":{\"outlinewidth\":0,\"ticks\":\"\"}},\"type\":\"scatter\"}],\"scatter3d\":[{\"line\":{\"colorbar\":{\"outlinewidth\":0,\"ticks\":\"\"}},\"marker\":{\"colorbar\":{\"outlinewidth\":0,\"ticks\":\"\"}},\"type\":\"scatter3d\"}],\"scattercarpet\":[{\"marker\":{\"colorbar\":{\"outlinewidth\":0,\"ticks\":\"\"}},\"type\":\"scattercarpet\"}],\"scattergeo\":[{\"marker\":{\"colorbar\":{\"outlinewidth\":0,\"ticks\":\"\"}},\"type\":\"scattergeo\"}],\"scattergl\":[{\"marker\":{\"colorbar\":{\"outlinewidth\":0,\"ticks\":\"\"}},\"type\":\"scattergl\"}],\"scattermapbox\":[{\"marker\":{\"colorbar\":{\"outlinewidth\":0,\"ticks\":\"\"}},\"type\":\"scattermapbox\"}],\"scatterpolar\":[{\"marker\":{\"colorbar\":{\"outlinewidth\":0,\"ticks\":\"\"}},\"type\":\"scatterpolar\"}],\"scatterpolargl\":[{\"marker\":{\"colorbar\":{\"outlinewidth\":0,\"ticks\":\"\"}},\"type\":\"scatterpolargl\"}],\"scatterternary\":[{\"marker\":{\"colorbar\":{\"outlinewidth\":0,\"ticks\":\"\"}},\"type\":\"scatterternary\"}],\"surface\":[{\"colorbar\":{\"outlinewidth\":0,\"ticks\":\"\"},\"colorscale\":[[0.0,\"#0d0887\"],[0.1111111111111111,\"#46039f\"],[0.2222222222222222,\"#7201a8\"],[0.3333333333333333,\"#9c179e\"],[0.4444444444444444,\"#bd3786\"],[0.5555555555555556,\"#d8576b\"],[0.6666666666666666,\"#ed7953\"],[0.7777777777777778,\"#fb9f3a\"],[0.8888888888888888,\"#fdca26\"],[1.0,\"#f0f921\"]],\"type\":\"surface\"}],\"table\":[{\"cells\":{\"fill\":{\"color\":\"#EBF0F8\"},\"line\":{\"color\":\"white\"}},\"header\":{\"fill\":{\"color\":\"#C8D4E3\"},\"line\":{\"color\":\"white\"}},\"type\":\"table\"}]},\"layout\":{\"annotationdefaults\":{\"arrowcolor\":\"#2a3f5f\",\"arrowhead\":0,\"arrowwidth\":1},\"autotypenumbers\":\"strict\",\"coloraxis\":{\"colorbar\":{\"outlinewidth\":0,\"ticks\":\"\"}},\"colorscale\":{\"diverging\":[[0,\"#8e0152\"],[0.1,\"#c51b7d\"],[0.2,\"#de77ae\"],[0.3,\"#f1b6da\"],[0.4,\"#fde0ef\"],[0.5,\"#f7f7f7\"],[0.6,\"#e6f5d0\"],[0.7,\"#b8e186\"],[0.8,\"#7fbc41\"],[0.9,\"#4d9221\"],[1,\"#276419\"]],\"sequential\":[[0.0,\"#0d0887\"],[0.1111111111111111,\"#46039f\"],[0.2222222222222222,\"#7201a8\"],[0.3333333333333333,\"#9c179e\"],[0.4444444444444444,\"#bd3786\"],[0.5555555555555556,\"#d8576b\"],[0.6666666666666666,\"#ed7953\"],[0.7777777777777778,\"#fb9f3a\"],[0.8888888888888888,\"#fdca26\"],[1.0,\"#f0f921\"]],\"sequentialminus\":[[0.0,\"#0d0887\"],[0.1111111111111111,\"#46039f\"],[0.2222222222222222,\"#7201a8\"],[0.3333333333333333,\"#9c179e\"],[0.4444444444444444,\"#bd3786\"],[0.5555555555555556,\"#d8576b\"],[0.6666666666666666,\"#ed7953\"],[0.7777777777777778,\"#fb9f3a\"],[0.8888888888888888,\"#fdca26\"],[1.0,\"#f0f921\"]]},\"colorway\":[\"#636efa\",\"#EF553B\",\"#00cc96\",\"#ab63fa\",\"#FFA15A\",\"#19d3f3\",\"#FF6692\",\"#B6E880\",\"#FF97FF\",\"#FECB52\"],\"font\":{\"color\":\"#2a3f5f\"},\"geo\":{\"bgcolor\":\"white\",\"lakecolor\":\"white\",\"landcolor\":\"#E5ECF6\",\"showlakes\":true,\"showland\":true,\"subunitcolor\":\"white\"},\"hoverlabel\":{\"align\":\"left\"},\"hovermode\":\"closest\",\"mapbox\":{\"style\":\"light\"},\"paper_bgcolor\":\"white\",\"plot_bgcolor\":\"#E5ECF6\",\"polar\":{\"angularaxis\":{\"gridcolor\":\"white\",\"linecolor\":\"white\",\"ticks\":\"\"},\"bgcolor\":\"#E5ECF6\",\"radialaxis\":{\"gridcolor\":\"white\",\"linecolor\":\"white\",\"ticks\":\"\"}},\"scene\":{\"xaxis\":{\"backgroundcolor\":\"#E5ECF6\",\"gridcolor\":\"white\",\"gridwidth\":2,\"linecolor\":\"white\",\"showbackground\":true,\"ticks\":\"\",\"zerolinecolor\":\"white\"},\"yaxis\":{\"backgroundcolor\":\"#E5ECF6\",\"gridcolor\":\"white\",\"gridwidth\":2,\"linecolor\":\"white\",\"showbackground\":true,\"ticks\":\"\",\"zerolinecolor\":\"white\"},\"zaxis\":{\"backgroundcolor\":\"#E5ECF6\",\"gridcolor\":\"white\",\"gridwidth\":2,\"linecolor\":\"white\",\"showbackground\":true,\"ticks\":\"\",\"zerolinecolor\":\"white\"}},\"shapedefaults\":{\"line\":{\"color\":\"#2a3f5f\"}},\"ternary\":{\"aaxis\":{\"gridcolor\":\"white\",\"linecolor\":\"white\",\"ticks\":\"\"},\"baxis\":{\"gridcolor\":\"white\",\"linecolor\":\"white\",\"ticks\":\"\"},\"bgcolor\":\"#E5ECF6\",\"caxis\":{\"gridcolor\":\"white\",\"linecolor\":\"white\",\"ticks\":\"\"}},\"title\":{\"x\":0.05},\"xaxis\":{\"automargin\":true,\"gridcolor\":\"white\",\"linecolor\":\"white\",\"ticks\":\"\",\"title\":{\"standoff\":15},\"zerolinecolor\":\"white\",\"zerolinewidth\":2},\"yaxis\":{\"automargin\":true,\"gridcolor\":\"white\",\"linecolor\":\"white\",\"ticks\":\"\",\"title\":{\"standoff\":15},\"zerolinecolor\":\"white\",\"zerolinewidth\":2}}},\"xaxis\":{\"anchor\":\"y\",\"domain\":[0.0,0.94]},\"yaxis\":{\"anchor\":\"x\",\"domain\":[0.0,1.0]},\"yaxis2\":{\"anchor\":\"x\",\"overlaying\":\"y\",\"side\":\"right\"}},                        {\"responsive\": true}                    ).then(function(){\n",
              "                            \n",
              "var gd = document.getElementById('1131f6f9-3d03-4a3a-9e28-26d91e3786ec');\n",
              "var x = new MutationObserver(function (mutations, observer) {{\n",
              "        var display = window.getComputedStyle(gd).display;\n",
              "        if (!display || display === 'none') {{\n",
              "            console.log([gd, 'removed!']);\n",
              "            Plotly.purge(gd);\n",
              "            observer.disconnect();\n",
              "        }}\n",
              "}});\n",
              "\n",
              "// Listen for the removal of the full notebook cells\n",
              "var notebookContainer = gd.closest('#notebook-container');\n",
              "if (notebookContainer) {{\n",
              "    x.observe(notebookContainer, {childList: true});\n",
              "}}\n",
              "\n",
              "// Listen for the clearing of the current output cell\n",
              "var outputEl = gd.closest('.output');\n",
              "if (outputEl) {{\n",
              "    x.observe(outputEl, {childList: true});\n",
              "}}\n",
              "\n",
              "                        })                };                            </script>        </div>\n",
              "</body>\n",
              "</html>"
            ]
          },
          "metadata": {}
        }
      ],
      "source": [
        "import plotly.graph_objects as go\n",
        "from plotly.subplots import make_subplots\n",
        "\n",
        "fig = make_subplots(specs=[[{\"secondary_y\": True}]])\n",
        "fig.add_trace(go.Scatter(x=hist.index,y=hist['Close'],name='Price'),secondary_y=False)\n",
        "for i in range(len(anomalies_hist)):\n",
        "  fig.add_trace(go.Scatter(x=anomalies_hist[i].index.values,y=anomalies_hist[i]['Close'],name='Anomaly ' + str(i)),secondary_y=False)\n",
        "fig.show()"
      ]
    }
  ],
  "metadata": {
    "colab": {
      "collapsed_sections": [],
      "provenance": []
    },
    "kernelspec": {
      "display_name": "Python 3",
      "name": "python3"
    },
    "language_info": {
      "name": "python"
    }
  },
  "nbformat": 4,
  "nbformat_minor": 0
}